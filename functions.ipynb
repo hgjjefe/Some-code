{
 "cells": [
  {
   "cell_type": "code",
   "execution_count": 6,
   "metadata": {},
   "outputs": [],
   "source": [
    "import math\n"
   ]
  },
  {
   "cell_type": "code",
   "execution_count": 7,
   "metadata": {},
   "outputs": [],
   "source": [
    "def bind(x): # return binomial distribution of size x\n",
    "    mist=[ ]\n",
    "    if x==0:    \n",
    "        mist.append(1)\n",
    "    else:\n",
    "        for i in range(0,x+1):\n",
    "            mist.append(math.comb(x,i))\n",
    "    return mist"
   ]
  },
  {
   "cell_type": "code",
   "execution_count": 8,
   "metadata": {},
   "outputs": [],
   "source": [
    "def pascal(x): # return pascal's triangle of size x\n",
    "    for i in range(0,x+1):\n",
    "        print(bind(i))"
   ]
  },
  {
   "cell_type": "code",
   "execution_count": 9,
   "metadata": {},
   "outputs": [],
   "source": [
    "#1\n",
    "def prime(x): # return whether x is prime (slow)\n",
    "    if x<=1:\n",
    "        return 0\n",
    "    for i in range(2,int(x**0.5)+1):\n",
    "        if x%i==0:\n",
    "            return 0\n",
    "    return 1\n",
    "\n",
    "#2\n",
    "def is_prime(n):         #version 2 (faster)\n",
    "    if n == 2 or n == 3: return True\n",
    "    if n < 2 or n%2 == 0: return False\n",
    "    if n < 9: return True\n",
    "    if n%3 == 0: return False\n",
    "    r = int(n**0.5)\n",
    "  # since all primes > 3 are of the form 6n ± 1\n",
    "  # start with f=5 (which is prime)\n",
    "  # and test f, f+2 for being prime\n",
    "  # then loop by 6. \n",
    "    f = 5\n",
    "    while f <= r:\n",
    "        if n % f == 0: return False\n",
    "        if n % (f+2) == 0: return False\n",
    "        f += 6\n",
    "    return True   \n",
    "\n",
    "#3 (NEED IMPORT OF MODULE)\n",
    "#from sympy import isprime  \n",
    "#isprime(x)\n",
    "\n",
    "#4  (fastest if check prime from 0 to x)\n",
    "def sieve(x):   # Sieve of Euler , returns a boolean list of whether the number is prime from 0 to x\n",
    "    LIM = x\n",
    "    primes = [False] * 2 + [True] * (LIM - 1)\n",
    "    for div in range(2, int(LIM ** 0.5) + 1):\n",
    "        if primes[div]:\n",
    "            primes[div ** 2:: div] = [False]*((LIM - div ** 2)//div + 1)\n",
    "    return primes\n",
    "\n",
    "#5: return list of primes from 0 to x\n",
    "def primes(x):\n",
    "    prist = sieve(x)\n",
    "    res = [i for i in range(x+1) if prist[i]]\n",
    "    return res"
   ]
  },
  {
   "cell_type": "code",
   "execution_count": 10,
   "metadata": {},
   "outputs": [],
   "source": [
    "def primf(x): # return list of prime factors of x\n",
    "    nist=[ ]\n",
    "    if x<=1:\n",
    "        return nist\n",
    "    y=x\n",
    "    while prime(y)==0:        \n",
    "        for i in range(2,int(y**0.5)+1):\n",
    "            if y%i==0:\n",
    "                nist.append(i)\n",
    "                y/=i\n",
    "                break\n",
    "    else:\n",
    "        nist.append(int(y))\n",
    "    return nist"
   ]
  },
  {
   "cell_type": "code",
   "execution_count": 11,
   "metadata": {},
   "outputs": [],
   "source": [
    "def fact(x): # return list of factors of x\n",
    "    fist=[1,x]\n",
    "    for i in range(2,int(x**0.5)+1):\n",
    "        if x%i==0:\n",
    "            fist.append(i)\n",
    "            fist.append(int(x/i))\n",
    "    if int(x**0.5)**2==x:\n",
    "        fist.pop()\n",
    "    fist.sort()\n",
    "    return fist\n",
    "\n",
    "def fact2(x): # return list of factors pairs of x\n",
    "    fist=[(1,x)]\n",
    "    for i in range(2,int(x**0.5)+1):\n",
    "        if x%i==0:\n",
    "            fist.append((i,int(x/i)))\n",
    "    return fist"
   ]
  },
  {
   "cell_type": "code",
   "execution_count": 12,
   "metadata": {},
   "outputs": [],
   "source": [
    "def sit(x): # return sum of digits of x\n",
    "    x=str(x)\n",
    "    s=0\n",
    "    for i in x:\n",
    "        s+=int(i)\n",
    "    return s"
   ]
  },
  {
   "cell_type": "code",
   "execution_count": 3,
   "metadata": {},
   "outputs": [],
   "source": [
    "#1  My original version of permutations function\n",
    "def perm(x): # return all permutations of x digits (works from 1 to 9)\n",
    "    s=''\n",
    "    cast=[ ]\n",
    "    last=[ ]\n",
    "    last2=[ ]\n",
    "    aoa=['1']\n",
    "    if x==1:\n",
    "        cast=[1]\n",
    "        print(cast)\n",
    "        return cast\n",
    "    else:\n",
    "        pass\n",
    "    for i in range(0,2):\n",
    "        bob=aoa.copy()\n",
    "        bob.insert(i,'2')\n",
    "        last2.append(bob)\n",
    "    last=last2.copy()\n",
    "    last2.clear()\n",
    "    for k in range(3,x+1):\n",
    "        for i in range(0,len(last)):\n",
    "            for j in range(0,k):\n",
    "                bob=last[i].copy()\n",
    "                bob.insert(j,str(k))\n",
    "                last2.append(bob)\n",
    "        last=last2.copy()\n",
    "        last2.clear()\n",
    "    for i in last:\n",
    "        s=''\n",
    "        for j in i:\n",
    "            s+=j\n",
    "        s=int(s)\n",
    "        cast.append(s)\n",
    "    return cast\n",
    "\n",
    "#2  stolen from CodeWars\n",
    "def permutations(s):       # return all permutations of a string  s \n",
    "    if len(s) == 0:\n",
    "        return []\n",
    "    elif len(s) == 1:\n",
    "        return [s]\n",
    "    else:\n",
    "        return set(s[i]+p for i in range(len(s)) for p in permutations(s[:i] + s[i+1:]))\n",
    "\n",
    "#3  \n",
    "def permutations2(string):\n",
    "    if len(string) == 1: return set(string)\n",
    "    first = string[0]\n",
    "    rest = permutations2(string[1:])\n",
    "    result = set()\n",
    "    for i in range(0, len(string)):\n",
    "        for p in rest:\n",
    "            result.add(p[0:i] + first + p[i:])\n",
    "    return result\n",
    "\n",
    "#4 'Best practices'\n",
    "#import itertools\n",
    "\n",
    "#def permutations3(string):\n",
    "#    return list(\"\".join(p) for p in set(itertools.permutations(string)))"
   ]
  },
  {
   "cell_type": "code",
   "execution_count": 2,
   "metadata": {},
   "outputs": [],
   "source": [
    "def alphum(x): # return the alphabetical value of English word x\n",
    "    alph=['0', 'A', 'B', 'C', 'D', 'E', 'F', 'G', 'H', 'I', 'J', 'K', 'L', 'M', 'N', 'O', 'P', 'Q', 'R', 'S', 'T', 'U', 'V', 'W', 'X', 'Y', 'Z']\n",
    "    return sum(alph.index(i) for i in x.upper())"
   ]
  },
  {
   "cell_type": "code",
   "execution_count": 9,
   "metadata": {},
   "outputs": [],
   "source": [
    "def strist(x): # Turns string to list\n",
    "    nist=[]\n",
    "    for i in x:\n",
    "        nist.append(i)\n",
    "    return nist\n",
    "\n",
    "def listr(x):  # Turns list to string\n",
    "    x = [str(i) for i in x]\n",
    "    return ' , '.join(x)\n",
    "\n",
    "def strint(x): # Turns string to integer for all items in list\n",
    "    for i in range(len(x)):\n",
    "        x[i]=int(x[i])\n",
    "    return x\n",
    "\n",
    "def intstr(x):  # Turns integer to string for all items in list\n",
    "    for i in range(len(x)):\n",
    "        x[i]=str(x[i])\n",
    "    return x\n",
    "\n",
    "def matint(x):     # Turn a raw matrix string from Project Euler to a 2 layer list with int elements\n",
    "    x=x.split()\n",
    "    for i in range(len(x)):\n",
    "        x[i]=x[i].split(',')\n",
    "    for i in range(len(x)):\n",
    "        x[i]=strint(x[i])\n",
    "    return x"
   ]
  },
  {
   "cell_type": "code",
   "execution_count": 16,
   "metadata": {},
   "outputs": [],
   "source": [
    "def fib(x): # return n-th fibonacci number\n",
    "    if x==0:\n",
    "        return 0\n",
    "    a=1\n",
    "    b=1\n",
    "    for i in range(3,x+1):\n",
    "        a,b=b,a+b\n",
    "    return b\n",
    "\n",
    "def fib(n): # use list to generate n-th fibonacci number\n",
    "    res = [0,1]\n",
    "    for i in range(2,n+1):\n",
    "        res.append(res[i-1] + res[i-2])\n",
    "    return res[-1]"
   ]
  },
  {
   "cell_type": "code",
   "execution_count": 17,
   "metadata": {},
   "outputs": [],
   "source": [
    "def mybin(x):   # turn numbers into binary\n",
    "    z=str(x)\n",
    "    out=\"\"\n",
    "    pout=\"\"\n",
    "    y=x\n",
    "    while x>0:\n",
    "        out+=str(x%2)\n",
    "        x=x//2\n",
    "    out=out[::-1]\n",
    "    return out"
   ]
  },
  {
   "cell_type": "code",
   "execution_count": 3,
   "metadata": {},
   "outputs": [],
   "source": [
    "import math, itertools\n",
    "def rep(n,k):   # n elements to choose from, ordered & allow repeat, sample k times \n",
    "    return list(itertools.product(list(range(1,n+1)),repeat=k))"
   ]
  },
  {
   "cell_type": "code",
   "execution_count": 18,
   "metadata": {},
   "outputs": [],
   "source": [
    "def rep2(n,r):   #return all permutations that allows repeat (n=number of elements, r=number of trials)\n",
    "    nist=[]\n",
    "    nist2=[]\n",
    "    aoa=''\n",
    "    for i in range(1,n+1):\n",
    "        nist.append(str(i))\n",
    "    for k in range(r-1):\n",
    "        for i in nist:\n",
    "            for j in range(1,n+1):\n",
    "                aoa=i+str(j)\n",
    "                nist2.append(aoa)\n",
    "        nist=nist2.copy()\n",
    "        nist2.clear()\n",
    "    return nist"
   ]
  },
  {
   "cell_type": "code",
   "execution_count": 1,
   "metadata": {},
   "outputs": [
    {
     "name": "stdout",
     "output_type": "stream",
     "text": [
      "Execution time: 0.0255 ms.\n",
      "Execution time: 2.55e-05 s.\n"
     ]
    }
   ],
   "source": [
    "from time import perf_counter       # time counter\n",
    "tick = perf_counter()\n",
    "# some function\n",
    "i=0\n",
    "tock = perf_counter()\n",
    "print(f'Execution time: {1e3 * (tock - tick):.4} ms.')\n",
    "# in seconds\n",
    "print(f'Execution time: {tock - tick:.8} s.')"
   ]
  },
  {
   "cell_type": "code",
   "execution_count": 24,
   "metadata": {},
   "outputs": [],
   "source": [
    "def totient(limit):     # this code chunk generates list of totients from 0 up to [limit]\n",
    "    totients = [ i for i in range(limit+1)] \n",
    "    for i in range(2, limit+1):\n",
    "        if totients[i] == i: # meaning i is prime\n",
    "            for j in range(i, limit+1, i):\n",
    "                totients[j] = totients[j] * (i-1) // i \n",
    "    return totients"
   ]
  },
  {
   "cell_type": "code",
   "execution_count": 25,
   "metadata": {
    "scrolled": true
   },
   "outputs": [],
   "source": [
    "def transpose(x):    #return transpose of a matrix (2 layer list)\n",
    "    return list(zip(*x))\n",
    "\n",
    "def rotc(x):      # rotate 90 degrees clockwise\n",
    "    return list(zip(*x[::-1]))\n",
    "\n",
    "def rota(x):       # rotate 90 degrees anti-clockwise\n",
    "    return list(zip(*x))[::-1]"
   ]
  },
  {
   "cell_type": "code",
   "execution_count": 4,
   "metadata": {},
   "outputs": [],
   "source": [
    "def no_space(x):       # remove space in string\n",
    "    return x.replace(' ' ,'')"
   ]
  },
  {
   "cell_type": "code",
   "execution_count": 1,
   "metadata": {},
   "outputs": [],
   "source": [
    "import math\n",
    "def simp(a,b):      # return reduced fraction of a/b\n",
    "    hcf = math.gcd(a, b)\n",
    "    return (a//hcf, b//hcf)"
   ]
  },
  {
   "cell_type": "code",
   "execution_count": 26,
   "metadata": {
    "scrolled": true
   },
   "outputs": [],
   "source": [
    "def partition(goal, alist):  # count partitions of numbers up to  goal , alist = list of numbers allowed to use\n",
    "    ways = [1] + [0] * (goal)\n",
    "    for options in alist:\n",
    "        for i in range(len(ways) - options):\n",
    "            ways[i + options] += ways[i]\n",
    "    return ways        # ways[i] = number of partitions of i using elements in alist"
   ]
  },
  {
   "cell_type": "code",
   "execution_count": 1,
   "metadata": {},
   "outputs": [
    {
     "data": {
      "text/plain": [
       "[(6,),\n",
       " (1, 5),\n",
       " (1, 1, 4),\n",
       " (1, 1, 1, 3),\n",
       " (1, 1, 1, 1, 2),\n",
       " (1, 1, 1, 1, 1, 1),\n",
       " (1, 1, 2, 2),\n",
       " (1, 2, 3),\n",
       " (2, 4),\n",
       " (2, 2, 2),\n",
       " (3, 3)]"
      ]
     },
     "execution_count": 1,
     "metadata": {},
     "output_type": "execute_result"
    }
   ],
   "source": [
    "def partitions(n, I=1):  # generate list of integer partitions of n\n",
    "    yield (n,)\n",
    "    for i in range(I, n//2 + 1):\n",
    "        for p in partitions(n-i, i):\n",
    "            yield (i,) + p\n",
    "list(partitions(6))"
   ]
  },
  {
   "cell_type": "code",
   "execution_count": 2,
   "metadata": {},
   "outputs": [],
   "source": [
    "def derangement(x): #generate list of derangement number up to x recursively\n",
    "    if x==1: return 0\n",
    "    if x==0: return 1\n",
    "    nist = [0] * (x+1)\n",
    "    nist[2],nist[0] = 1,1\n",
    "    for i in range(2,x+1):\n",
    "        nist[i] = (i-1)* (nist[i-1]+nist[i-2])\n",
    "    return nist"
   ]
  },
  {
   "cell_type": "code",
   "execution_count": 3,
   "metadata": {},
   "outputs": [],
   "source": [
    "def partition(alist,goal):  # count combinations  of partitions of numbers up to  goal , alist = list of numbers allowed to use\n",
    "    ways = [1] + [0] * (goal)\n",
    "    for options in alist:\n",
    "        for i in range(len(ways) - options):\n",
    "            ways[i + options] += ways[i]\n",
    "    return ways        # ways[i] = number of partitions of i using elements in alist"
   ]
  },
  {
   "cell_type": "code",
   "execution_count": 39,
   "metadata": {},
   "outputs": [],
   "source": [
    "def combinationSum4(nums, target): # count permutations of partitions of numbers up to  goal , alist = list of numbers allowed to use\n",
    "        nums, combs = sorted(nums), [1] + [0] * (target)\n",
    "        print(combs)\n",
    "        for i in range(target + 1):\n",
    "            for num in nums:\n",
    "                if num  > i: break\n",
    "                if num == i: combs[i] += 1\n",
    "                if num  < i: combs[i] += combs[i - num]\n",
    "                print(combs)\n",
    "        return combs[target]"
   ]
  },
  {
   "cell_type": "code",
   "execution_count": 29,
   "metadata": {},
   "outputs": [],
   "source": [
    "def combinationSum(nums, target):       # recursive version of above function\n",
    "    res = 0\n",
    "    for i in range(len(nums)):\n",
    "        if target > nums[i]:\n",
    "            res+= combinationSum(nums, target-nums[i])\n",
    "        elif target == nums[i]:\n",
    "            res+= 1\n",
    "    return res"
   ]
  },
  {
   "cell_type": "code",
   "execution_count": 1,
   "metadata": {},
   "outputs": [
    {
     "name": "stdout",
     "output_type": "stream",
     "text": [
      "[]\n"
     ]
    }
   ],
   "source": [
    "from collections import defaultdict        # a dict that doesn't raise key error\n",
    "aoa = defaultdict(list)    # list = default function\n",
    "print(aoa[6969])"
   ]
  },
  {
   "cell_type": "code",
   "execution_count": 8,
   "metadata": {},
   "outputs": [
    {
     "data": {
      "text/plain": [
       "'45660000000000009'"
      ]
     },
     "execution_count": 8,
     "metadata": {},
     "output_type": "execute_result"
    }
   ],
   "source": [
    "def mult(A, B):     # matrix multiplication\n",
    "    global v0\n",
    "    res = [ [0,0,0] ,[0,0,0],[0,0,0]] \n",
    "    for j in range(3):\n",
    "        for i in range(3):\n",
    "            res[0][j] += A[0][i] * B[i][j]\n",
    "    for j in range(3):\n",
    "        for i in range(3):\n",
    "            res[1][j] += A[1][i] * B[i][j]\n",
    "    for j in range(3):\n",
    "        for i in range(3):\n",
    "            res[2][j] += A[2][i] * B[i][j]\n",
    "    v0 = res\n",
    "    return res"
   ]
  },
  {
   "cell_type": "code",
   "execution_count": 2,
   "metadata": {},
   "outputs": [
    {
     "data": {
      "application/vnd.jupyter.widget-view+json": {
       "model_id": "432cdc7db43844e0bae8f5ae3d1779bd",
       "version_major": 2,
       "version_minor": 0
      },
      "text/plain": [
       "  0%|          | 0/10000000 [00:00<?, ?it/s]"
      ]
     },
     "metadata": {},
     "output_type": "display_data"
    }
   ],
   "source": [
    "from tqdm.notebook import tqdm           # progress bar\n",
    "for i in tqdm(range(10**7)):\n",
    "    i**2"
   ]
  },
  {
   "cell_type": "code",
   "execution_count": 5,
   "metadata": {},
   "outputs": [],
   "source": [
    "from sympy import *       # generate polynomial that makes the sequence\n",
    "n,a_1,a_2,a_3,a_4,a_5 = symbols('n a_1 a_2 a_3 a_4 a_5')\n",
    "\n",
    "def makepol(x, k):   # sub n = x\n",
    "    res = [f'{x**(k-i)}*a_{i}' for i in range(1,k+1)]\n",
    "    return '+'.join(res)+f'-x[{x-1}]'\n",
    "\n",
    "def pol(x):   # x is the sequence\n",
    "    k = len(x)\n",
    "    if k == 1: return x[1]\n",
    "    vist = [f'a_{i}' for i in range(1,k+1)]\n",
    "    vstr = '[' + ','.join(vist) + ']'\n",
    "    eqist = [makepol(i, k) for i in range(1,k+1)]\n",
    "    estr = '[' +  ', '.join(eqist) + ']'\n",
    "    arg = estr + ', ' + vstr\n",
    "    res = eval('solve(' + arg + ')')\n",
    "    coe = list(res.values())\n",
    "    expr = sum([coe[i]*n**(k-i-1) for i in range(k)])\n",
    "    ver = [expr.subs(n,i) for i in range(1,k+1)]\n",
    "    print(ver)\n",
    "    return expr"
   ]
  },
  {
   "cell_type": "code",
   "execution_count": 6,
   "metadata": {},
   "outputs": [
    {
     "name": "stdout",
     "output_type": "stream",
     "text": [
      "[0, 1, 1, 1, 1]\n"
     ]
    },
    {
     "data": {
      "text/latex": [
       "$\\displaystyle - \\frac{n^{4}}{24} + \\frac{7 n^{3}}{12} - \\frac{71 n^{2}}{24} + \\frac{77 n}{12} - 4$"
      ],
      "text/plain": [
       "-n**4/24 + 7*n**3/12 - 71*n**2/24 + 77*n/12 - 4"
      ]
     },
     "execution_count": 6,
     "metadata": {},
     "output_type": "execute_result"
    }
   ],
   "source": [
    "pol([0,1,1,1,1])"
   ]
  },
  {
   "cell_type": "code",
   "execution_count": 1,
   "metadata": {},
   "outputs": [],
   "source": [
    "def remove_dupe_list(nist):  # remove duplicate from a list of lists\n",
    "    res = []\n",
    "    for i in nist:\n",
    "        if i not in res:\n",
    "            res.append(i)\n",
    "    return res"
   ]
  },
  {
   "cell_type": "code",
   "execution_count": 1,
   "metadata": {},
   "outputs": [],
   "source": [
    "def collatz(n):   # collatz sequence of n\n",
    "    s = 1\n",
    "    nist = [n]\n",
    "    while n != 1:\n",
    "        if n % 2== 0:\n",
    "            n //= 2\n",
    "        else:\n",
    "            n = 3*n+1\n",
    "        s += 1\n",
    "        nist.append(n)\n",
    "    print(nist)\n",
    "    return s"
   ]
  },
  {
   "cell_type": "code",
   "execution_count": 1,
   "metadata": {},
   "outputs": [],
   "source": [
    "def comb_with_replacement(iterable, r):  # Itertools official pure python combinations_with_replacement\n",
    "    # combinations_with_replacement('ABC', 2) → AA AB AC BB BC CC\n",
    "    pool = tuple(iterable)\n",
    "    n = len(pool)\n",
    "    if not n and r:\n",
    "        return\n",
    "    indices = [0] * r\n",
    "\n",
    "    yield tuple(pool[i] for i in indices)\n",
    "    while True:\n",
    "        for i in reversed(range(r)):\n",
    "            if indices[i] != n - 1:\n",
    "                break\n",
    "        else:\n",
    "            return\n",
    "        indices[i:] = [indices[i] + 1] * (r - i)\n",
    "        yield tuple(pool[i] for i in indices)"
   ]
  },
  {
   "cell_type": "code",
   "execution_count": 4,
   "metadata": {},
   "outputs": [],
   "source": [
    "def combs(iterable, r):  # pure python itertools combinations\n",
    "    # combinations('ABCD', 2) --> AB AC AD BC BD CD\n",
    "    # combinations(range(4), 3) --> 012 013 023 123\n",
    "    pool = tuple(iterable)\n",
    "    n = len(pool)\n",
    "    if r > n:\n",
    "        return\n",
    "    indices = list(range(r))\n",
    "    yield tuple(pool[i] for i in indices)\n",
    "    while True:\n",
    "        for i in reversed(range(r)):\n",
    "            if indices[i] != i + n - r:\n",
    "                break\n",
    "        else:\n",
    "            return\n",
    "        indices[i] += 1\n",
    "        for j in range(i+1, r):\n",
    "            indices[j] = indices[j-1] + 1\n",
    "        yield tuple(pool[i] for i in indices)"
   ]
  },
  {
   "cell_type": "code",
   "execution_count": 1,
   "metadata": {},
   "outputs": [],
   "source": [
    "def is_square(apositiveint):   # Integer square root\n",
    "    x = apositiveint // 2\n",
    "    seen = set([x])\n",
    "    while x * x != apositiveint:\n",
    "        x = (x + (apositiveint // x)) // 2\n",
    "        if x in seen: return False\n",
    "        seen.add(x)\n",
    "    return min(seen)"
   ]
  },
  {
   "cell_type": "code",
   "execution_count": 1,
   "metadata": {},
   "outputs": [],
   "source": [
    "def convert(x,base):   # convert from decimal to base \"base\" representation\n",
    "    out=\"\"\n",
    "    while x>0:\n",
    "        out+=str(x%base)\n",
    "        x=x//base\n",
    "    out=out[::-1]\n",
    "    return out"
   ]
  },
  {
   "cell_type": "code",
   "execution_count": null,
   "metadata": {},
   "outputs": [],
   "source": []
  }
 ],
 "metadata": {
  "kernelspec": {
   "display_name": "Python 3 (ipykernel)",
   "language": "python",
   "name": "python3"
  },
  "language_info": {
   "codemirror_mode": {
    "name": "ipython",
    "version": 3
   },
   "file_extension": ".py",
   "mimetype": "text/x-python",
   "name": "python",
   "nbconvert_exporter": "python",
   "pygments_lexer": "ipython3",
   "version": "3.9.12"
  }
 },
 "nbformat": 4,
 "nbformat_minor": 4
}
