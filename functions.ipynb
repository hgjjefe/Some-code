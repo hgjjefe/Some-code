{
 "cells": [
  {
   "cell_type": "code",
   "execution_count": 6,
   "metadata": {},
   "outputs": [],
   "source": [
    "import math\n"
   ]
  },
  {
   "cell_type": "code",
   "execution_count": 7,
   "metadata": {},
   "outputs": [],
   "source": [
    "def bind(x): # return binomial distribution of size x\n",
    "    mist=[ ]\n",
    "    if x==0:    \n",
    "        mist.append(1)\n",
    "    else:\n",
    "        for i in range(0,x+1):\n",
    "            mist.append(math.comb(x,i))\n",
    "    return mist"
   ]
  },
  {
   "cell_type": "code",
   "execution_count": 8,
   "metadata": {},
   "outputs": [],
   "source": [
    "def pascal(x): # return pascal's triangle of size x\n",
    "    for i in range(0,x+1):\n",
    "        print(bind(i))"
   ]
  },
  {
   "cell_type": "code",
   "execution_count": 9,
   "metadata": {},
   "outputs": [],
   "source": [
    "#1\n",
    "def prime(x): # return whether x is prime (slow)\n",
    "    if x<=1:\n",
    "        return 0\n",
    "    for i in range(2,int(x**0.5)+1):\n",
    "        if x%i==0:\n",
    "            return 0\n",
    "    return 1\n",
    "\n",
    "#2\n",
    "def is_prime(n):         #version 2 (faster)\n",
    "    if n == 2 or n == 3: return True\n",
    "    if n < 2 or n%2 == 0: return False\n",
    "    if n < 9: return True\n",
    "    if n%3 == 0: return False\n",
    "    r = int(n**0.5)\n",
    "  # since all primes > 3 are of the form 6n ± 1\n",
    "  # start with f=5 (which is prime)\n",
    "  # and test f, f+2 for being prime\n",
    "  # then loop by 6. \n",
    "    f = 5\n",
    "    while f <= r:\n",
    "        if n % f == 0: return False\n",
    "        if n % (f+2) == 0: return False\n",
    "        f += 6\n",
    "    return True   \n",
    "\n",
    "#3 (NEED IMPORT OF MODULE)\n",
    "#from sympy import isprime  \n",
    "#isprime(x)\n",
    "\n",
    "#4  (fastest if check prime from 0 to x)\n",
    "def sieve(x):   # Sieve of Euler , returns a list of whether the number is prime from 0 to x\n",
    "    LIM = x\n",
    "    primes = [False] * 2 + [True] * (LIM - 1)\n",
    "    for div in range(2, int(LIM ** 0.5) + 1):\n",
    "        if primes[div]:\n",
    "            primes[div ** 2:: div] = [False]*((LIM - div ** 2)//div + 1)\n",
    "    return primes"
   ]
  },
  {
   "cell_type": "code",
   "execution_count": 10,
   "metadata": {},
   "outputs": [],
   "source": [
    "def primf(x): # return list of prime factors of x\n",
    "    nist=[ ]\n",
    "    if x<=1:\n",
    "        return nist\n",
    "    y=x\n",
    "    while prime(y)==0:        \n",
    "        for i in range(2,int(y**0.5)+1):\n",
    "            if y%i==0:\n",
    "                nist.append(i)\n",
    "                y/=i\n",
    "                break\n",
    "    else:\n",
    "        nist.append(int(y))\n",
    "    return nist"
   ]
  },
  {
   "cell_type": "code",
   "execution_count": 11,
   "metadata": {},
   "outputs": [],
   "source": [
    "def fact(x): # return list of factors of x\n",
    "    fist=[1,x]\n",
    "    for i in range(2,int(x**0.5)+1):\n",
    "        if x%i==0:\n",
    "            fist.append(i)\n",
    "            fist.append(int(x/i))\n",
    "    if int(x**0.5)**2==x:\n",
    "        fist.pop()\n",
    "    fist.sort()\n",
    "    return fist"
   ]
  },
  {
   "cell_type": "code",
   "execution_count": 12,
   "metadata": {},
   "outputs": [],
   "source": [
    "def sit(x): # return sum of digits of x\n",
    "    x=str(x)\n",
    "    s=0\n",
    "    for i in x:\n",
    "        s+=int(i)\n",
    "    return s"
   ]
  },
  {
   "cell_type": "code",
   "execution_count": 3,
   "metadata": {},
   "outputs": [],
   "source": [
    "#1  My original version of permutations function\n",
    "def perm(x): # return all permutations of x digits (works from 1 to 9)\n",
    "    s=''\n",
    "    cast=[ ]\n",
    "    last=[ ]\n",
    "    last2=[ ]\n",
    "    aoa=['1']\n",
    "    if x==1:\n",
    "        cast=[1]\n",
    "        print(cast)\n",
    "        return cast\n",
    "    else:\n",
    "        pass\n",
    "    for i in range(0,2):\n",
    "        bob=aoa.copy()\n",
    "        bob.insert(i,'2')\n",
    "        last2.append(bob)\n",
    "    last=last2.copy()\n",
    "    last2.clear()\n",
    "    for k in range(3,x+1):\n",
    "        for i in range(0,len(last)):\n",
    "            for j in range(0,k):\n",
    "                bob=last[i].copy()\n",
    "                bob.insert(j,str(k))\n",
    "                last2.append(bob)\n",
    "        last=last2.copy()\n",
    "        last2.clear()\n",
    "    for i in last:\n",
    "        s=''\n",
    "        for j in i:\n",
    "            s+=j\n",
    "        s=int(s)\n",
    "        cast.append(s)\n",
    "    return cast\n",
    "\n",
    "#2  stolen from CodeWars\n",
    "def permutations(s):       # return all permutations of a string  s \n",
    "    if len(s) == 0:\n",
    "        return []\n",
    "    elif len(s) == 1:\n",
    "        return [s]\n",
    "    else:\n",
    "        return set(s[i]+p for i in range(len(s)) for p in permutations(s[:i] + s[i+1:]))\n",
    "\n",
    "#3  \n",
    "def permutations2(string):\n",
    "    if len(string) == 1: return set(string)\n",
    "    first = string[0]\n",
    "    rest = permutations(string[1:])\n",
    "    result = set()\n",
    "    for i in range(0, len(string)):\n",
    "        for p in rest:\n",
    "            result.add(p[0:i] + first + p[i:])\n",
    "    return result\n",
    "\n",
    "#4 'Best practices'\n",
    "#import itertools\n",
    "\n",
    "#def permutations3(string):\n",
    "#    return list(\"\".join(p) for p in set(itertools.permutations(string)))"
   ]
  },
  {
   "cell_type": "code",
   "execution_count": 14,
   "metadata": {},
   "outputs": [],
   "source": [
    "def alphum(x): # return the alphabetical value of English word x\n",
    "    alph=['0', 'A', 'B', 'C', 'D', 'E', 'F', 'G', 'H', 'I', 'J', 'K', 'L', 'M', 'N', 'O', 'P', 'Q', 'R', 'S', 'T', 'U', 'V', 'W', 'X', 'Y', 'Z']\n",
    "    s=0\n",
    "    x=x.upper()\n",
    "    for i in x:\n",
    "        s+=alph.index(i)\n",
    "    return s"
   ]
  },
  {
   "cell_type": "code",
   "execution_count": 9,
   "metadata": {},
   "outputs": [],
   "source": [
    "def strist(x): # Turns string to list\n",
    "    nist=[]\n",
    "    for i in x:\n",
    "        nist.append(i)\n",
    "    return nist\n",
    "\n",
    "def listr(x):  # Turns list to string\n",
    "    return ''.join(x)\n",
    "\n",
    "def \n",
    "\n",
    "def strint(x): # Turns string to integer for all items in list\n",
    "    for i in range(len(x)):\n",
    "        x[i]=int(x[i])\n",
    "    return x\n",
    "\n",
    "def intstr(x):  # Turns integer to string for all items in list\n",
    "    for i in range(len(x)):\n",
    "        x[i]=str(x[i])\n",
    "    return x\n",
    "\n",
    "def matint(x):     # Turn a raw matrix string from Project Euler to a 2 layer list with int elements\n",
    "    x=x.split()\n",
    "    for i in range(len(x)):\n",
    "        x[i]=x[i].split(',')\n",
    "    for i in range(len(x)):\n",
    "        x[i]=strint(x[i])\n",
    "    return x"
   ]
  },
  {
   "cell_type": "code",
   "execution_count": 16,
   "metadata": {},
   "outputs": [],
   "source": [
    "def fib(x): # return n-th fibonacci number\n",
    "    if x==0:\n",
    "        return 0\n",
    "    a=1\n",
    "    b=1\n",
    "    for i in range(3,x+1):\n",
    "        a,b=b,a+b\n",
    "    return b"
   ]
  },
  {
   "cell_type": "code",
   "execution_count": 17,
   "metadata": {},
   "outputs": [],
   "source": [
    "def mybin(x):   # turn numbers into binary\n",
    "    z=str(x)\n",
    "    out=\"\"\n",
    "    pout=\"\"\n",
    "    y=x\n",
    "    while x>0:\n",
    "        out+=str(x%2)\n",
    "        x=x//2\n",
    "    out=out[::-1]\n",
    "    return out"
   ]
  },
  {
   "cell_type": "code",
   "execution_count": 18,
   "metadata": {},
   "outputs": [],
   "source": [
    "def rep(n,r):   #return all permutations that allows repeat (n=number of elements, r=number of trials)\n",
    "    nist=[]\n",
    "    nist2=[]\n",
    "    aoa=''\n",
    "    for i in range(1,n+1):\n",
    "        nist.append(str(i))\n",
    "    for k in range(r-1):\n",
    "        for i in nist:\n",
    "            for j in range(1,n+1):\n",
    "                aoa=i+str(j)\n",
    "                nist2.append(aoa)\n",
    "        nist=nist2.copy()\n",
    "        nist2.clear()\n",
    "    return nist"
   ]
  },
  {
   "cell_type": "code",
   "execution_count": 23,
   "metadata": {},
   "outputs": [
    {
     "name": "stdout",
     "output_type": "stream",
     "text": [
      "Execution time: 0.039 ms.\n"
     ]
    }
   ],
   "source": [
    "from time import perf_counter       # time counter\n",
    "tick = perf_counter()\n",
    "# some function\n",
    "i=0\n",
    "tock = perf_counter()\n",
    "print(f'Execution time: {1e3 * (tock - tick):.4} ms.')"
   ]
  },
  {
   "cell_type": "code",
   "execution_count": 24,
   "metadata": {},
   "outputs": [],
   "source": [
    "def totient(limit):     # this code chunk generates list of totients from 0 up to [limit]\n",
    "    totients = [ i for i in range(limit)] \n",
    "    for i in range(2, limit):\n",
    "        if totients[i] == i: # meaning i is prime\n",
    "            for j in range(i, limit, i):\n",
    "                totients[j] = totients[j] * (i-1) // i \n",
    "    return totients"
   ]
  },
  {
   "cell_type": "code",
   "execution_count": 25,
   "metadata": {
    "scrolled": true
   },
   "outputs": [],
   "source": [
    "def transpose(x):    #return transpose of a matrix (2 layer list)\n",
    "    return list(zip(*x))\n",
    "\n",
    "def rotc(x):      # rotate 90 degrees clockwise\n",
    "    return list(zip(*x[::-1]))\n",
    "\n",
    "def rota(x):       # rotate 90 degrees anti-clockwise\n",
    "    return list(zip(*x))[::-1]"
   ]
  },
  {
   "cell_type": "code",
   "execution_count": 26,
   "metadata": {
    "scrolled": true
   },
   "outputs": [],
   "source": [
    "def partition(goal, alist):  # count partitions of numbers up to  goal , alist = list of numbers allowed to use\n",
    "    ways = [1] + [0] * (goal)\n",
    "    for options in alist:\n",
    "        for i in range(len(ways) - options):\n",
    "            ways[i + options] += ways[i]\n",
    "    return ways        # ways[i] = number of partitions of i using elements in alist"
   ]
  },
  {
   "cell_type": "code",
   "execution_count": 4,
   "metadata": {},
   "outputs": [],
   "source": [
    "def no_space(x):       # remove space in string\n",
    "    return x.replace(' ' ,'')"
   ]
  },
  {
   "cell_type": "code",
   "execution_count": 5,
   "metadata": {},
   "outputs": [],
   "source": []
  },
  {
   "cell_type": "code",
   "execution_count": 8,
   "metadata": {},
   "outputs": [
    {
     "data": {
      "text/plain": [
       "'45660000000000009'"
      ]
     },
     "execution_count": 8,
     "metadata": {},
     "output_type": "execute_result"
    }
   ],
   "source": [
    "listr(['4','566','000000000000','9'])"
   ]
  },
  {
   "cell_type": "code",
   "execution_count": null,
   "metadata": {},
   "outputs": [],
   "source": []
  },
  {
   "cell_type": "code",
   "execution_count": null,
   "metadata": {},
   "outputs": [],
   "source": []
  }
 ],
 "metadata": {
  "kernelspec": {
   "display_name": "Python 3",
   "language": "python",
   "name": "python3"
  },
  "language_info": {
   "codemirror_mode": {
    "name": "ipython",
    "version": 3
   },
   "file_extension": ".py",
   "mimetype": "text/x-python",
   "name": "python",
   "nbconvert_exporter": "python",
   "pygments_lexer": "ipython3",
   "version": "3.8.3"
  }
 },
 "nbformat": 4,
 "nbformat_minor": 4
}
