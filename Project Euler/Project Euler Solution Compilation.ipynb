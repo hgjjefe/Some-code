{
 "cells": [
  {
   "cell_type": "code",
   "execution_count": 1,
   "id": "01e1dbd2",
   "metadata": {},
   "outputs": [],
   "source": [
    "from time import perf_counter\n",
    "from tqdm.notebook import tqdm\n",
    "from functools import cache\n",
    "import math"
   ]
  },
  {
   "cell_type": "code",
   "execution_count": 43,
   "id": "5c61aeb0",
   "metadata": {},
   "outputs": [
    {
     "name": "stdout",
     "output_type": "stream",
     "text": [
      "233168\n"
     ]
    }
   ],
   "source": [
    "# PE 1\n",
    "print(sum([i for i in range(1,1000) if i%3==0 or i%5==0]))"
   ]
  },
  {
   "cell_type": "code",
   "execution_count": 51,
   "id": "04f53f16",
   "metadata": {},
   "outputs": [
    {
     "data": {
      "text/plain": [
       "4613732"
      ]
     },
     "execution_count": 51,
     "metadata": {},
     "output_type": "execute_result"
    }
   ],
   "source": [
    "# PE 2\n",
    "s,a,b = 0,1,1\n",
    "while b < 4000000:\n",
    "    a,b = b, a+b\n",
    "    if b % 2 == 0:\n",
    "        s += b\n",
    "s"
   ]
  },
  {
   "cell_type": "code",
   "execution_count": 130,
   "id": "3c2e5319",
   "metadata": {},
   "outputs": [
    {
     "data": {
      "text/plain": [
       "6857"
      ]
     },
     "execution_count": 130,
     "metadata": {},
     "output_type": "execute_result"
    }
   ],
   "source": [
    "# PE 3a (my own solution)\n",
    "def prime(x): # return whether x is prime (slow)\n",
    "    if x<=1:\n",
    "        return 0\n",
    "    for i in range(2,int(x**0.5)+1):\n",
    "        if x%i==0:\n",
    "            return 0\n",
    "    return 1\n",
    "def primf(x): # return list of prime factors of x\n",
    "    nist=[ ]\n",
    "    if x<=1:\n",
    "        return nist\n",
    "    y=x\n",
    "    while prime(y)==0:        \n",
    "        for i in range(2,int(y**0.5)+1):\n",
    "            if y%i==0:\n",
    "                nist.append(i)\n",
    "                y/=i\n",
    "                break\n",
    "    else:\n",
    "        nist.append(int(y))\n",
    "    return nist\n",
    "\n",
    "primf(600851475143)[-1]"
   ]
  },
  {
   "cell_type": "code",
   "execution_count": 129,
   "id": "ad5c69bb",
   "metadata": {},
   "outputs": [
    {
     "data": {
      "text/plain": [
       "6857"
      ]
     },
     "execution_count": 129,
     "metadata": {},
     "output_type": "execute_result"
    }
   ],
   "source": [
    "# PE 3b\n",
    "def problem_03(num):\n",
    "    answer = 1\n",
    "    while num > 1:\n",
    "        answer += 1\n",
    "        while num % answer == 0:\n",
    "            num /= answer\n",
    "    return answer\n",
    "\n",
    "problem_03(600851475143)"
   ]
  },
  {
   "cell_type": "code",
   "execution_count": 77,
   "id": "ed3e5963",
   "metadata": {},
   "outputs": [
    {
     "data": {
      "text/plain": [
       "906609"
      ]
     },
     "execution_count": 77,
     "metadata": {},
     "output_type": "execute_result"
    }
   ],
   "source": [
    "# PE 4\n",
    "max_pan = 0\n",
    "for i in range(100,1000):\n",
    "    for j in range(i,1000):\n",
    "        if str(i*j) == str(i*j)[::-1]:\n",
    "            max_pan = max(max_pan,i*j)\n",
    "max_pan"
   ]
  },
  {
   "cell_type": "code",
   "execution_count": 80,
   "id": "2a40ec09",
   "metadata": {},
   "outputs": [
    {
     "data": {
      "text/plain": [
       "232792560"
      ]
     },
     "execution_count": 80,
     "metadata": {},
     "output_type": "execute_result"
    }
   ],
   "source": [
    "# PE 5\n",
    "2**4 * 3**2 * 5*7*11*13*17*19"
   ]
  },
  {
   "cell_type": "code",
   "execution_count": 83,
   "id": "93b0f53c",
   "metadata": {},
   "outputs": [
    {
     "data": {
      "text/plain": [
       "25164150"
      ]
     },
     "execution_count": 83,
     "metadata": {},
     "output_type": "execute_result"
    }
   ],
   "source": [
    "# PE 6\n",
    "sum([i for i in range(101)])**2 - sum([i**2 for i in range(101)])"
   ]
  },
  {
   "cell_type": "code",
   "execution_count": 92,
   "id": "6584c2d3",
   "metadata": {},
   "outputs": [
    {
     "name": "stdout",
     "output_type": "stream",
     "text": [
      "104743\n"
     ]
    }
   ],
   "source": [
    "# PE 7\n",
    "def prime(x): # return whether x is prime (slow)\n",
    "    if x<=1:\n",
    "        return 0\n",
    "    for i in range(2,int(x**0.5)+1):\n",
    "        if x%i==0:\n",
    "            return 0\n",
    "    return 1\n",
    "\n",
    "s = 0\n",
    "for i in range(2,150000):\n",
    "    s += prime(i)\n",
    "    if s == 10001:\n",
    "        print(i)\n",
    "        break"
   ]
  },
  {
   "cell_type": "code",
   "execution_count": 191,
   "id": "0eae9b3f",
   "metadata": {},
   "outputs": [
    {
     "data": {
      "text/plain": [
       "23514624000"
      ]
     },
     "execution_count": 191,
     "metadata": {},
     "output_type": "execute_result"
    }
   ],
   "source": [
    "# PE 8\n",
    "def prod(string):\n",
    "    s = 1\n",
    "    for i in string:\n",
    "        s *= int(i)\n",
    "    return s\n",
    "\n",
    "num = '''73167176531330624919225119674426574742355349194934\n",
    "96983520312774506326239578318016984801869478851843\n",
    "85861560789112949495459501737958331952853208805511\n",
    "12540698747158523863050715693290963295227443043557\n",
    "66896648950445244523161731856403098711121722383113\n",
    "62229893423380308135336276614282806444486645238749\n",
    "30358907296290491560440772390713810515859307960866\n",
    "70172427121883998797908792274921901699720888093776\n",
    "65727333001053367881220235421809751254540594752243\n",
    "52584907711670556013604839586446706324415722155397\n",
    "53697817977846174064955149290862569321978468622482\n",
    "83972241375657056057490261407972968652414535100474\n",
    "82166370484403199890008895243450658541227588666881\n",
    "16427171479924442928230863465674813919123162824586\n",
    "17866458359124566529476545682848912883142607690042\n",
    "24219022671055626321111109370544217506941658960408\n",
    "07198403850962455444362981230987879927244284909188\n",
    "84580156166097919133875499200524063689912560717606\n",
    "05886116467109405077541002256983155200055935729725\n",
    "71636269561882670428252483600823257530420752963450'''\n",
    "num = ''.join(num.split())\n",
    "max_prod = 0\n",
    "for i in range(1000-12):\n",
    "    max_prod = max(max_prod, prod(num[i:i+13]))\n",
    "max_prod"
   ]
  },
  {
   "cell_type": "code",
   "execution_count": 63,
   "id": "00a8a2be",
   "metadata": {},
   "outputs": [
    {
     "name": "stdout",
     "output_type": "stream",
     "text": [
      "31875000\n"
     ]
    }
   ],
   "source": [
    "# PE 9a\n",
    "import math\n",
    "for a in range(3,1000):\n",
    "    for b in range(a,1000):\n",
    "        if 1000*(a+b) - a*b == 1000*500:\n",
    "            c = int(math.sqrt(a**2 + b**2))\n",
    "            print(a*b*c)\n",
    "            break"
   ]
  },
  {
   "cell_type": "code",
   "execution_count": 64,
   "id": "bb2c4c03",
   "metadata": {},
   "outputs": [
    {
     "name": "stdout",
     "output_type": "stream",
     "text": [
      "31875000\n"
     ]
    }
   ],
   "source": [
    "# 9b\n",
    "for a in range(3,1000):\n",
    "    for b in range(a,1000):\n",
    "        c = math.sqrt(a**2+b**2)\n",
    "        if a+b+c == 1000:\n",
    "            print(int(a*b*c))\n",
    "            break"
   ]
  },
  {
   "cell_type": "code",
   "execution_count": 38,
   "id": "d7febec9",
   "metadata": {},
   "outputs": [
    {
     "data": {
      "text/plain": [
       "142913828922"
      ]
     },
     "execution_count": 38,
     "metadata": {},
     "output_type": "execute_result"
    }
   ],
   "source": [
    "# PE 10\n",
    "def sieve(x):   # Sieve of Euler , returns a boolean list of whether the number is prime from 0 to x\n",
    "    LIM = x\n",
    "    primes = [False] * 2 + [True] * (LIM - 1)\n",
    "    for div in range(2, int(LIM ** 0.5) + 1):\n",
    "        if primes[div]:\n",
    "            primes[div ** 2:: div] = [False]*((LIM - div ** 2)//div + 1)\n",
    "    return primes\n",
    "\n",
    "# return list of primes from 0 to x\n",
    "def primes(x):\n",
    "    prist = sieve(x)\n",
    "    res = [i for i in range(x+1) if prist[i]]\n",
    "    return res\n",
    "\n",
    "sum(primes(2000000))"
   ]
  },
  {
   "cell_type": "code",
   "execution_count": 210,
   "id": "c1d91b1e",
   "metadata": {},
   "outputs": [
    {
     "data": {
      "text/plain": [
       "70600674"
      ]
     },
     "execution_count": 210,
     "metadata": {},
     "output_type": "execute_result"
    }
   ],
   "source": [
    "# PE 11\n",
    "def prod(nist):\n",
    "    s = 1\n",
    "    for i in nist:\n",
    "        s *= int(i)\n",
    "    return s\n",
    "\n",
    "aoa = '''08 02 22 97 38 15 00 40 00 75 04 05 07 78 52 12 50 77 91 08\n",
    "49 49 99 40 17 81 18 57 60 87 17 40 98 43 69 48 04 56 62 00\n",
    "81 49 31 73 55 79 14 29 93 71 40 67 53 88 30 03 49 13 36 65\n",
    "52 70 95 23 04 60 11 42 69 24 68 56 01 32 56 71 37 02 36 91\n",
    "22 31 16 71 51 67 63 89 41 92 36 54 22 40 40 28 66 33 13 80\n",
    "24 47 32 60 99 03 45 02 44 75 33 53 78 36 84 20 35 17 12 50\n",
    "32 98 81 28 64 23 67 10 26 38 40 67 59 54 70 66 18 38 64 70\n",
    "67 26 20 68 02 62 12 20 95 63 94 39 63 08 40 91 66 49 94 21\n",
    "24 55 58 05 66 73 99 26 97 17 78 78 96 83 14 88 34 89 63 72\n",
    "21 36 23 09 75 00 76 44 20 45 35 14 00 61 33 97 34 31 33 95\n",
    "78 17 53 28 22 75 31 67 15 94 03 80 04 62 16 14 09 53 56 92\n",
    "16 39 05 42 96 35 31 47 55 58 88 24 00 17 54 24 36 29 85 57\n",
    "86 56 00 48 35 71 89 07 05 44 44 37 44 60 21 58 51 54 17 58\n",
    "19 80 81 68 05 94 47 69 28 73 92 13 86 52 17 77 04 89 55 40\n",
    "04 52 08 83 97 35 99 16 07 97 57 32 16 26 26 79 33 27 98 66\n",
    "88 36 68 87 57 62 20 72 03 46 33 67 46 55 12 32 63 93 53 69\n",
    "04 42 16 73 38 25 39 11 24 94 72 18 08 46 29 32 40 62 76 36\n",
    "20 69 36 41 72 30 23 88 34 62 99 69 82 67 59 85 74 04 36 16\n",
    "20 73 35 29 78 31 90 01 74 31 49 71 48 86 81 16 23 57 05 54\n",
    "01 70 54 71 83 51 54 69 16 92 33 48 61 43 52 01 89 19 67 48'''\n",
    "aoa = aoa.splitlines()\n",
    "aoa = [i.split() for i in aoa]\n",
    "max_prod = 0\n",
    "for i in range(20):\n",
    "    for j in range(17):\n",
    "        max_prod = max(max_prod, prod(aoa[i][j:j+4]))\n",
    "        \n",
    "for j in range(20):\n",
    "    for i in range(17):\n",
    "        max_prod = max(max_prod, prod((aoa[i][j],aoa[i+1][j],aoa[i+2][j],aoa[i+3][j] )))\n",
    "        \n",
    "for i in range(17):\n",
    "    for j in range(17):\n",
    "        max_prod = max(max_prod, prod((aoa[i][j],aoa[i+1][j+1],aoa[i+2][j+2],aoa[i+3][j+3] )))\n",
    "\n",
    "for i in range(17):\n",
    "    for j in range(17):\n",
    "        max_prod = max(max_prod, prod((aoa[i][j+3],aoa[i+1][j+2],aoa[i+2][j+1],aoa[i+3][j] )))\n",
    "\n",
    "max_prod"
   ]
  },
  {
   "cell_type": "code",
   "execution_count": 28,
   "id": "ba25ce97",
   "metadata": {},
   "outputs": [
    {
     "data": {
      "text/plain": [
       "76576500"
      ]
     },
     "execution_count": 28,
     "metadata": {},
     "output_type": "execute_result"
    }
   ],
   "source": [
    "# PE 12a (my own solution, slow)\n",
    "def fact(x): # return list of factors of x\n",
    "    fist=[1,x]\n",
    "    for i in range(2,int(x**0.5)+1):\n",
    "        if x%i==0:\n",
    "            fist.append(i)\n",
    "            fist.append(int(x/i))\n",
    "    if int(x**0.5)**2==x:\n",
    "        fist.pop()\n",
    "    fist.sort()\n",
    "    return fist\n",
    "\n",
    "def tri(n):\n",
    "    return n*(n+1)//2\n",
    "\n",
    "n = 1\n",
    "while len(fact(tri(n))) <= 500:\n",
    "    n+=1\n",
    "tri(n)"
   ]
  },
  {
   "cell_type": "code",
   "execution_count": 86,
   "id": "86b499c5",
   "metadata": {},
   "outputs": [
    {
     "name": "stdout",
     "output_type": "stream",
     "text": [
      "76576500\n"
     ]
    }
   ],
   "source": [
    "# 12b  (fast)   # use my function to prepare the prime list\n",
    "def sieve(x):   # Sieve of Euler , returns a boolean list of whether the number is prime from 0 to x\n",
    "    LIM = x\n",
    "    primes = [False] * 2 + [True] * (LIM - 1)\n",
    "    for div in range(2, int(LIM ** 0.5) + 1):\n",
    "        if primes[div]:\n",
    "            primes[div ** 2:: div] = [False]*((LIM - div ** 2)//div + 1)\n",
    "    return primes\n",
    "\n",
    "def primes(x):\n",
    "    prist = sieve(x)\n",
    "    res = [i for i in range(x+1) if prist[i]]\n",
    "    return res\n",
    "\n",
    "pist = primes(10**6)\n",
    "\n",
    " # (official solution by Project Euler)\n",
    "n=3\n",
    "dn=2\n",
    "cnt=0\n",
    "while cnt <= 500:\n",
    "    n += 1\n",
    "    n1 = n\n",
    "    if n1 % 2 == 0:\n",
    "        n1 /= 2\n",
    "    dn1 = 1\n",
    "    for i in range(10**6):\n",
    "        if pist[i] * pist[i] > n1:\n",
    "            dn1 *= 2\n",
    "            break\n",
    "        ex = 1\n",
    "        while n1 % pist[i] == 0:\n",
    "            ex += 1\n",
    "            n1 //= pist[i]\n",
    "        if ex > 1:\n",
    "            dn1 *= ex\n",
    "        if n1 == 1:\n",
    "            break\n",
    "    cnt = dn * dn1\n",
    "    dn = dn1\n",
    "print(int(n*(n-1)/2))"
   ]
  },
  {
   "cell_type": "code",
   "execution_count": 47,
   "id": "757405fd",
   "metadata": {},
   "outputs": [
    {
     "data": {
      "text/plain": [
       "5537376230"
      ]
     },
     "execution_count": 47,
     "metadata": {},
     "output_type": "execute_result"
    }
   ],
   "source": [
    "# PE 13\n",
    "aoa = '''37107287533902102798797998220837590246510135740250\n",
    "46376937677490009712648124896970078050417018260538\n",
    "74324986199524741059474233309513058123726617309629\n",
    "91942213363574161572522430563301811072406154908250\n",
    "23067588207539346171171980310421047513778063246676\n",
    "89261670696623633820136378418383684178734361726757\n",
    "28112879812849979408065481931592621691275889832738\n",
    "44274228917432520321923589422876796487670272189318\n",
    "47451445736001306439091167216856844588711603153276\n",
    "70386486105843025439939619828917593665686757934951\n",
    "62176457141856560629502157223196586755079324193331\n",
    "64906352462741904929101432445813822663347944758178\n",
    "92575867718337217661963751590579239728245598838407\n",
    "58203565325359399008402633568948830189458628227828\n",
    "80181199384826282014278194139940567587151170094390\n",
    "35398664372827112653829987240784473053190104293586\n",
    "86515506006295864861532075273371959191420517255829\n",
    "71693888707715466499115593487603532921714970056938\n",
    "54370070576826684624621495650076471787294438377604\n",
    "53282654108756828443191190634694037855217779295145\n",
    "36123272525000296071075082563815656710885258350721\n",
    "45876576172410976447339110607218265236877223636045\n",
    "17423706905851860660448207621209813287860733969412\n",
    "81142660418086830619328460811191061556940512689692\n",
    "51934325451728388641918047049293215058642563049483\n",
    "62467221648435076201727918039944693004732956340691\n",
    "15732444386908125794514089057706229429197107928209\n",
    "55037687525678773091862540744969844508330393682126\n",
    "18336384825330154686196124348767681297534375946515\n",
    "80386287592878490201521685554828717201219257766954\n",
    "78182833757993103614740356856449095527097864797581\n",
    "16726320100436897842553539920931837441497806860984\n",
    "48403098129077791799088218795327364475675590848030\n",
    "87086987551392711854517078544161852424320693150332\n",
    "59959406895756536782107074926966537676326235447210\n",
    "69793950679652694742597709739166693763042633987085\n",
    "41052684708299085211399427365734116182760315001271\n",
    "65378607361501080857009149939512557028198746004375\n",
    "35829035317434717326932123578154982629742552737307\n",
    "94953759765105305946966067683156574377167401875275\n",
    "88902802571733229619176668713819931811048770190271\n",
    "25267680276078003013678680992525463401061632866526\n",
    "36270218540497705585629946580636237993140746255962\n",
    "24074486908231174977792365466257246923322810917141\n",
    "91430288197103288597806669760892938638285025333403\n",
    "34413065578016127815921815005561868836468420090470\n",
    "23053081172816430487623791969842487255036638784583\n",
    "11487696932154902810424020138335124462181441773470\n",
    "63783299490636259666498587618221225225512486764533\n",
    "67720186971698544312419572409913959008952310058822\n",
    "95548255300263520781532296796249481641953868218774\n",
    "76085327132285723110424803456124867697064507995236\n",
    "37774242535411291684276865538926205024910326572967\n",
    "23701913275725675285653248258265463092207058596522\n",
    "29798860272258331913126375147341994889534765745501\n",
    "18495701454879288984856827726077713721403798879715\n",
    "38298203783031473527721580348144513491373226651381\n",
    "34829543829199918180278916522431027392251122869539\n",
    "40957953066405232632538044100059654939159879593635\n",
    "29746152185502371307642255121183693803580388584903\n",
    "41698116222072977186158236678424689157993532961922\n",
    "62467957194401269043877107275048102390895523597457\n",
    "23189706772547915061505504953922979530901129967519\n",
    "86188088225875314529584099251203829009407770775672\n",
    "11306739708304724483816533873502340845647058077308\n",
    "82959174767140363198008187129011875491310547126581\n",
    "97623331044818386269515456334926366572897563400500\n",
    "42846280183517070527831839425882145521227251250327\n",
    "55121603546981200581762165212827652751691296897789\n",
    "32238195734329339946437501907836945765883352399886\n",
    "75506164965184775180738168837861091527357929701337\n",
    "62177842752192623401942399639168044983993173312731\n",
    "32924185707147349566916674687634660915035914677504\n",
    "99518671430235219628894890102423325116913619626622\n",
    "73267460800591547471830798392868535206946944540724\n",
    "76841822524674417161514036427982273348055556214818\n",
    "97142617910342598647204516893989422179826088076852\n",
    "87783646182799346313767754307809363333018982642090\n",
    "10848802521674670883215120185883543223812876952786\n",
    "71329612474782464538636993009049310363619763878039\n",
    "62184073572399794223406235393808339651327408011116\n",
    "66627891981488087797941876876144230030984490851411\n",
    "60661826293682836764744779239180335110989069790714\n",
    "85786944089552990653640447425576083659976645795096\n",
    "66024396409905389607120198219976047599490197230297\n",
    "64913982680032973156037120041377903785566085089252\n",
    "16730939319872750275468906903707539413042652315011\n",
    "94809377245048795150954100921645863754710598436791\n",
    "78639167021187492431995700641917969777599028300699\n",
    "15368713711936614952811305876380278410754449733078\n",
    "40789923115535562561142322423255033685442488917353\n",
    "44889911501440648020369068063960672322193204149535\n",
    "41503128880339536053299340368006977710650566631954\n",
    "81234880673210146739058568557934581403627822703280\n",
    "82616570773948327592232845941706525094512325230608\n",
    "22918802058777319719839450180888072429661980811197\n",
    "77158542502016545090413245809786882778948721859617\n",
    "72107838435069186155435662884062257473692284509516\n",
    "20849603980134001723930671666823555245252804609722\n",
    "53503534226472524250874054075591789781264330331690'''\n",
    "aoa = aoa.splitlines()\n",
    "int(str(sum([int(i) for i in aoa]))[:10])"
   ]
  },
  {
   "cell_type": "code",
   "execution_count": 97,
   "id": "0dde883a",
   "metadata": {},
   "outputs": [
    {
     "data": {
      "text/plain": [
       "837799"
      ]
     },
     "execution_count": 97,
     "metadata": {},
     "output_type": "execute_result"
    }
   ],
   "source": [
    "# PE 14 (official solution)\n",
    "def count_chain(n):\n",
    "    if n in values:\n",
    "        return values[n]\n",
    "    if n % 2 == 0:\n",
    "        values[n] = 1 + count_chain(n//2)\n",
    "    else:\n",
    "        values[n] = 2 + count_chain((3*n+1)//2)\n",
    "    return values[n]\n",
    "\n",
    "longest_chain = 0\n",
    "answer = -1\n",
    "values = {1:1}\n",
    "\n",
    "for i in range(500000, 10**6):\n",
    "    if count_chain(i) > longest_chain:\n",
    "        longest_chain = count_chain(i)\n",
    "        answer = i\n",
    "answer"
   ]
  },
  {
   "cell_type": "code",
   "execution_count": 46,
   "id": "0439c28f",
   "metadata": {},
   "outputs": [
    {
     "name": "stdout",
     "output_type": "stream",
     "text": [
      "137846528820\n"
     ]
    }
   ],
   "source": [
    "# PE 15\n",
    "print(math.comb(40,20))"
   ]
  },
  {
   "cell_type": "code",
   "execution_count": 54,
   "id": "e25d329f",
   "metadata": {},
   "outputs": [
    {
     "data": {
      "text/plain": [
       "1366"
      ]
     },
     "execution_count": 54,
     "metadata": {},
     "output_type": "execute_result"
    }
   ],
   "source": [
    "# PE 16\n",
    "def sit(n):\n",
    "    return sum(int(i) for i in str(n))\n",
    "sit(2**1000)"
   ]
  },
  {
   "cell_type": "code",
   "execution_count": 112,
   "id": "07175d40",
   "metadata": {},
   "outputs": [
    {
     "data": {
      "text/plain": [
       "21124"
      ]
     },
     "execution_count": 112,
     "metadata": {},
     "output_type": "execute_result"
    }
   ],
   "source": [
    "# PE 17\n",
    "num = ['','one','two','three','four','five','six','seven','eight','nine','ten',\n",
    "       'eleven','twelve','thirteen','fourteen','fifteen','sixteen','seventeen','eighteen','nineteen','twenty']\n",
    "tens = ['', 'ten','twenty','thirty','forty','fifty','sixty','seventy','eighty','ninety']\n",
    "\n",
    "def letter(n):\n",
    "    if n <= 20: \n",
    "        return num[n]\n",
    "    if 21 <= n <= 99: \n",
    "        return tens[n//10] + num[n%10]\n",
    "    if 100 <= n <= 999:\n",
    "        if n % 100 == 0:\n",
    "            return num[n//100] + 'hundred'\n",
    "        else:\n",
    "            return num[n//100] + 'hundredand' + letter(n%100)\n",
    "    if n == 1000:\n",
    "        return 'onethousand'\n",
    "\n",
    "s = 0\n",
    "for i in range(1,1001):\n",
    "    s += len(letter(i))\n",
    "s"
   ]
  },
  {
   "cell_type": "code",
   "execution_count": 153,
   "id": "ac2d4389",
   "metadata": {},
   "outputs": [
    {
     "data": {
      "text/plain": [
       "1074"
      ]
     },
     "execution_count": 153,
     "metadata": {},
     "output_type": "execute_result"
    }
   ],
   "source": [
    "# PE 18\n",
    "def strint(nist):  # turn a list of string numbers into integers\n",
    "    return [int(i) for i in nist]\n",
    "    \n",
    "aoa ='''75\n",
    "95 64\n",
    "17 47 82\n",
    "18 35 87 10\n",
    "20 04 82 47 65\n",
    "19 01 23 75 03 34\n",
    "88 02 77 73 07 63 67\n",
    "99 65 04 28 06 16 70 92\n",
    "41 41 26 56 83 40 80 70 33\n",
    "41 48 72 33 47 32 37 16 94 29\n",
    "53 71 44 65 25 43 91 52 97 51 14\n",
    "70 11 33 28 77 73 17 78 39 68 17 57\n",
    "91 71 52 38 17 14 91 43 58 50 27 29 48\n",
    "63 66 04 68 89 53 67 30 73 16 69 87 40 31\n",
    "04 62 98 27 23 09 70 98 73 93 38 53 60 04 23'''\n",
    "\n",
    "aoa = [i.split() for i in aoa.splitlines()]\n",
    "aoa = [strint(i) for i in aoa]\n",
    "max_path = [75] + [0] *14\n",
    "for i in range(1,15):\n",
    "    tmp = max_path.copy()\n",
    "    max_path[0] += aoa[i][0]\n",
    "    for j in range(1,i+1):\n",
    "        max_path[j] = aoa[i][j] + max(tmp[j-1],tmp[j] )\n",
    "    \n",
    "max(max_path)"
   ]
  },
  {
   "cell_type": "code",
   "execution_count": 163,
   "id": "e7fdcba1",
   "metadata": {},
   "outputs": [
    {
     "data": {
      "text/plain": [
       "171"
      ]
     },
     "execution_count": 163,
     "metadata": {},
     "output_type": "execute_result"
    }
   ],
   "source": [
    "# PE 19\n",
    "def leap(n):  # is year n leap year?\n",
    "    if n % 4 == 0:\n",
    "        if n % 100 == 0:\n",
    "            if n % 400 == 0:\n",
    "                return 1\n",
    "            return 0\n",
    "        return 1\n",
    "    return 0\n",
    "\n",
    "def get_month(n):  # the 'monthly calender' of year n\n",
    "    return [0,31,28 + leap(n),31,30,31,30,31,31,30,31,30,31]\n",
    "\n",
    "weekday = ['sun','mon','tue','wed','thur','fri','sat']  # this is just for reference\n",
    "s = 0  \n",
    "year, month, day, week = 1900,1,1,1  # year, month, day, weekday\n",
    "while year <2001:\n",
    "    day += 1  # update day\n",
    "    if day > get_month(year)[month]:\n",
    "        day -= get_month(year)[month]\n",
    "        month += 1  # goes to next month\n",
    "    if month > 12:  \n",
    "        month -= 12\n",
    "        year += 1   # goes to next year\n",
    "    week = (week + 1) % 7   # update weekday\n",
    "    \n",
    "    if week == 0 and day == 1 and 1901 <= year <= 2000:  # check if sunday is on first day of a month\n",
    "        s += 1\n",
    "s"
   ]
  },
  {
   "cell_type": "code",
   "execution_count": 165,
   "id": "1e43286b",
   "metadata": {},
   "outputs": [
    {
     "data": {
      "text/plain": [
       "648"
      ]
     },
     "execution_count": 165,
     "metadata": {},
     "output_type": "execute_result"
    }
   ],
   "source": [
    "# PE 20\n",
    "def sit(n):\n",
    "    return sum(int(i) for i in str(n))\n",
    "sit(math.factorial(100))"
   ]
  },
  {
   "cell_type": "code",
   "execution_count": 198,
   "id": "a0ce95dd",
   "metadata": {},
   "outputs": [
    {
     "data": {
      "text/plain": [
       "31626"
      ]
     },
     "execution_count": 198,
     "metadata": {},
     "output_type": "execute_result"
    }
   ],
   "source": [
    "# PE 21a\n",
    "def fact(x): # return list of factors of x\n",
    "    fist=[1,x]\n",
    "    for i in range(2,int(x**0.5)+1):\n",
    "        if x%i==0:\n",
    "            fist.append(i)\n",
    "            fist.append(int(x/i))\n",
    "    if int(x**0.5)**2==x:\n",
    "        fist.pop()\n",
    "    fist.sort()\n",
    "    return fist\n",
    "\n",
    "fist = [0,0]\n",
    "s = 0\n",
    "for i in range(2,10000):\n",
    "    fist.append(sum(fact(i)[:-1]))\n",
    "for i in range(1,10000):\n",
    "    if fist[i] < 10000 and fist[i] != i:\n",
    "        if fist[fist[i]] == i:\n",
    "            s += i\n",
    "s"
   ]
  },
  {
   "cell_type": "code",
   "execution_count": 211,
   "id": "a0f0cbce",
   "metadata": {},
   "outputs": [
    {
     "data": {
      "text/plain": [
       "31626"
      ]
     },
     "execution_count": 211,
     "metadata": {},
     "output_type": "execute_result"
    }
   ],
   "source": [
    "# 21b\n",
    "def sum_fact(x):   # return list from 1 to n of sum of factors except n\n",
    "    LIM = x\n",
    "    primes = [0,0] + [1] * (LIM - 1)\n",
    "    for div in range(2, LIM + 1):\n",
    "        for i in range(2*div,LIM + 1,div):\n",
    "            primes[i] += div\n",
    "    return primes\n",
    "fist2 = sum_fact(10000)\n",
    "s = 0\n",
    "for i in range(1,10000):\n",
    "    if fist2[i] < 10000 and fist2[i] != i:\n",
    "        if fist2[fist2[i]] == i:\n",
    "            s += i\n",
    "s"
   ]
  },
  {
   "cell_type": "code",
   "execution_count": 234,
   "id": "00178a04",
   "metadata": {
    "scrolled": true
   },
   "outputs": [
    {
     "data": {
      "text/plain": [
       "871198282"
      ]
     },
     "execution_count": 234,
     "metadata": {},
     "output_type": "execute_result"
    }
   ],
   "source": [
    "# PE 22\n",
    "def alphum(x): # return the alphabetical value of English word x\n",
    "    alph=['0', 'A', 'B', 'C', 'D', 'E', 'F', 'G', 'H', 'I', 'J', 'K', 'L', 'M', 'N', 'O', 'P', 'Q', 'R', 'S', 'T', 'U', 'V', 'W', 'X', 'Y', 'Z']\n",
    "    return sum(alph.index(i) for i in x.upper())\n",
    "\n",
    "f = open(\"./texts/0022_names.txt\", \"r\")\n",
    "aoa = f.read().split(',')\n",
    "aoa = sorted([i[1:-1] for i in aoa])\n",
    "s = 0\n",
    "for i in range(len(aoa)):\n",
    "    s += alphum(aoa[i]) * (i+1)\n",
    "s"
   ]
  },
  {
   "cell_type": "code",
   "execution_count": 12,
   "id": "0856540d",
   "metadata": {},
   "outputs": [
    {
     "name": "stdout",
     "output_type": "stream",
     "text": [
      "4179871\n",
      "Execution time: 4.709021 s.\n"
     ]
    }
   ],
   "source": [
    "# PE 23a (my own solution, 4.30s)\n",
    "tick = perf_counter()\n",
    "def sum_fact(x):   # return list from 1 to n of sum of factors except n\n",
    "    LIM = x\n",
    "    primes = [0,0] + [1] * (LIM - 1)\n",
    "    for div in range(2, LIM + 1):\n",
    "        for i in range(2*div,LIM + 1,div):\n",
    "            primes[i] += div\n",
    "    return primes\n",
    "fist = sum_fact(28123)\n",
    "aist = [i for i in range(28124) if fist[i] > i]  # list of abundant numbers\n",
    "sist = [0] + [1] * 28123\n",
    "for i in range(len(aist)):\n",
    "    for j in range(i,len(aist)):\n",
    "        asum = aist[i]+aist[j]\n",
    "        if asum < 28124:\n",
    "            sist[asum] = 0\n",
    "print(sum(i for i in range(28124) if sist[i]))\n",
    "tock = perf_counter()\n",
    "print(f'Execution time: {tock - tick:.8} s.')"
   ]
  },
  {
   "cell_type": "code",
   "execution_count": 21,
   "id": "9c83b084",
   "metadata": {},
   "outputs": [
    {
     "name": "stdout",
     "output_type": "stream",
     "text": [
      "4179871\n"
     ]
    }
   ],
   "source": [
    "# 23b (from PE Thread 23, 2.2s)\n",
    "from math import sqrt\n",
    "def divisorsum(n):\n",
    "    lst1 = [i for i in range(2, int(sqrt(n)) + 1)  if n % i == 0]\n",
    "    lst2 = (n//i for i in lst1 if n//i != i)\n",
    "    return 1 + sum(lst1) + sum(lst2)\n",
    "\n",
    "def final_result(n):\n",
    "    all_numbers = set(range(1, n+1))\n",
    "    abundant = [i for i in range(1, n) if divisorsum(i) > i]\n",
    "    # More than one pair of abundant numbers may give the same sum.\n",
    "    # Using sets to store only one copy of each. \n",
    "    sums_of_abundant = {i + j for i in abundant for j in abundant if i <= j}\n",
    "    return sum(all_numbers - sums_of_abundant)\n",
    "print(final_result(28123))"
   ]
  },
  {
   "cell_type": "code",
   "execution_count": 28,
   "id": "dde4aba2",
   "metadata": {},
   "outputs": [
    {
     "name": "stdout",
     "output_type": "stream",
     "text": [
      "2783915460\n",
      "Execution time: 3.2845604 s.\n"
     ]
    }
   ],
   "source": [
    "# PE 24a (my own solution, 3.12s)\n",
    "def insert(string,char,i):\n",
    "    return string[:i] + char + string[i:]\n",
    "\n",
    "def lex(n):\n",
    "    if n == 1:\n",
    "        return ['1']\n",
    "    res = []\n",
    "    for string in lex(n-1):\n",
    "        for i in range(n):\n",
    "            res.append(insert(string,str(n%10),i))\n",
    "    return res\n",
    "\n",
    "nist = sorted(lex(10))\n",
    "print(int(nist[999999]))"
   ]
  },
  {
   "cell_type": "code",
   "execution_count": 120,
   "id": "265e9bc7",
   "metadata": {},
   "outputs": [
    {
     "data": {
      "text/plain": [
       "2783915460"
      ]
     },
     "execution_count": 120,
     "metadata": {},
     "output_type": "execute_result"
    }
   ],
   "source": [
    "# 24b (solution after seeing a clever method in forum)\n",
    "from math import factorial\n",
    "def quotients(n):\n",
    "    num = [0,1,2,3,4,5,6,7,8,9]\n",
    "    p = 9   # len(num) - 1\n",
    "    res = ''\n",
    "    for i in range(p+1):\n",
    "        q = n // factorial(p-i)\n",
    "        res += str(num.pop(q))\n",
    "        n %= factorial(p-i)\n",
    "    return int(res)\n",
    "quotients(999999)"
   ]
  },
  {
   "cell_type": "code",
   "execution_count": 139,
   "id": "c699a913",
   "metadata": {},
   "outputs": [
    {
     "name": "stdout",
     "output_type": "stream",
     "text": [
      "4782\n"
     ]
    }
   ],
   "source": [
    "# PE 25\n",
    "a,b = 1,1\n",
    "n = 2\n",
    "while len(str(b)) < 1000:\n",
    "    a,b=b,a+b\n",
    "    n += 1\n",
    "print(n)"
   ]
  },
  {
   "cell_type": "code",
   "execution_count": 28,
   "id": "0b93783a",
   "metadata": {},
   "outputs": [
    {
     "name": "stdout",
     "output_type": "stream",
     "text": [
      "983\n",
      "Execution time: 0.2848521 s.\n"
     ]
    }
   ],
   "source": [
    "# PE 26a (my own ugly solution)\n",
    "tick = perf_counter()\n",
    "def oneover(d):\n",
    "    dist = []\n",
    "    rist = []\n",
    "    r = 10\n",
    "    while r < d:\n",
    "        r *= 10\n",
    "    while r != 0:\n",
    "        digit = r // d\n",
    "        r %= d\n",
    "        dist.append(digit)\n",
    "        rist.append(r)\n",
    "        if r == 0: \n",
    "            break\n",
    "        if len(rist) != len(list(set(rist))) and len(dist) != len(list(set(dist))):\n",
    "            break\n",
    "        r *= 10\n",
    "    last_digit = dist[-1]\n",
    "    return len(dist)-1 - dist.index(last_digit) \n",
    "nist = [0]\n",
    "for i in range(1,1000):\n",
    "    nist.append(oneover(i))\n",
    "print(nist.index(max(nist)))    \n",
    "tock = perf_counter()\n",
    "print(f'Execution time: {tock - tick:.8} s.')"
   ]
  },
  {
   "cell_type": "code",
   "execution_count": 144,
   "id": "a3528536",
   "metadata": {},
   "outputs": [
    {
     "name": "stdout",
     "output_type": "stream",
     "text": [
      "983\n"
     ]
    }
   ],
   "source": [
    "# 26b (online solution)\n",
    "num=0\n",
    "repeat=\"\"\n",
    "\n",
    "for i in range(2,1000):\n",
    "    if i%2==0 or i%5==0: #Process doesn't work on those divisible by 2 and 5, but those terminate easily anyway.\n",
    "        pass\n",
    "    else:\n",
    "        k=1\n",
    "        while ((10**k)-1)%i != 0:\n",
    "            k+=1\n",
    "        hold=str((10**k-1)//i)\n",
    "        if len(hold) > len(repeat):\n",
    "            repeat=hold\n",
    "            num = i\n",
    "\n",
    "print(num)"
   ]
  },
  {
   "cell_type": "code",
   "execution_count": 322,
   "id": "c2815d3a",
   "metadata": {},
   "outputs": [
    {
     "data": {
      "text/plain": [
       "-59231"
      ]
     },
     "execution_count": 322,
     "metadata": {},
     "output_type": "execute_result"
    }
   ],
   "source": [
    "# PE 27a (own)\n",
    "def sieve(x):   # Sieve of Euler , returns a boolean list of whether the number is prime from 0 to x\n",
    "    LIM = x\n",
    "    primes = [False] * 2 + [True] * (LIM - 1)\n",
    "    for div in range(2, int(LIM ** 0.5) + 1):\n",
    "        if primes[div]:\n",
    "            primes[div ** 2:: div] = [False]*((LIM - div ** 2)//div + 1)\n",
    "    return primes\n",
    "\n",
    "def primes(x):\n",
    "    prist = sieve(x)\n",
    "    res = [i for i in range(x+1) if prist[i]]\n",
    "    return res\n",
    "\n",
    "def prime(x): # return whether x is prime (slow)\n",
    "    if x<=1:\n",
    "        return 0\n",
    "    for i in range(2,int(x**0.5)+1):\n",
    "        if x%i==0:\n",
    "            return 0\n",
    "    return 1\n",
    "\n",
    "def f(n,a,b):\n",
    "    return n**2+a*n+b\n",
    "\n",
    "def streak(a,b):\n",
    "    n = 0\n",
    "    while prime(n**2+a*n+b) != 0:\n",
    "        n += 1\n",
    "    return n\n",
    "\n",
    "lim=1000\n",
    "max_streak = 0\n",
    "ans = 0\n",
    "pist = primes(lim)\n",
    "for a in range(-lim+1-lim%2,lim,2):\n",
    "    for b in pist:\n",
    "        n = streak(a,b)\n",
    "        if n>= max_streak: \n",
    "            max_streak = n\n",
    "            ans = a*b\n",
    "    for b in pist:\n",
    "        n = streak(a,b)\n",
    "        if n>= max_streak: \n",
    "            max_streak = n\n",
    "            ans = a*b\n",
    "ans"
   ]
  },
  {
   "cell_type": "code",
   "execution_count": 54,
   "id": "090e6723",
   "metadata": {},
   "outputs": [
    {
     "name": "stdout",
     "output_type": "stream",
     "text": [
      "-59231\n",
      "Time Taken: 1.5058184000 seconds\n"
     ]
    }
   ],
   "source": [
    "# 27b\n",
    "from time import perf_counter\n",
    "\n",
    "# b always should be a prime nuber, so  if i target the only primes in b range we can reduce the search space by 16.8 %\n",
    "\n",
    "def is_prime(num):\n",
    "    if num <= 1:\n",
    "        return False\n",
    "    if num == 2:\n",
    "        return True\n",
    "    if num % 2 == 0:\n",
    "        return False\n",
    "    for i in range(3, int(num ** 0.5) + 1, 2):\n",
    "        if num % i == 0:\n",
    "            return False\n",
    "    return True\n",
    "\n",
    "def gen_prime_range(limit):\n",
    "    res = []\n",
    "    for i in range(2, limit):\n",
    "        if is_prime(i):\n",
    "            res.append(i)\n",
    "    return res\n",
    "\n",
    "def consec_primes(a, b):\n",
    "    n = 0       # keep track of the primes\n",
    "    while True:\n",
    "        euler_quad = n**2 + a * n + b\n",
    "        if not is_prime(euler_quad):\n",
    "            break\n",
    "        n += 1\n",
    "    return n\n",
    "\n",
    "max_primes = 0\n",
    "prod_coeffs = 0\n",
    "\n",
    "start = perf_counter()\n",
    "for a in range(-999, 1000):\n",
    "    for b in gen_prime_range(1000):\n",
    "        res = consec_primes(a, b)\n",
    "        if res > max_primes:\n",
    "            max_primes = res\n",
    "            prod_coeffs = a * b\n",
    "stop = perf_counter()\n",
    "print(prod_coeffs)\n",
    "print(f\"Time Taken: {stop - start:.10f} seconds\")"
   ]
  },
  {
   "cell_type": "code",
   "execution_count": 101,
   "id": "bcee231d",
   "metadata": {},
   "outputs": [
    {
     "data": {
      "text/plain": [
       "669171001"
      ]
     },
     "execution_count": 101,
     "metadata": {},
     "output_type": "execute_result"
    }
   ],
   "source": [
    "# PE 28a (iterative)\n",
    "s=1\n",
    "num = 1\n",
    "for d in range(2,1001,2):\n",
    "    s += 4*num + 10*d\n",
    "    num += 4*d\n",
    "s"
   ]
  },
  {
   "cell_type": "code",
   "execution_count": 125,
   "id": "31f9e1cd",
   "metadata": {},
   "outputs": [
    {
     "data": {
      "text/plain": [
       "669171001"
      ]
     },
     "execution_count": 125,
     "metadata": {},
     "output_type": "execute_result"
    }
   ],
   "source": [
    "# PE 28b (formula)\n",
    "def so(n):\n",
    "    return 8*n*(n+1)*(2*n+1)//3 + 2*n*(n+1) + 4*n + 1\n",
    "so(500)"
   ]
  },
  {
   "cell_type": "code",
   "execution_count": 126,
   "id": "582126d8",
   "metadata": {},
   "outputs": [
    {
     "data": {
      "text/plain": [
       "9183"
      ]
     },
     "execution_count": 126,
     "metadata": {},
     "output_type": "execute_result"
    }
   ],
   "source": [
    "# PE 29\n",
    "len(set(i**j for i in range(2,101) for j in range(2,101)))"
   ]
  },
  {
   "cell_type": "code",
   "execution_count": 17,
   "id": "223b5f43",
   "metadata": {},
   "outputs": [
    {
     "data": {
      "application/vnd.jupyter.widget-view+json": {
       "model_id": "405caabcf51b4b1a89b7a27ace77bd6c",
       "version_major": 2,
       "version_minor": 0
      },
      "text/plain": [
       "  0%|          | 0/354285 [00:00<?, ?it/s]"
      ]
     },
     "metadata": {},
     "output_type": "display_data"
    },
    {
     "data": {
      "text/plain": [
       "443839"
      ]
     },
     "execution_count": 17,
     "metadata": {},
     "output_type": "execute_result"
    }
   ],
   "source": [
    "# PE 30\n",
    "def sith(n):  # sum of fifth power of digits\n",
    "    return sum(int(i)**5 for i in str(n))\n",
    "s = 0\n",
    "for i in tqdm(range(10,6*9**5+1)):\n",
    "    if sith(i) == i:\n",
    "        s+= i\n",
    "s"
   ]
  },
  {
   "cell_type": "code",
   "execution_count": 16,
   "id": "d3645662",
   "metadata": {},
   "outputs": [
    {
     "data": {
      "text/plain": [
       "73682"
      ]
     },
     "execution_count": 16,
     "metadata": {},
     "output_type": "execute_result"
    }
   ],
   "source": [
    "# PE 31a (Super ugly solution: nested-loop-cumulative-sum trick)\n",
    "s = 0\n",
    "for p200 in range(2):\n",
    "    coins = p200*200\n",
    "    if coins > 200: break  # If coin sum exceeds limit, then we have counted all coin partitions with this number of 200p coins\n",
    "    for p100 in range(3):\n",
    "        coins =  p200*200 + p100*100\n",
    "        if coins > 200: break\n",
    "        for p50 in range(5):\n",
    "            coins = p200*200 + p100*100 + p50*50\n",
    "            if coins > 200: break\n",
    "            for p20 in range(11):\n",
    "                coins = p200*200 + p100*100 + p50*50 + p20*20\n",
    "                if coins > 200: break\n",
    "                for p10 in range(21):\n",
    "                    coins = p200*200 + p100*100 + p50*50 + p20*20 + p10*10\n",
    "                    if coins > 200: break\n",
    "                    for p5 in range(41):\n",
    "                        coins = p200*200 + p100*100 + p50*50 + p20*20 + p10*10 + p5 * 5\n",
    "                        if coins > 200: break\n",
    "                        for p2 in range(101):\n",
    "                            coins = p200*200 + p100*100 + p50*50 + p20*20 + p10*10 + p5 * 5 + p2*2\n",
    "                            if coins > 200: break\n",
    "                            s += 1    # valid coin partition\n",
    "s"
   ]
  },
  {
   "cell_type": "code",
   "execution_count": 367,
   "id": "7aa8beaf",
   "metadata": {},
   "outputs": [
    {
     "data": {
      "text/plain": [
       "73682"
      ]
     },
     "execution_count": 367,
     "metadata": {},
     "output_type": "execute_result"
    }
   ],
   "source": [
    "# 31b (Recursion method (modified from integer partition))\n",
    "@cache\n",
    "def ways(n,m):  # Partition $n using up to coin $m\n",
    "    if n == 0: \n",
    "        return 1\n",
    "    if m == 0 or n < 0: \n",
    "        return 0\n",
    "    coins = [0,1,2,5,10,20,50,100,200]\n",
    "    if m not in coins: m = max([i for i in coins if i < m])  # If m not in coins, choose largest coin < m\n",
    "    largest_i = coins.index(m)   # index of largest coin available\n",
    "    return ways(n,coins[largest_i-1]) + ways(n-m,m)\n",
    "ways(200,200)"
   ]
  },
  {
   "cell_type": "code",
   "execution_count": 368,
   "id": "b8ba7fa6",
   "metadata": {},
   "outputs": [
    {
     "data": {
      "text/plain": [
       "73682"
      ]
     },
     "execution_count": 368,
     "metadata": {},
     "output_type": "execute_result"
    }
   ],
   "source": [
    "# 31c (Dynamic programming soluion derived from 31b)\n",
    "def dpways(n):\n",
    "    res = [1] + [0] * n\n",
    "    coins = [1,2,5,10,20,50,100,200]\n",
    "    for m in coins:\n",
    "        for j in range(m,n+1):\n",
    "            res[j] += res[j-m]\n",
    "    return res[-1]\n",
    "\n",
    "dpways(200)"
   ]
  },
  {
   "cell_type": "code",
   "execution_count": 398,
   "id": "2bbe0c25",
   "metadata": {},
   "outputs": [
    {
     "data": {
      "text/plain": [
       "45228"
      ]
     },
     "execution_count": 398,
     "metadata": {},
     "output_type": "execute_result"
    }
   ],
   "source": [
    "# PE 32\n",
    "s = 0\n",
    "pist = []\n",
    "for i in range(2,9999):\n",
    "    if len(set(str(i))) != len(str(i)): continue   # check if digits are distinct\n",
    "    for j in range(i,9999):\n",
    "        if len(set(str(j))) != len(str(j)): continue\n",
    "        if i*j > 99999:\n",
    "            break\n",
    "        product = i*j\n",
    "        if ''.join(sorted(list(str(product) ) + list(str(i)) + list(str(j)) )) == '123456789':\n",
    "            s += i*j\n",
    "            pist.append(product)\n",
    "sum(set(pist))"
   ]
  },
  {
   "cell_type": "code",
   "execution_count": 438,
   "id": "732d5763",
   "metadata": {},
   "outputs": [
    {
     "name": "stdout",
     "output_type": "stream",
     "text": [
      "100\n"
     ]
    }
   ],
   "source": [
    "# PE 33\n",
    "def curious(a,b):\n",
    "    if a % 10 == 0 or b % 10 == 0:\n",
    "        return 0\n",
    "    if str(a)[0] == str(b)[1] and int(str(a)[1]) / int(str(b)[0]) == a/b:\n",
    "        return int(str(a)[1]),int(str(b)[0])\n",
    "    if str(a)[1] == str(b)[0] and  int(str(a)[0]) / int(str(b)[1]) == a/b:\n",
    "        return int(str(a)[0]),int(str(b)[1])\n",
    "    return 0\n",
    "\n",
    "numerator, denominator = 1,1\n",
    "for i in range(10,100):\n",
    "    for j in range(i+1,100):\n",
    "        if curious(i,j) != 0:\n",
    "            numerator *= curious(i,j)[0]\n",
    "            denominator *= curious(i,j)[1]\n",
    "print(denominator // math.gcd(numerator,denominator))"
   ]
  },
  {
   "cell_type": "code",
   "execution_count": 504,
   "id": "94a79874",
   "metadata": {},
   "outputs": [
    {
     "data": {
      "application/vnd.jupyter.widget-view+json": {
       "model_id": "8ea94691f71d48d5bbbb925e187c5887",
       "version_major": 2,
       "version_minor": 0
      },
      "text/plain": [
       "  0%|          | 0/2540157 [00:00<?, ?it/s]"
      ]
     },
     "metadata": {},
     "output_type": "display_data"
    },
    {
     "data": {
      "text/plain": [
       "40730"
      ]
     },
     "execution_count": 504,
     "metadata": {},
     "output_type": "execute_result"
    }
   ],
   "source": [
    "# PE 34a (Naive solution, ~9.73s)\n",
    "def digitfact(n):\n",
    "    return sum(factorials[int(i)] for i in str(n))\n",
    "factorials = [math.factorial(i) for i in range(10)]\n",
    "\n",
    "s = 0\n",
    "for i in tqdm(range(3,362880*7)):  # Upper bound since digitfact(9999999) == 9! * 7, number can't be larger than that\n",
    "    if digitfact(i)==i:\n",
    "        s += i\n",
    "s"
   ]
  },
  {
   "cell_type": "code",
   "execution_count": 540,
   "id": "88662f6d",
   "metadata": {},
   "outputs": [
    {
     "name": "stdout",
     "output_type": "stream",
     "text": [
      "40730\n",
      "0.15359340000577504\n"
     ]
    }
   ],
   "source": [
    "# 34b (fast solution from thread)\n",
    "import math\n",
    "tick = perf_counter()\n",
    "def comb_with_replacement(iterable, r):  # Itertools official pure python combinations_with_replacement\n",
    "    # combinations_with_replacement('ABC', 2) → AA AB AC BB BC CC\n",
    "    pool = tuple(iterable)\n",
    "    n = len(pool)\n",
    "    if not n and r:\n",
    "        return\n",
    "    indices = [0] * r\n",
    "\n",
    "    yield tuple(pool[i] for i in indices)\n",
    "    while True:\n",
    "        for i in reversed(range(r)):\n",
    "            if indices[i] != n - 1:\n",
    "                break\n",
    "        else:\n",
    "            return\n",
    "        indices[i:] = [indices[i] + 1] * (r - i)\n",
    "        yield tuple(pool[i] for i in indices)\n",
    "\n",
    "def sum_of_numbers_equal_to_sum_of_factorial_of_their_digits() -> int:\n",
    "    ans = 0\n",
    "    for n_digits in range(2, 8):  # 7 is the max possible number of digits based on 7*9!\n",
    "        for digits in comb_with_replacement(\"0123456789\", n_digits):\n",
    "            sum_fact = sum(math.factorial(int(x)) for x in digits)\n",
    "            if sorted(x for x in str(sum_fact)) == sorted(digits) and len(str(sum_fact)) == n_digits:\n",
    "                ans += sum_fact\n",
    "    return ans\n",
    "\n",
    "if __name__ == \"__main__\":\n",
    "    print(sum_of_numbers_equal_to_sum_of_factorial_of_their_digits())\n",
    "tock = perf_counter()\n",
    "print(tock-tick)"
   ]
  },
  {
   "cell_type": "code",
   "execution_count": 5,
   "id": "3e9bc1ff",
   "metadata": {},
   "outputs": [
    {
     "data": {
      "text/plain": [
       "8184200"
      ]
     },
     "execution_count": 5,
     "metadata": {},
     "output_type": "execute_result"
    }
   ],
   "source": [
    "# PE 35 (My yucky solution)\n",
    "def rot(n):  # rotate a number's digit to the right\n",
    "    n = str(n)\n",
    "    return int(n[-1] + n[:-1])\n",
    "\n",
    "def sieve(x):   # Sieve of Euler , returns a boolean list of whether the number is prime from 0 to x\n",
    "    LIM = x\n",
    "    primes = [False] * 2 + [True] * (LIM - 1)\n",
    "    for div in range(2, int(LIM ** 0.5) + 1):\n",
    "        if primes[div]:\n",
    "            primes[div ** 2:: div] = [False]*((LIM - div ** 2)//div + 1)\n",
    "    return primes\n",
    "\n",
    "def primes(x):\n",
    "    prist = sieve(x)\n",
    "    res = [i for i in range(x+1) if prist[i]]\n",
    "    return res\n",
    "\n",
    "sist = sieve(1000000)\n",
    "pist = primes(1000000)\n",
    "ans = set()\n",
    "\n",
    "def cycle(n):\n",
    "    tmp = set()\n",
    "    for i in range(len(str(n))):\n",
    "        n = rot(n)\n",
    "        if not sist[n]:   # a digit-rotation is not prime -> not circular prime\n",
    "            return 0\n",
    "        tmp.add(n)\n",
    "    ans.update(tmp)\n",
    "    \n",
    "for i in pist:\n",
    "    cycle(i)\n",
    "ans\n",
    "sum(i for i in ans)"
   ]
  },
  {
   "cell_type": "code",
   "execution_count": 602,
   "id": "99019a0f",
   "metadata": {},
   "outputs": [
    {
     "data": {
      "text/plain": [
       "872187"
      ]
     },
     "execution_count": 602,
     "metadata": {},
     "output_type": "execute_result"
    }
   ],
   "source": [
    "# PE 36\n",
    "sum([i for i in range(1,1000000) if str(i) == str(i)[::-1] and bin(i)[2:] == bin(i)[2:][::-1]])"
   ]
  },
  {
   "cell_type": "code",
   "execution_count": 255,
   "id": "b80476e2",
   "metadata": {},
   "outputs": [
    {
     "data": {
      "text/plain": [
       "748317"
      ]
     },
     "execution_count": 255,
     "metadata": {},
     "output_type": "execute_result"
    }
   ],
   "source": [
    "# PE 37a  (My naive solution, 1.5s)\n",
    "def is_prime(n):         #version 2 (faster)\n",
    "    if n == 2 or n == 3: return True\n",
    "    if n < 2 or n%2 == 0: return False\n",
    "    if n < 9: return True\n",
    "    if n%3 == 0: return False\n",
    "    r = int(n**0.5)\n",
    "  # since all primes > 3 are of the form 6n ± 1\n",
    "  # start with f=5 (which is prime)\n",
    "  # and test f, f+2 for being prime\n",
    "  # then loop by 6. \n",
    "    f = 5\n",
    "    while f <= r:\n",
    "        if n % f == 0: return False\n",
    "        if n % (f+2) == 0: return False\n",
    "        f += 6\n",
    "    return True  \n",
    "\n",
    "def istrun(x):  # is_truncatable\n",
    "    y = str(x)\n",
    "    for i in y:  # truncate right\n",
    "        if not is_prime(int(y)):\n",
    "            return 0\n",
    "        y = y[:-1]\n",
    "    y = str(x)\n",
    "    for i in y:  # truncate left\n",
    "        if not is_prime(int(y)):\n",
    "            return 0\n",
    "        y = y[1:]\n",
    "    return 1\n",
    "\n",
    "i = 11\n",
    "s = []\n",
    "count = 0\n",
    "while count < 11:   # goes up until it hits all 11 truncatable primes\n",
    "    if istrun(i):\n",
    "        count += 1\n",
    "        s.append(i)\n",
    "    i+= 2\n",
    "sum(s)"
   ]
  },
  {
   "cell_type": "code",
   "execution_count": 253,
   "id": "65d9f9c3",
   "metadata": {},
   "outputs": [
    {
     "name": "stdout",
     "output_type": "stream",
     "text": [
      "748317\n"
     ]
    }
   ],
   "source": [
    "# 37b (I don't understand)\n",
    "def sieve(x):   # Sieve of Euler , returns a boolean list of whether the number is prime from 0 to x\n",
    "    LIM = x\n",
    "    primes = [False] * 2 + [True] * (LIM - 1)\n",
    "    for div in range(2, int(LIM ** 0.5) + 1):\n",
    "        if primes[div]:\n",
    "            primes[div ** 2:: div] = [False]*((LIM - div ** 2)//div + 1)\n",
    "    return primes\n",
    "\n",
    "def primes_below(x):\n",
    "    prist = sieve(x)\n",
    "    res = [i for i in range(x+1) if prist[i]]\n",
    "    return res\n",
    "\n",
    "def _is_truncatable(p: int, *, primes_set: set[int], from_right: bool = True) -> bool:\n",
    "    while len(str(p)) >= 2:  # noqa PLR2004\n",
    "        if p not in primes_set:\n",
    "            return False\n",
    "        p = int(str(p)[1:]) if from_right else int(str(p)[:-1])\n",
    "    return p in primes_set\n",
    "\n",
    "\n",
    "def sum_of_all_truncatable_primes() -> int:\n",
    "    count_truncatable_primes = 0\n",
    "    limit = 10**4\n",
    "    # problem statement says there are only 11 primFes truncatable from both left and right\n",
    "    expected_count = 11\n",
    "    while count_truncatable_primes < expected_count:\n",
    "        ans = 0\n",
    "        count_truncatable_primes = 0\n",
    "        primes_set = set(primes_below(limit+1))\n",
    "        for p in primes_set:\n",
    "            if p <= 7:  # noqa PLR2004 problem statement says 1 digit primes do not count\n",
    "                continue\n",
    "            if _is_truncatable(p, primes_set=primes_set, from_right=True) and _is_truncatable(\n",
    "                p, primes_set=primes_set, from_right=False\n",
    "            ):\n",
    "                ans += p\n",
    "                count_truncatable_primes += 1\n",
    "                if count_truncatable_primes == expected_count:\n",
    "                    return ans\n",
    "        limit *= 10\n",
    "    msg = \"no answer found\"\n",
    "    raise RuntimeError(msg)\n",
    "\n",
    "\n",
    "if __name__ == \"__main__\":\n",
    "    print(sum_of_all_truncatable_primes())"
   ]
  },
  {
   "cell_type": "code",
   "execution_count": 42,
   "id": "3e12bf5d",
   "metadata": {},
   "outputs": [
    {
     "data": {
      "text/plain": [
       "932718654"
      ]
     },
     "execution_count": 42,
     "metadata": {},
     "output_type": "execute_result"
    }
   ],
   "source": [
    "# PE 38\n",
    "def test(n):\n",
    "    res = ''\n",
    "    for i in range(1,10):\n",
    "        res += str(n*i)\n",
    "        if len(res) >= 9:\n",
    "            break\n",
    "    if sorted(list(res)) == list(map(str,range(1,10))):\n",
    "        return int(res)\n",
    "    return 0\n",
    "\n",
    "s = []\n",
    "for i in range(9,50000):\n",
    "    if test(i):\n",
    "        s.append(test(i))\n",
    "max(s)"
   ]
  },
  {
   "cell_type": "code",
   "execution_count": 97,
   "id": "2b5c3cb8",
   "metadata": {},
   "outputs": [
    {
     "data": {
      "text/plain": [
       "840"
      ]
     },
     "execution_count": 97,
     "metadata": {},
     "output_type": "execute_result"
    }
   ],
   "source": [
    "# PE 39a (own)\n",
    "nist = [0]*1001\n",
    "for m in range(1,1000):\n",
    "    for n in range(m,1000):\n",
    "        if int(math.sqrt(m**2+n**2)) == math.sqrt(m**2+n**2):\n",
    "            c = int(math.sqrt(m**2+n**2))\n",
    "            p = m+n+c\n",
    "            if p < 1000:\n",
    "                nist[p] += 1\n",
    "nist.index(max(nist))"
   ]
  },
  {
   "cell_type": "code",
   "execution_count": 98,
   "id": "fa01cf06",
   "metadata": {
    "scrolled": true
   },
   "outputs": [
    {
     "data": {
      "text/plain": [
       "840"
      ]
     },
     "execution_count": 98,
     "metadata": {},
     "output_type": "execute_result"
    }
   ],
   "source": [
    "# 39b (thread)\n",
    "count = {}\n",
    "for m in range(1, 500, 2):\n",
    "    for n in range(1, m, 2):\n",
    "        p = m**2 + m * n\n",
    "        for k in range(1, 1000 // p + 1):\n",
    "            count[k * p] = count.get(k * p, 0) + 1\n",
    "max(count, key=count.get)"
   ]
  },
  {
   "cell_type": "code",
   "execution_count": 117,
   "id": "52058653",
   "metadata": {},
   "outputs": [
    {
     "name": "stdout",
     "output_type": "stream",
     "text": [
      "210\n"
     ]
    }
   ],
   "source": [
    "# PE 40 (naive)\n",
    "res = '0'\n",
    "for i in range(1,200000):\n",
    "    res += str(i)\n",
    "s = 1\n",
    "for i in range(6):\n",
    "    s *= int(res[10**(i)])\n",
    "print(s)"
   ]
  },
  {
   "cell_type": "code",
   "execution_count": 227,
   "id": "7a38490b",
   "metadata": {},
   "outputs": [
    {
     "name": "stdout",
     "output_type": "stream",
     "text": [
      "210\n"
     ]
    }
   ],
   "source": [
    "# 40b (use math to find the digit)\n",
    "def S(n):\n",
    "    return n*10**n - (10**n-1)//9\n",
    "\n",
    "def champ(n):\n",
    "    if n < 10: return n\n",
    "    i = 1\n",
    "    while n > S(i):\n",
    "        i+=1\n",
    "    index = n - S(i-1) - 1\n",
    "    r = i-1 - index % i    # remainder, determines how fast the digit cycles\n",
    "    q = index // (i*10**r)  % 10\n",
    "    if r == i-1:\n",
    "        q += 1   # largest digit, counts starting with 1\n",
    "    return q\n",
    "\n",
    "s = 1\n",
    "for i in range(6):\n",
    "    s *= int(champ(10**(i)))\n",
    "print(s)"
   ]
  },
  {
   "cell_type": "code",
   "execution_count": 241,
   "id": "5276894d",
   "metadata": {},
   "outputs": [
    {
     "data": {
      "text/plain": [
       "7652413"
      ]
     },
     "execution_count": 241,
     "metadata": {},
     "output_type": "execute_result"
    }
   ],
   "source": [
    "# PE 41\n",
    "def prime(x): # return whether x is prime (slow)\n",
    "    if x<=1:\n",
    "        return 0\n",
    "    for i in range(2,int(x**0.5)+1):\n",
    "        if x%i==0:\n",
    "            return 0\n",
    "    return 1\n",
    "\n",
    "def insert(string,char,i):\n",
    "    return string[:i] + char + string[i:]\n",
    "\n",
    "def perm_list(n):\n",
    "    if n == 1:\n",
    "        return ['1']\n",
    "    res = []\n",
    "    for string in perm_list(n-1):\n",
    "        for i in range(n):\n",
    "            res.append(insert(string,str(n%10),i))\n",
    "    return res\n",
    "\n",
    "pist = perm_list(7)   # 8 numbers and 9 numbers are divisible by 3\n",
    "pist = [int(i) for i in pist if prime(int(i))]\n",
    "max(pist)"
   ]
  },
  {
   "cell_type": "code",
   "execution_count": 258,
   "id": "86a0296f",
   "metadata": {},
   "outputs": [
    {
     "name": "stdout",
     "output_type": "stream",
     "text": [
      "162\n"
     ]
    }
   ],
   "source": [
    "# PE 42\n",
    "def alphum(x): # return the alphabetical value of English word x\n",
    "    alph=['0', 'A', 'B', 'C', 'D', 'E', 'F', 'G', 'H', 'I', 'J', 'K', 'L', 'M', 'N', 'O', 'P', 'Q', 'R', 'S', 'T', 'U', 'V', 'W', 'X', 'Y', 'Z']\n",
    "    return sum(alph.index(i) for i in x.upper())\n",
    "\n",
    "f = open(\"./texts/0042_words.txt\", \"r\")\n",
    "aoa = f.read().split(',')\n",
    "aoa = sorted([i[1:-1] for i in aoa])\n",
    "f.close()\n",
    "s = 0\n",
    "triangles = [n*(n+1)//2 for n in range(1,21)]\n",
    "for i in aoa:\n",
    "    if alphum(i) in triangles:\n",
    "        s += 1\n",
    "print(s)"
   ]
  },
  {
   "cell_type": "code",
   "execution_count": 329,
   "id": "039dd50b",
   "metadata": {},
   "outputs": [
    {
     "name": "stdout",
     "output_type": "stream",
     "text": [
      "16695334890\n"
     ]
    },
    {
     "data": {
      "text/plain": [
       "3.554611300001852"
      ]
     },
     "execution_count": 329,
     "metadata": {},
     "output_type": "execute_result"
    }
   ],
   "source": [
    "# PE 43 (brute force)\n",
    "def insert(string,char,i):\n",
    "    return string[:i] + char + string[i:]\n",
    "\n",
    "def perm_list(n):\n",
    "    if n == 1:\n",
    "        return ['1']\n",
    "    res = []\n",
    "    for string in perm_list(n-1):\n",
    "        for i in range(n):\n",
    "            res.append(insert(string,str(n%10),i))\n",
    "    return res\n",
    "\n",
    "def prop(i):\n",
    "    for j in range(1,8):\n",
    "        if int(i[j:j+3]) % primes[j]:\n",
    "            return 0\n",
    "    return 1\n",
    "\n",
    "pist = perm_list(10) \n",
    "primes = [0,2,3,5,7,11,13,17]\n",
    "s = 0\n",
    "for i in pist:\n",
    "    if prop(i):\n",
    "        s += int(i)\n",
    "print(s)"
   ]
  },
  {
   "cell_type": "code",
   "execution_count": 405,
   "id": "8146b606",
   "metadata": {},
   "outputs": [
    {
     "name": "stdout",
     "output_type": "stream",
     "text": [
      "5482660\n"
     ]
    }
   ],
   "source": [
    "# PE 44a (own)\n",
    "limit = 3000  # arbitrary limit\n",
    "\n",
    "def is_pen(k):\n",
    "    n = (1+math.sqrt(1+24*k)) / 6\n",
    "    if n == int(n):\n",
    "        return 1\n",
    "    return 0\n",
    "\n",
    "def pen(n):\n",
    "    return n*(3*n-1)//2\n",
    "\n",
    "def find():\n",
    "    for i in range(1,limit):\n",
    "        for j in range(2,i):\n",
    "            if is_pen(abs(pen(j) - pen(i))):\n",
    "                if is_pen(pen(j) + pen(i)):\n",
    "                    print(abs(pen(j) - pen(i)))\n",
    "                    return\n",
    "find()      "
   ]
  },
  {
   "cell_type": "code",
   "execution_count": 3,
   "id": "a6d4c166",
   "metadata": {},
   "outputs": [
    {
     "name": "stdout",
     "output_type": "stream",
     "text": [
      "5482660\n"
     ]
    },
    {
     "data": {
      "text/plain": [
       "0.7497850999999969"
      ]
     },
     "execution_count": 3,
     "metadata": {},
     "output_type": "execute_result"
    }
   ],
   "source": [
    "# 44b\n",
    "tick= perf_counter()\n",
    "L = [1]\n",
    "n = 2\n",
    "exit = True\n",
    "while exit:\n",
    "    N = n*(3*n - 1)/2\n",
    "    for l in L[::-1]:\n",
    "      if float((1+(1+24*(l+N))**(1/2))/6).is_integer() and float((1+(1+24*(N-l))**(1/2))/6).is_integer():\n",
    "        print(int(N-l))\n",
    "        exit = False        \n",
    "    L.append(N)\n",
    "    n += 1\n",
    "tock = perf_counter()\n",
    "tock-tick"
   ]
  },
  {
   "cell_type": "code",
   "execution_count": 16,
   "id": "09edbe8c",
   "metadata": {},
   "outputs": [
    {
     "name": "stdout",
     "output_type": "stream",
     "text": [
      "1533776805\n"
     ]
    }
   ],
   "source": [
    "# PE 45\n",
    "def is_pen(k):\n",
    "    n = (1+math.sqrt(1+24*k)) / 6\n",
    "    if n == int(n):\n",
    "        return 1\n",
    "    return 0\n",
    "\n",
    "def is_hex(k):\n",
    "    n = (1+math.sqrt(1+8*k)) / 4\n",
    "    if n == int(n):\n",
    "        return 1\n",
    "    return 0\n",
    "\n",
    "n=286\n",
    "while not (is_pen(n*(n+1)//2) and is_hex(n*(n+1)//2)):\n",
    "    n+=1\n",
    "print(n*(n+1)//2)"
   ]
  },
  {
   "cell_type": "code",
   "execution_count": 52,
   "id": "ee261218",
   "metadata": {},
   "outputs": [
    {
     "name": "stdout",
     "output_type": "stream",
     "text": [
      "5777\n"
     ]
    }
   ],
   "source": [
    "# PE 46\n",
    "def sieve(x):   # Sieve of Euler , returns a boolean list of whether the number is prime from 0 to x\n",
    "    LIM = x\n",
    "    primes = [False] * 2 + [True] * (LIM - 1)\n",
    "    for div in range(2, int(LIM ** 0.5) + 1):\n",
    "        if primes[div]:\n",
    "            primes[div ** 2:: div] = [False]*((LIM - div ** 2)//div + 1)\n",
    "    return primes\n",
    "\n",
    "#5: return list of primes from 0 to x\n",
    "def primes(x):\n",
    "    prist = sieve(x)\n",
    "    res = [i for i in range(x+1) if prist[i]]\n",
    "    return res\n",
    "\n",
    "#5: return list of odd composites from 9 to x\n",
    "def nprimes(x):\n",
    "    prist = sieve(x)\n",
    "    res = [i for i in range(x+1) if not prist[i]]\n",
    "    res = [i for i in res if i%2 and i not in (0,1)]\n",
    "    return res\n",
    "\n",
    "comp = nprimes(100000)  # arbitrary bound\n",
    "pist = primes(100000)\n",
    "def test(n):\n",
    "    for i in pist:\n",
    "        sq = (n-i)/2\n",
    "        if i >= n:\n",
    "            return 0\n",
    "        if int(math.sqrt(sq))**2 == sq:\n",
    "            return 1\n",
    "    return 0\n",
    "\n",
    "for i in comp:\n",
    "    if test(i) == 0:\n",
    "        print(i)\n",
    "        break"
   ]
  },
  {
   "cell_type": "code",
   "execution_count": 74,
   "id": "599e49de",
   "metadata": {},
   "outputs": [
    {
     "name": "stdout",
     "output_type": "stream",
     "text": [
      "134043\n"
     ]
    }
   ],
   "source": [
    "# PE 47a\n",
    "def is_prime(n):         #version 2 (faster)\n",
    "    if n == 2 or n == 3: return True\n",
    "    if n < 2 or n%2 == 0: return False\n",
    "    if n < 9: return True\n",
    "    if n%3 == 0: return False\n",
    "    r = int(n**0.5)\n",
    "    f = 5\n",
    "    while f <= r:\n",
    "        if n % f == 0: return False\n",
    "        if n % (f+2) == 0: return False\n",
    "        f += 6\n",
    "    return True  \n",
    "\n",
    "def primf(x): # return list of prime factors of x\n",
    "    nist=[ ]\n",
    "    if x<=1:\n",
    "        return nist\n",
    "    y=x\n",
    "    while is_prime(y)==0:        \n",
    "        for i in range(2,int(y**0.5)+1):\n",
    "            if y%i==0:\n",
    "                nist.append(i)\n",
    "                y/=i\n",
    "                break\n",
    "    else:\n",
    "        nist.append(int(y))\n",
    "    return list(set(nist))\n",
    "\n",
    "def test(n):\n",
    "    nlen = len(primf(n)) \n",
    "    if nlen != 4:\n",
    "        return 0\n",
    "    if len(primf(n+1)) != nlen:\n",
    "        return 0\n",
    "    if len(primf(n+2)) != nlen:\n",
    "        return 0\n",
    "    if len(primf(n+3)) != nlen:\n",
    "        return 0\n",
    "    return 1\n",
    "\n",
    "i = 644\n",
    "while test(i) == 0:\n",
    "    i+=1\n",
    "print(i)"
   ]
  },
  {
   "cell_type": "code",
   "execution_count": 76,
   "id": "8452880c",
   "metadata": {},
   "outputs": [
    {
     "name": "stdout",
     "output_type": "stream",
     "text": [
      "134043\n"
     ]
    }
   ],
   "source": [
    "# PE 47b (thread)\n",
    "Limit=1000000     # Search under 1 million for now\n",
    "factors=[0]*Limit # number of prime factors.\n",
    "count=0\n",
    "for i in range(2,Limit):\n",
    "    if factors[i]==0:\n",
    "        # i is prime\n",
    "        count =0\n",
    "        val =i\n",
    "        while val < Limit:\n",
    "            factors[val] += 1\n",
    "            val+=i\n",
    "    elif factors[i] == 4:\n",
    "        count +=1\n",
    "        if count == 4:\n",
    "            print(i-3) # First number\n",
    "            break\n",
    "    else:\n",
    "        count = 0"
   ]
  },
  {
   "cell_type": "code",
   "execution_count": 66,
   "id": "3dcd9ba7",
   "metadata": {},
   "outputs": [
    {
     "data": {
      "text/plain": [
       "9110846700"
      ]
     },
     "execution_count": 66,
     "metadata": {},
     "output_type": "execute_result"
    }
   ],
   "source": [
    "# PE 48\n",
    "sum(pow(i,i,10**10)  for i in range(1,1001)) % 10**10"
   ]
  },
  {
   "cell_type": "code",
   "execution_count": 15,
   "id": "7146d64d",
   "metadata": {},
   "outputs": [
    {
     "name": "stdout",
     "output_type": "stream",
     "text": [
      "296962999629\n"
     ]
    }
   ],
   "source": [
    "# PE 49\n",
    "def prime(x): # return whether x is prime (slow)\n",
    "    if x<=1:\n",
    "        return 0\n",
    "    for i in range(2,int(x**0.5)+1):\n",
    "        if x%i==0:\n",
    "            return 0\n",
    "    return 1\n",
    "\n",
    "def is_perm(a,b):  # a and b are permutations of each other\n",
    "    if sorted(list(str(a))) == sorted(list(str(b))):\n",
    "        return 1\n",
    "    return 0\n",
    "\n",
    "for i in range(1000,3333):\n",
    "    if not prime(i) or not prime(i+3330) or not prime(i+2*3330): continue\n",
    "    if i in (1487,4817,8147): continue\n",
    "    if  is_perm(i,i+3330) and is_perm(i,i+2*3330):\n",
    "        print(f'{i}{i+3330}{i+2*3330}')\n",
    "        break"
   ]
  },
  {
   "cell_type": "code",
   "execution_count": 72,
   "id": "f3a14fba",
   "metadata": {},
   "outputs": [
    {
     "name": "stdout",
     "output_type": "stream",
     "text": [
      "997651\n"
     ]
    }
   ],
   "source": [
    "# PE 50\n",
    "def sieve(x):   # Sieve of Euler , returns a boolean list of whether the number is prime from 0 to x\n",
    "    LIM = x\n",
    "    primes = [False] * 2 + [True] * (LIM - 1)\n",
    "    for div in range(2, int(LIM ** 0.5) + 1):\n",
    "        if primes[div]:\n",
    "            primes[div ** 2:: div] = [False]*((LIM - div ** 2)//div + 1)\n",
    "    return primes\n",
    "\n",
    "lim = 1000000\n",
    "sist = sieve(lim)\n",
    "pist = [i for i in range(lim+1) if sist[i]]\n",
    "\n",
    "s, i, upper = 0,0,0\n",
    "for i, n in enumerate(pist):\n",
    "    s += n\n",
    "    if s > lim:\n",
    "        upper = i-1    # Find upper bound of number of summands\n",
    "        break\n",
    "\n",
    "def search(n): # n = pist's sublist length, search whether n consecutive primes sum to any prime\n",
    "    for i in range(len(pist)-n):\n",
    "        s = sum(pist[i:i+n])\n",
    "        if s > lim: \n",
    "            break\n",
    "        if sist[s] == 1:  # prime\n",
    "            print(s)\n",
    "            return s\n",
    "\n",
    "for i in range(upper,1,-1):\n",
    "    if search(i):\n",
    "        break"
   ]
  },
  {
   "cell_type": "code",
   "execution_count": 260,
   "id": "bc743b15",
   "metadata": {},
   "outputs": [
    {
     "name": "stdout",
     "output_type": "stream",
     "text": [
      "121313\n"
     ]
    }
   ],
   "source": [
    "# PE 51a (My own solution)\n",
    "\n",
    "def sieve(x):   # Sieve of Euler , returns a boolean list of whether the number is prime from 0 to x\n",
    "    LIM = x\n",
    "    primes = [False] * 2 + [True] * (LIM - 1)\n",
    "    for div in range(2, int(LIM ** 0.5) + 1):\n",
    "        if primes[div]:\n",
    "            primes[div ** 2:: div] = [False]*((LIM - div ** 2)//div + 1)\n",
    "    return primes\n",
    "\n",
    "def family(strin):  # Find family count of \"56xx3\"\n",
    "    s = 0\n",
    "    for i in range(10):\n",
    "        strout = int(strin.replace('x',str(i)))\n",
    "        if len(str(strout)) != len(strin): continue   # leading zeros not allowed\n",
    "        s += sist[ strout ]\n",
    "    return s\n",
    "\n",
    "def cand(n):  # Given integer n, return canditates of replacement positions\n",
    "    bist = []\n",
    "    nlen = len(str(n)) - 1\n",
    "    for i in range(2**nlen):   # Make a list of 'x' 'o' sequences\n",
    "        binum = str(bin(i)[2:])\n",
    "        binum = '0'*(nlen-len(binum)) + binum   # pad '0's at front of binary number\n",
    "        bist.append(binum.replace('1','x').replace('0','o'))\n",
    "    res = []  \n",
    "    for binum in bist:\n",
    "        strout = ''\n",
    "        for i in range(nlen):\n",
    "            if binum[i] != 'x':\n",
    "                strout += str(n)[i]\n",
    "            else:\n",
    "                strout += 'x'\n",
    "        res.append(strout + str(n)[-1])\n",
    "    return res[1:]\n",
    "\n",
    "lim = 1000000    # arbitrary limit\n",
    "sist = sieve(lim)\n",
    "pist = [i for i in range(56003,lim) if sist[i]]\n",
    "\n",
    "cist = []\n",
    "for i in pist:\n",
    "    cist.extend(cand(i))\n",
    "cist = set(cist)\n",
    "final_cand = [i for i in cist if family(i) == 8]\n",
    "\n",
    "ans_list = []\n",
    "for i in final_cand:\n",
    "    for j in range(10):\n",
    "        strout = int(i.replace('x',str(j))) \n",
    "        if sist[strout] and len(str(strout)) == len(i):\n",
    "            ans_list.append(strout)\n",
    "print(min(ans_list))"
   ]
  },
  {
   "cell_type": "code",
   "execution_count": 62,
   "id": "c25ae500",
   "metadata": {
    "scrolled": true
   },
   "outputs": [
    {
     "name": "stdout",
     "output_type": "stream",
     "text": [
      "121313\n"
     ]
    }
   ],
   "source": [
    "# 51b (Dreamshire solution modified)\n",
    "def sieve(x):   # Sieve of Euler , returns a boolean list of whether the number is prime from 0 to x\n",
    "    LIM = x\n",
    "    primes = [False] * 2 + [True] * (LIM - 1)\n",
    "    for div in range(2, int(LIM ** 0.5) + 1):\n",
    "        if primes[div]:\n",
    "            primes[div ** 2:: div] = [False]*((LIM - div ** 2)//div + 1)\n",
    "    return primes\n",
    "\n",
    "is_prime = sieve(1000000)\n",
    "primes = [i for i in range(100000,1000000) if is_prime[i]]\n",
    " \n",
    "def eight_prime_family(prime, rd):\n",
    "    c=0\n",
    "    for digit in '0123456789':\n",
    "        n = int(prime.replace(rd, digit))\n",
    "        if (n>100000 and is_prime[n]):\n",
    "            c=c+1\n",
    "    return c==8\n",
    " \n",
    "for prime in primes:\n",
    "    s = str(prime)\n",
    "    last_digit = s[-1]\n",
    "    if (s.count('0')==3 and eight_prime_family(s,'0') \n",
    "     or s.count('1')==3 and last_digit != '1' and eight_prime_family(s,'1') \n",
    "     or s.count('2')==3 and eight_prime_family(s,'2')):\n",
    "         print(s)"
   ]
  },
  {
   "cell_type": "code",
   "execution_count": 335,
   "id": "66e5eb88",
   "metadata": {},
   "outputs": [
    {
     "data": {
      "text/plain": [
       "''"
      ]
     },
     "execution_count": 335,
     "metadata": {},
     "output_type": "execute_result"
    }
   ],
   "source": [
    "''' Notes:\n",
    "We induced that for an eight prime value family we were looking for a 6-digit prime number with 3 repeated digits.\n",
    "You can’t have 1, 2, 4 or 5 repeating digits because at least one of the 8 versions will be divisible by 3. \n",
    "There are only 68,906 6-digit prime numbers to consider, but with some thought we could eliminate most of them. \n",
    "Here’s the process we used:\n",
    "\n",
    "1. We need look at only those primes that have exactly 3 repeating digits.\n",
    "2. The last (least significant) digit can’t be the repeating digit, because replacing it would allow composite numbers\n",
    "(Thanks, Rabino.)\n",
    "3. Lastly, since we are checking for an eight prime value family, we need only those primes that have their repeating digit \n",
    "0, 1 or 2; this reduced the set to only 1,305 primes.'''\n",
    "''"
   ]
  },
  {
   "cell_type": "code",
   "execution_count": 61,
   "id": "2cd7dcd0",
   "metadata": {},
   "outputs": [
    {
     "name": "stdout",
     "output_type": "stream",
     "text": [
      "142857\n"
     ]
    }
   ],
   "source": [
    "# PE 52\n",
    "def is_perm(a,b):  # a and b are permutations of each other\n",
    "    if sorted(list(str(a))) == sorted(list(str(b))):\n",
    "        return 1\n",
    "    return 0\n",
    "\n",
    "for i in range(1,1000000):\n",
    "    if is_perm(i,2*i) and is_perm(i,3*i) and is_perm(i,4*i) and is_perm(i,5*i) and is_perm(i,6*i):\n",
    "        print(i)\n",
    "        break"
   ]
  },
  {
   "cell_type": "code",
   "execution_count": 60,
   "id": "e981247f",
   "metadata": {},
   "outputs": [
    {
     "data": {
      "text/plain": [
       "4075"
      ]
     },
     "execution_count": 60,
     "metadata": {},
     "output_type": "execute_result"
    }
   ],
   "source": [
    "# PE 53\n",
    "sum(1 for n in range(1,101) for r in range(n) if math.comb(n,r) > 1000000)"
   ]
  },
  {
   "cell_type": "code",
   "execution_count": 8,
   "id": "1bb6d883",
   "metadata": {},
   "outputs": [
    {
     "name": "stdout",
     "output_type": "stream",
     "text": [
      "376\n"
     ]
    }
   ],
   "source": [
    "# PE 54a (own)\n",
    "f = open(\"./texts/0054_poker.txt\", \"r\")\n",
    "raw = f.read().splitlines()\n",
    "f.close()\n",
    "valist = ['0','1','2','3','4','5','6','7','8','9','T','J','Q','K','A']\n",
    "\n",
    "def rank(hand):   # return the rank and the associated values sorted from highest to lowest\n",
    "    vals, suits = [i[0] for i in hand], [i[1] for i in hand]\n",
    "\n",
    "    if len(set(suits)) == 1:    # 5 cards of same suit\n",
    "        if set(vals) == set(['T','J','Q','K','A']):  # TJQKA \n",
    "            return ['9'] + ['T','J','Q','K','A'][::-1]  # 'Royal Flush'\n",
    "        for i in range(2,11):\n",
    "            if set(vals) == set(valist[i:i+5]):   # 5 consec values\n",
    "                return ['8'] + valist[i:i+5][::-1]     # 'Straight Flush'\n",
    "        return ['5'] + sorted(vals, key=valist.index, reverse=True)          # 'Flush'\n",
    "    \n",
    "    valcount = sorted([vals.count(i) for i in vals])\n",
    "    if valcount == [1,4,4,4,4]:   # 4 of a kind\n",
    "        return ['7'] + sorted(vals, key=vals.count, reverse=True)  # 'Four of a Kind'\n",
    "    if valcount == [2,2,3,3,3]:\n",
    "        return ['6'] + sorted(vals, key=vals.count, reverse=True)  # 'Full House'\n",
    "    for i in range(2,11):\n",
    "        if set(vals) == set(valist[i:i+5]):    # 5 consec values\n",
    "            return ['4'] + valist[i:i+5][::-1]   # 'Straight'\n",
    "    if valcount == [1,1,3,3,3]:\n",
    "        return ['3'] + sorted(vals, key=lambda i: (vals.count(i),valist.index(i)), reverse=True)   # 'Three of a Kind'\n",
    "    if valcount == [1,2,2,2,2]:\n",
    "        return ['2'] + sorted(vals, key=lambda i: (vals.count(i),valist.index(i)), reverse=True)   # 'Two Pairs'\n",
    "    if valcount == [1,1,1,2,2]:\n",
    "        return ['1'] + sorted(vals, key=lambda i: (vals.count(i),valist.index(i)), reverse=True)   # 'One Pair'\n",
    "    return ['0'] + sorted(vals, key=valist.index, reverse=True)    # 'High Card' (5 distinct values)\n",
    "\n",
    "def compare(rank1, rank2):\n",
    "    for i,j in zip(rank1, rank2):\n",
    "        if valist.index(i) > valist.index(j):\n",
    "            return 1   # player 1 wins\n",
    "        if valist.index(i) < valist.index(j):\n",
    "            return 0   # player 2 wins\n",
    "    return -1   # draw (but impossible in this problem)\n",
    "\n",
    "s = 0\n",
    "for i in raw:\n",
    "    i = i.split()\n",
    "    rank1, rank2 = rank(i[:5]), rank(i[5:])\n",
    "    s += compare(rank1, rank2)\n",
    "print(s)"
   ]
  },
  {
   "cell_type": "code",
   "execution_count": 12,
   "id": "367e064f",
   "metadata": {},
   "outputs": [
    {
     "name": "stdout",
     "output_type": "stream",
     "text": [
      "376\n"
     ]
    }
   ],
   "source": [
    "# 54b (Thread modified)\n",
    "def counter(vals):\n",
    "    res = dict()\n",
    "    for i in vals:\n",
    "        if i not in res:\n",
    "            res[i] = vals.count(i)\n",
    "    return res\n",
    "\n",
    "def most_common(nist):\n",
    "    return max(nist,key=nist.count), max(nist.count(i) for i in nist)\n",
    "\n",
    "def score(hand):\n",
    "    vals = [\"23456789TJQKA\".index(x[0]) for x in hand]\n",
    "    counts = counter(vals)\n",
    "\n",
    "    mode, large = most_common(vals), max(vals)\n",
    "    flush = len(set(x[1] for x in hand)) == 1\n",
    "    straight = sorted(vals) == list(range(min(vals), large + 1))\n",
    "\n",
    "    if flush and straight:\n",
    "        return 9, large\n",
    "    elif 4 in counts.values():\n",
    "        return 8, mode[0]\n",
    "    elif sorted(counts.values()) == [2, 3]:\n",
    "        return 7, mode[0]\n",
    "    elif flush:\n",
    "        return 6, large\n",
    "    elif straight:\n",
    "        return 5, large\n",
    "    elif 3 in counts.values():\n",
    "        return 4, mode[0]\n",
    "    elif len(counts) == 3 and mode[1] == 2:\n",
    "        return 3, mode[0]\n",
    "    elif 2 in counts.values():\n",
    "        return 2, mode[0]\n",
    "    return 1, large\n",
    "\n",
    "with open(\"./texts/0054_poker.txt\", \"r\") as f:\n",
    "    hands = tuple((tuple(h[:5]), tuple(h[5:])) for h in map(str.split, f))\n",
    "\n",
    "print(sum(score(h[0]) > score(h[1]) for h in hands))"
   ]
  },
  {
   "cell_type": "code",
   "execution_count": 59,
   "id": "a5e6bf93",
   "metadata": {},
   "outputs": [
    {
     "data": {
      "text/plain": [
       "249"
      ]
     },
     "execution_count": 59,
     "metadata": {},
     "output_type": "execute_result"
    }
   ],
   "source": [
    "# PE 55\n",
    "def lychrel(n):\n",
    "    for i in range(50):\n",
    "        n = int(n) + int(str(n)[::-1])\n",
    "        if str(n) == str(n)[::-1]:\n",
    "            return 0\n",
    "    return 1\n",
    "\n",
    "sum(1 for i in range(1,10000) if lychrel(i))"
   ]
  },
  {
   "cell_type": "code",
   "execution_count": 95,
   "id": "3354c463",
   "metadata": {},
   "outputs": [
    {
     "data": {
      "text/plain": [
       "972"
      ]
     },
     "execution_count": 95,
     "metadata": {},
     "output_type": "execute_result"
    }
   ],
   "source": [
    "# PE 56\n",
    "def sit(n):\n",
    "    return sum(int(i) for i in str(n))\n",
    "max(sit(a**b) for a in range(100) for b in range(100))"
   ]
  },
  {
   "cell_type": "code",
   "execution_count": 41,
   "id": "9f9c7eea",
   "metadata": {},
   "outputs": [
    {
     "name": "stdout",
     "output_type": "stream",
     "text": [
      "153\n"
     ]
    }
   ],
   "source": [
    "# PE 57\n",
    "a,b,s = 1, 2, 0\n",
    "for i in range(1000-1):\n",
    "    a,b = b, 2*b + a\n",
    "    s += len(str(a+b)) > len(str(b))\n",
    "print(s)"
   ]
  },
  {
   "cell_type": "code",
   "execution_count": 4,
   "id": "f8d15fba",
   "metadata": {},
   "outputs": [
    {
     "name": "stdout",
     "output_type": "stream",
     "text": [
      "26241\n"
     ]
    }
   ],
   "source": [
    "# PE 58\n",
    "def miller(n):   # Miller-Rabin primality test, works for 64-bit integers (integers < 18446744073709551616)\n",
    "    \"\"\"returns True if n is prime else False\"\"\"\n",
    "    if n < 5 or n & 1 == 0 or n % 3 == 0:\n",
    "        return 2 <= n <= 3\n",
    "    s = ((n - 1) & (1 - n)).bit_length() - 1\n",
    "    d = n >> s\n",
    "    for a in [2, 325, 9375, 28178, 450775, 9780504, 1795265022]:\n",
    "        p = pow(a, d, n)\n",
    "        if p == 1 or p == n - 1 or a % n == 0:\n",
    "            continue\n",
    "        for _ in range(s):\n",
    "            p = (p * p) % n\n",
    "            if p == n - 1:\n",
    "                break\n",
    "        else:\n",
    "            return False\n",
    "    return True\n",
    "\n",
    "p, s, d = 9, 3, 4\n",
    "while s/ (d*2+1) > .1:\n",
    "    p += d\n",
    "    s += miller(p)\n",
    "    p += d\n",
    "    s += miller(p)\n",
    "    p += d\n",
    "    s += miller(p)\n",
    "    p += d\n",
    "    d += 2\n",
    "print(d+1)"
   ]
  },
  {
   "cell_type": "code",
   "execution_count": 217,
   "id": "8543ebdc",
   "metadata": {},
   "outputs": [
    {
     "name": "stdout",
     "output_type": "stream",
     "text": [
      "129448\n",
      "1.4934666999997717\n"
     ]
    }
   ],
   "source": [
    "# PE 59: XOR Decryption\n",
    "tick = perf_counter()\n",
    "raw = ''\n",
    "with open(\"./texts/0059_cipher.txt\", \"r\") as f:\n",
    "    raw = list(map(int, f.read().split(',')))\n",
    "    \n",
    "def xor(message, key):\n",
    "    key = key * (len(message)//3)\n",
    "    res = ''\n",
    "    for i in range(len(message)):\n",
    "        res += chr(message[i] ^ ord(key[i])) \n",
    "    return res\n",
    "\n",
    "def word(x):   # is this a word?\n",
    "    for i in x:\n",
    "        if i not in 'abcdefghijklmnopqrstuvwxyzABCDEFGHIJKLMNOPQRSTUVWXYZ ':\n",
    "            return 0\n",
    "    return 1\n",
    "\n",
    "char = chr(max(raw, key=raw.count) ^ ord(' '))  # XOR the most frequent char in raw list with space, key likely contains this\n",
    "keys = [chr(a)+chr(b)+char for a in range(97,123) for b in range(97,123)]\n",
    "keys += [chr(a)+ char + chr(b) for a in range(97,123) for b in range(97,123)]\n",
    "keys += [char + chr(a)+chr(b) for a in range(97,123) for b in range(97,123)]\n",
    "text,key = '',''\n",
    "for i in keys:\n",
    "    res = xor(raw,i)\n",
    "    if word( res[:30]):\n",
    "        text,key = res,i\n",
    "print(sum(ord(i) for i in text if i != '\\n'))\n",
    "tock = perf_counter()\n",
    "print(tock-tick)"
   ]
  },
  {
   "cell_type": "code",
   "execution_count": 179,
   "id": "95f87848",
   "metadata": {},
   "outputs": [
    {
     "data": {
      "text/plain": [
       "129448"
      ]
     },
     "execution_count": 179,
     "metadata": {},
     "output_type": "execute_result"
    }
   ],
   "source": [
    "text = '''An extract taken from the introduction of one of Euler's most celebrated papers, \"De summis serierum reciprocarum\" \n",
    "[On the sums of series of reciprocals]: I have recently found, quite unexpectedly, an elegant expression for the entire sum of \n",
    "this series 1 + 1/4 + 1/9 + 1/16 + etc., which depends on the quadrature of the circle, so that if the true sum of this series \n",
    "is obtained, from it at once the quadrature of the circle follows. Namely, I have found that the sum of this series is a sixth \n",
    "part of the square of the perimeter of the circle whose diameter is 1; or by putting the sum of this series equal to s, it has \n",
    "the ratio sqrt(6) multiplied by s to 1 of the perimeter to the diameter. I will soon show that the sum of this series to be \n",
    "approximately 1.644934066842264364; and from multiplying this number by six, and then taking the square root, the number \n",
    "3.141592653589793238 is indeed produced, which expresses the perimeter of a circle whose diameter is 1. Following again the \n",
    "same steps by which I had arrived at this sum, I have discovered that the sum of the series 1 + 1/16 + 1/81 + 1/256 + 1/625 + \n",
    "etc. also depends on the quadrature of the circle. Namely, the sum of this multiplied by 90 gives the biquadrate (fourth power) \n",
    "of the circumference of the perimeter of a circle whose diameter is 1. And by similar reasoning I have likewise been able to \n",
    "determine the sums of the subsequent series in which the exponents are even numbers.'''\n",
    "sum(ord(i) for i in text if i != '\\n')"
   ]
  },
  {
   "cell_type": "code",
   "execution_count": 55,
   "id": "46aa9947",
   "metadata": {},
   "outputs": [
    {
     "name": "stdout",
     "output_type": "stream",
     "text": [
      "26033\n"
     ]
    }
   ],
   "source": [
    "# PE 60  (found in my old note file, modified)\n",
    "Primes = [2, 3]\n",
    "\n",
    "def IsPrime(n):   # miller-rabin test\n",
    "    if n < 5 or n & 1 == 0 or n % 3 == 0:\n",
    "        return 2 <= n <= 3\n",
    "    s = ((n - 1) & (1 - n)).bit_length() - 1\n",
    "    d = n >> s\n",
    "    for a in [2, 325, 9375, 28178, 450775, 9780504, 1795265022]:\n",
    "        p = pow(a, d, n)\n",
    "        if p == 1 or p == n - 1 or a % n == 0:\n",
    "            continue\n",
    "        for _ in range(s):\n",
    "            p = (p * p) % n\n",
    "            if p == n - 1:\n",
    "                break\n",
    "        else:\n",
    "            return False\n",
    "    return True\n",
    "\n",
    "def prime_generator(edge):\n",
    "    global Primes\n",
    "    x = 1\n",
    "    while Primes[-1] < edge:\n",
    "        if IsPrime(6 * x - 1):\n",
    "            Primes.append(6 * x - 1)\n",
    "        if IsPrime(6 * x + 1):\n",
    "            Primes.append(6 * x + 1)\n",
    "        x += 1\n",
    "\n",
    "prime_generator(10 ** 4)\n",
    "\n",
    "def prime_filter(prime0, prime_list):\n",
    "    res = []\n",
    "    for prime in prime_list:\n",
    "        if IsPrime(int(str(prime0) + str(prime))) and IsPrime(int(str(prime) + str(prime0))):\n",
    "            res.append(prime)\n",
    "    return res\n",
    "\n",
    "def find():\n",
    "    for prime in Primes:\n",
    "        tmp0 = prime_filter(prime, Primes)\n",
    "        if len(tmp0) <= 0:\n",
    "            continue\n",
    "        for prime1 in tmp0:\n",
    "            tmp1 = prime_filter(prime1, tmp0)\n",
    "            if len(tmp1) <= 0:\n",
    "                continue\n",
    "            for prime2 in tmp1:\n",
    "                tmp2 = prime_filter(prime2, tmp1)\n",
    "                if len(tmp2) <= 0:\n",
    "                    continue\n",
    "                for prime3 in tmp2:\n",
    "                    tmp3 = prime_filter(prime3, tmp2)\n",
    "                    if len(tmp3) == 1:\n",
    "                        seq =[prime, prime1, prime2, prime3, tmp3[0]]\n",
    "                        return sum(seq)\n",
    "print(find())"
   ]
  },
  {
   "cell_type": "code",
   "execution_count": 228,
   "id": "34fe7913",
   "metadata": {},
   "outputs": [
    {
     "name": "stdout",
     "output_type": "stream",
     "text": [
      "28684\n"
     ]
    }
   ],
   "source": [
    "# PE 61a (own)\n",
    "tri = [n*(n+1)//2 for n in range(45,141)]\n",
    "squ = [n**2 for n in range(32,100)]\n",
    "pen = [n*(3*n-1)//2 for n in range(26,82)]\n",
    "hexa = [n*(2*n-1) for n in range(23,71)]\n",
    "hep = [n*(5*n-3)//2 for n in range(21,64)]\n",
    "octa = [n*(3*n-2) for n in range(19,59)]\n",
    "\n",
    "lookup = {3:tri, 4:squ, 5:pen, 6:hexa, 7:hep, 8:octa}\n",
    "res = []\n",
    "\n",
    "def cycle_filter(term0, polygon_list):   # find candidates for next term in polygon_list\n",
    "    return [pol for pol in polygon_list if str(term0)[2:] == str(pol)[:2]]\n",
    "\n",
    "def find_next(seq, available):   # available lists represented by numbers\n",
    "    # print('what:',seq,available)\n",
    "    if res: return   # Find desired result already, no need to continue recursion\n",
    "    if seq:\n",
    "        if str(seq[-1])[2:] == str(seq[0])[:2]:  # Full cycle\n",
    "            if len(seq) == 6:\n",
    "                res.append(seq)\n",
    "            return []\n",
    "    if len(available) == 0:\n",
    "        # print('end')\n",
    "        return []\n",
    "    for i in available:\n",
    "        available2 = [j for j in available if j != i]   # remove i from available by constructing new list\n",
    "        if seq:\n",
    "            candidates = cycle_filter(seq[-1], lookup[i])\n",
    "        else:\n",
    "            candidates = lookup[i]\n",
    "        # print(i,\"cand:\",candidates)\n",
    "        for j in candidates:\n",
    "            find_next(seq + [j], available2)\n",
    "find_next([],[3,4,5,6,7,8])\n",
    "print(sum(res[0]))"
   ]
  },
  {
   "cell_type": "code",
   "execution_count": 229,
   "id": "addf7892",
   "metadata": {},
   "outputs": [
    {
     "data": {
      "text/plain": [
       "28684"
      ]
     },
     "execution_count": 229,
     "metadata": {},
     "output_type": "execute_result"
    }
   ],
   "source": [
    "# 61b (thread)\n",
    "def cyclical_figurate_numbers():\n",
    "    rng = []\n",
    "    [rng.append(int((math.sqrt(0.25 * i ** 2 - i + 2 * N * i + 1) - 1) / i + 0.5)) for i in range(1, 7) for N in\n",
    "     (1000, 10000)]\n",
    "    figs = [[(i * n ** 2 + (2 - i) * n) // 2 for n in range(rng[2 * i - 2], rng[2 * i - 1])] for i in range(1, 7)]\n",
    "    candidates = {(k,): set(range(5)) for k in figs[-1]}\n",
    "    for i in range(5):\n",
    "        new_candidates = {}\n",
    "        for c in candidates:\n",
    "            for j in candidates[c]:\n",
    "                for num in figs[j]:\n",
    "                    if c[-1] % 100 == num // 100:\n",
    "                        new_candidates[c + (num,)] = candidates[c] - {j}\n",
    "        candidates = new_candidates\n",
    "    return next(sum(c) for c in candidates if c[-1] % 100 == c[0] // 100)\n",
    "cyclical_figurate_numbers()"
   ]
  },
  {
   "cell_type": "code",
   "execution_count": 30,
   "id": "c5466673",
   "metadata": {},
   "outputs": [
    {
     "name": "stdout",
     "output_type": "stream",
     "text": [
      "127035954683\n",
      "1.2883648000000107\n"
     ]
    }
   ],
   "source": [
    "# PE 62a\n",
    "cubes = [i**3 for i in range(345,10000)]    # arbitrary bound\n",
    "cist = [sorted(str(i)) for i in cubes]  \n",
    "\n",
    "def most_common(nist):\n",
    "    count = [nist.count(i) for i in nist]\n",
    "    m = max(count)\n",
    "    return m, count.index(m)\n",
    "\n",
    "tup = most_common(cist)\n",
    "if tup[0] == 5:\n",
    "    print((tup[1]+345)**3)"
   ]
  },
  {
   "cell_type": "code",
   "execution_count": 45,
   "id": "e64aa192",
   "metadata": {},
   "outputs": [
    {
     "name": "stdout",
     "output_type": "stream",
     "text": [
      "127035954683\n"
     ]
    }
   ],
   "source": [
    "# 62b (Thread)\n",
    "def cubic_permutations(N):\n",
    "    sorted_cubes={}\n",
    "    possible_answers=[]\n",
    "    for c in (x**3 for x in range(100000)):    # arbitrary bound\n",
    "        s = ''.join(sorted(str(c)))\n",
    "        if possible_answers and len(s) > digits:\n",
    "            # Can now rely on last digit result being complete\n",
    "            # Need to check no more permuations were added.\n",
    "            possible_answers = [l for l in possible_answers if len(l)==N]\n",
    "\n",
    "            if possible_answers:\n",
    "                return min(map(min, possible_answers))\n",
    "\n",
    "        l = sorted_cubes.setdefault(s,[])\n",
    "        l.append(c)\n",
    "        if len(l)==N:\n",
    "            possible_answers.append(l)\n",
    "            digits=len(s)\n",
    "\n",
    "print( cubic_permutations(5))"
   ]
  },
  {
   "cell_type": "code",
   "execution_count": 68,
   "id": "dbd80871",
   "metadata": {},
   "outputs": [
    {
     "name": "stdout",
     "output_type": "stream",
     "text": [
      "49\n"
     ]
    }
   ],
   "source": [
    "# PE 63a            10^(k-1) <= n^k < 10^k   ==>      k-1 <= k log(n) < k  \n",
    "s = 0         #   log(n) < 1  ==>  n < 10    and    (k-1)/k  <= log(n)\n",
    "for n in range(1,10):\n",
    "    k = 1\n",
    "    while (k-1) / k <= math.log10(n):\n",
    "        s += 1\n",
    "        k += 1\n",
    "print(s)"
   ]
  },
  {
   "cell_type": "code",
   "execution_count": 69,
   "id": "059355b0",
   "metadata": {},
   "outputs": [
    {
     "data": {
      "text/plain": [
       "49"
      ]
     },
     "execution_count": 69,
     "metadata": {},
     "output_type": "execute_result"
    }
   ],
   "source": [
    "# 63b  (Thread)\n",
    "sum(int(1 / ( 1 - math.log10(i) )) for i in range(1, 10))"
   ]
  },
  {
   "cell_type": "code",
   "execution_count": 164,
   "id": "5cc751dd",
   "metadata": {},
   "outputs": [
    {
     "name": "stdout",
     "output_type": "stream",
     "text": [
      "1322\n"
     ]
    }
   ],
   "source": [
    "# PE 64: Odd Period Square Roots\n",
    "def continued_fraction(n):  \n",
    "    a0 = int(math.sqrt(n))\n",
    "    if a0**2 == n: return []    # Perfect square\n",
    "    res = [a0]\n",
    "    a,c,d = a0, 0, 1\n",
    "    while a != 2*a0:    # Keep track of the form  (sqrt(n) - c) / d\n",
    "        c = a*d - c \n",
    "        d = (n - c**2) // d\n",
    "        a = (a0 + c) // d \n",
    "        res.append(a)\n",
    "    return res\n",
    "\n",
    "s = 0\n",
    "for i in range(2,10001):\n",
    "    if int(math.sqrt(i))**2 == i: continue\n",
    "    if (len(continued_fraction(i))-1) % 2 == 1:\n",
    "        s += 1\n",
    "print(s)"
   ]
  },
  {
   "cell_type": "code",
   "execution_count": 218,
   "id": "936ffc13",
   "metadata": {},
   "outputs": [
    {
     "data": {
      "text/plain": [
       "272"
      ]
     },
     "execution_count": 218,
     "metadata": {},
     "output_type": "execute_result"
    }
   ],
   "source": [
    "# PE 65a: Convergents of e\n",
    "def a(n):   # list of Continued fraction a_n of e\n",
    "    res = [2] + [0] * n\n",
    "    for i in range(1, n+1):\n",
    "        if i % 3 == 2:\n",
    "            res[i] = 2 * (i+2) //3\n",
    "        else:\n",
    "            res[i] = 1\n",
    "    return res\n",
    "\n",
    "def convergent(a):  # return list of convergents (p_n, q_n) given list of a_n   \n",
    "    if len(a) == 1: return [a[0]]\n",
    "    p = [a[0], a[1]*a[0] + 1] \n",
    "    q = [1, a[1]]\n",
    "    for i in range(2,len(a)):\n",
    "        p.append(a[i] * p[-1] + p[-2]  )\n",
    "        q.append(a[i] * q[-1] + q[-2]  )\n",
    "    return list(zip(p,q))\n",
    "\n",
    "def sit(n):\n",
    "    return sum(int(i) for i in str(n))\n",
    "sit(convergent(a(99))[-1][0])    # My convergents index starts from 0 instead of 1 in Project Euler "
   ]
  },
  {
   "cell_type": "code",
   "execution_count": 263,
   "id": "c62670b6",
   "metadata": {},
   "outputs": [
    {
     "data": {
      "text/plain": [
       "272"
      ]
     },
     "execution_count": 263,
     "metadata": {},
     "output_type": "execute_result"
    }
   ],
   "source": [
    "# 65b  (shorter but less readable)\n",
    "def a(n):   # list of Continued fraction a_n of e\n",
    "    return [2] + [1  if (i % 3 != 2) else 2 * (i+2) // 3 for i in range(1,n+1)]\n",
    "\n",
    "def con2(a):\n",
    "    p, q = a[-1], a[-1]*a[-2] + 1\n",
    "    for i in range(len(a)-3, -1, -1):\n",
    "        p, q = q, a[i]*q+p\n",
    "    return q,p\n",
    "sum( int(i) for i in str(con2(a(99))[0]) )"
   ]
  },
  {
   "cell_type": "code",
   "execution_count": 307,
   "id": "07fca1b5",
   "metadata": {},
   "outputs": [
    {
     "name": "stdout",
     "output_type": "stream",
     "text": [
      "661\n"
     ]
    }
   ],
   "source": [
    "# PE 66: Diophantine Equation (Pell's equation)\n",
    "def continued_fraction(n):  \n",
    "    a0 = int(math.sqrt(n))\n",
    "    if a0**2 == n: return []    # Perfect square\n",
    "    res = [a0]\n",
    "    a,c,d = a0, 0, 1\n",
    "    while a != 2*a0:    # Keep track of the form  (sqrt(n) - c) / d\n",
    "        c = a*d - c \n",
    "        d = (n - c**2) // d\n",
    "        a = (a0 + c) // d \n",
    "        res.append(a)\n",
    "    return res\n",
    "\n",
    "def convergent(a):  # return list of convergents (p_n, q_n) given list of a_n   \n",
    "    if len(a) == 1: return [a[0]]\n",
    "    p = [a[0], a[1]*a[0] + 1] \n",
    "    q = [1, a[1]]\n",
    "    for i in range(2,len(a)):\n",
    "        p.append(a[i] * p[-1] + p[-2]  )\n",
    "        q.append(a[i] * q[-1] + q[-2]  )\n",
    "    return list(zip(p,q))\n",
    "\n",
    "def pell(d):   # minimum (x,y) to solve Pell's equation  x^2 - D y^2 = 1\n",
    "    if int(math.sqrt(d))**2 == d: return (0,0)\n",
    "    confrac = continued_fraction(d)\n",
    "    period = len(confrac) - 1\n",
    "    if period % 2 == 0:\n",
    "        return convergent(confrac)[-2]    # p_{m-1}, q_{m-1}\n",
    "    else:\n",
    "        return convergent(confrac + confrac[1:])[-2]      # p_{2m-1}, q_{2m-1}\n",
    "\n",
    "max_x, max_d = 0, 0\n",
    "for i in range(2,1000):\n",
    "    if int(math.sqrt(i))**2 == i: continue\n",
    "    x = pell(i)[0]\n",
    "    if x > max_x:\n",
    "        max_x, max_d = x, i\n",
    "print(max_d)"
   ]
  },
  {
   "cell_type": "code",
   "execution_count": 326,
   "id": "42427b52",
   "metadata": {},
   "outputs": [
    {
     "name": "stdout",
     "output_type": "stream",
     "text": [
      "661\n"
     ]
    }
   ],
   "source": [
    "# 66b  (Thread, idk how this works)\n",
    "def pell2(n):\n",
    "    n1 = 0; d1 = 1;\n",
    "    n2 = 1; d2 = 0;\n",
    "    # these are the two bounding fractions\n",
    "    while (True):\n",
    "        a = n1+n2;\n",
    "        b = d1+d2;\n",
    "      #  a/b is the new candidate somewhere in the middle\n",
    "        t = a**2 - n*b**2;  # see how close a^2/b^2 is to n \n",
    "        if (t == 1):  #  you have your pell solution (a,b)\n",
    "            return a,b\n",
    "        elif (t == 0):  # problem, n was a square = (a/b)^2\n",
    "            print(\"error\");\n",
    "            break;\n",
    "        else: # not there yet - adjust low or hi bound\n",
    "            if(t>0): n2=a; d2=b;\n",
    "            else: n1=a; d1=b;\n",
    "\n",
    "max_x, max_d = 0, 0\n",
    "for i in range(2,1000):\n",
    "    if int(math.sqrt(i))**2 == i: continue\n",
    "    x = pell2(i)[0]\n",
    "    if x > max_x:\n",
    "        max_x, max_d = x, i\n",
    "print(max_d)"
   ]
  },
  {
   "cell_type": "code",
   "execution_count": 232,
   "id": "5d2718cf",
   "metadata": {},
   "outputs": [
    {
     "data": {
      "text/plain": [
       "7273"
      ]
     },
     "execution_count": 232,
     "metadata": {},
     "output_type": "execute_result"
    }
   ],
   "source": [
    "# PE 67  (Buffed version of PE 18)\n",
    "def strint(nist):  # turn a list of string numbers into integers\n",
    "    return [int(i) for i in nist]\n",
    "    \n",
    "with open(\"./texts/0067_triangle.txt\", \"r\") as f:\n",
    "    aoa = [i.split() for i in f.read().splitlines()]\n",
    "aoa = [strint(i) for i in aoa]\n",
    "max_path = [59] + [0] *99\n",
    "for i in range(1,100):\n",
    "    tmp = max_path.copy()\n",
    "    max_path[0] += aoa[i][0]\n",
    "    for j in range(1,i+1):\n",
    "        max_path[j] = aoa[i][j] + max(tmp[j-1],tmp[j] )\n",
    "    \n",
    "max(max_path)"
   ]
  },
  {
   "cell_type": "code",
   "execution_count": 372,
   "id": "f07f43de",
   "metadata": {},
   "outputs": [
    {
     "data": {
      "text/plain": [
       "6531031914842725"
      ]
     },
     "execution_count": 372,
     "metadata": {},
     "output_type": "execute_result"
    }
   ],
   "source": [
    "# PE 68: Magic 5-gon Ring\n",
    "def permutations(iterable, r=None):   # itertools but pure python\n",
    "    # permutations('ABCD', 2) → AB AC AD BA BC BD CA CB CD DA DB DC\n",
    "    # permutations(range(3)) → 012 021 102 120 201 210\n",
    "\n",
    "    pool = tuple(iterable)\n",
    "    n = len(pool)\n",
    "    r = n if r is None else r\n",
    "    if r > n:\n",
    "        return\n",
    "\n",
    "    indices = list(range(n))\n",
    "    cycles = list(range(n, n-r, -1))\n",
    "    yield tuple(pool[i] for i in indices[:r])\n",
    "\n",
    "    while n:\n",
    "        for i in reversed(range(r)):\n",
    "            cycles[i] -= 1\n",
    "            if cycles[i] == 0:\n",
    "                indices[i:] = indices[i+1:] + indices[i:i+1]\n",
    "                cycles[i] = n - i\n",
    "            else:\n",
    "                j = cycles[i]\n",
    "                indices[i], indices[-j] = indices[-j], indices[i]\n",
    "                yield tuple(pool[i] for i in indices[:r])\n",
    "                break\n",
    "        else:\n",
    "            return\n",
    "        \n",
    "def fivegon(x):    # check if fivegon ring is valid\n",
    "    order = [0,5,6,1,6,7,2,7,8,3,8,9,4,9,5]\n",
    "    res = ''\n",
    "    if x[0]+x[5]+x[6] == x[1]+x[6]+x[7] == x[2]+x[7]+x[8] == x[3]+x[8]+x[9] == x[4]+x[9]+x[5]:\n",
    "        for i in order:\n",
    "            res += str(x[i])\n",
    "        return 1\n",
    "    return 0\n",
    "\n",
    "res = []\n",
    "for i in permutations([7,8,9,10]):\n",
    "    for j in permutations([1,2,3,4,5]):\n",
    "        ring = [6]+list(i)+list(j)\n",
    "        order = [0,5,6,1,6,7,2,7,8,3,8,9,4,9,5]\n",
    "        if fivegon(ring):\n",
    "            res.append( ''.join([str(ring[i]) for i in order]))\n",
    "int(max(res))"
   ]
  },
  {
   "cell_type": "code",
   "execution_count": 380,
   "id": "03333e23",
   "metadata": {},
   "outputs": [
    {
     "name": "stdout",
     "output_type": "stream",
     "text": [
      "0.6405911999972886\n"
     ]
    }
   ],
   "source": [
    "# PE 69\n",
    "tick = perf_counter()\n",
    "def totients(limit):     # this code chunk generates list of totients from 0 up to [limit]\n",
    "    totients = [ i for i in range(limit+1)] \n",
    "    for i in range(2, limit+1):\n",
    "        if totients[i] == i: # meaning i is prime\n",
    "            for j in range(i, limit+1, i):\n",
    "                totients[j] = totients[j] * (i-1) // i \n",
    "    return totients\n",
    "\n",
    "tist = totients(1000000)\n",
    "ntot = [0] + [i/tist[i] for i in range(1,1000000)]\n",
    "ntot.index(max(ntot))\n",
    "tock=perf_counter()\n",
    "print(tock-tick)"
   ]
  },
  {
   "cell_type": "code",
   "execution_count": 387,
   "id": "3f8e6536",
   "metadata": {},
   "outputs": [
    {
     "data": {
      "application/vnd.jupyter.widget-view+json": {
       "model_id": "ced032f0ea704212912657aa77600b80",
       "version_major": 2,
       "version_minor": 0
      },
      "text/plain": [
       "  0%|          | 0/9913000 [00:00<?, ?it/s]"
      ]
     },
     "metadata": {},
     "output_type": "display_data"
    },
    {
     "name": "stdout",
     "output_type": "stream",
     "text": [
      "8319823\n",
      "25.578187400002207\n"
     ]
    }
   ],
   "source": [
    "# PE 70a: Totient Permutation\n",
    "tick = perf_counter()\n",
    "def totients(limit):     # this code chunk generates list of totients from 0 up to [limit]\n",
    "    totients = [ i for i in range(limit+1)] \n",
    "    for i in range(2, limit+1):\n",
    "        if totients[i] == i: # meaning i is prime\n",
    "            for j in range(i, limit+1, i):\n",
    "                totients[j] = totients[j] * (i-1) // i \n",
    "    return totients\n",
    "\n",
    "def is_perm(a,b):  # a and b are permutations of each other\n",
    "    if sorted(list(str(a))) == sorted(list(str(b))):\n",
    "        return 1\n",
    "    return 0\n",
    "\n",
    "tist = totients(10**7)\n",
    "min_ratio = 1000000\n",
    "min_i = 0\n",
    "for i in tqdm(range(87000,10**7)):\n",
    "    if is_perm(i,tist[i]):\n",
    "        if i / tist[i] < min_ratio:\n",
    "            min_ratio = i / tist[i]\n",
    "            min_i = i\n",
    "print(min_i)\n",
    "tock = perf_counter()\n",
    "print(tock-tick)"
   ]
  },
  {
   "cell_type": "code",
   "execution_count": 465,
   "id": "fb4d786d",
   "metadata": {},
   "outputs": [
    {
     "name": "stdout",
     "output_type": "stream",
     "text": [
      "8319823\n"
     ]
    }
   ],
   "source": [
    "# 70b    (Thread optimisation)\n",
    "def is_prime(num):\n",
    "    if num <= 1: return False\n",
    "    if num in (2,3): return True\n",
    "    if num % 2 == 0 or num % 3 == 0: return False\n",
    "    for i in range(5, int(num ** 0.5) + 1, 6):\n",
    "        if num % i == 0 or num % (i+2) == 0:\n",
    "            return False\n",
    "    return True\n",
    "\n",
    "def is_perm(a,b):  # a and b are permutations of each other\n",
    "    if sorted(list(str(a))) == sorted(list(str(b))):\n",
    "        return 1\n",
    "    return 0\n",
    "\n",
    "lim = 10**7\n",
    "min_ratio,min_i = 1000000, 0\n",
    "pist = [i for i in range(1000, 5000) if is_prime(i)]  # Search for semi-primes with factors close to sqrt(lim) \n",
    "for i in range(len(pist)-1,-1,-1):     # since these yield lowest ratios while allowing permutations\n",
    "    for j in range(i-1,-1,-1):\n",
    "        p, q = pist[i], pist[j]\n",
    "        if p*q < lim and is_perm(p*q,(p-1)*(q-1)):\n",
    "            ratio = p*q / (p-1)/(q-1)\n",
    "            if ratio < min_ratio:\n",
    "                min_ratio = ratio\n",
    "                min_i = p*q\n",
    "print(min_i)"
   ]
  },
  {
   "cell_type": "code",
   "execution_count": 627,
   "id": "56082c67",
   "metadata": {},
   "outputs": [
    {
     "name": "stdout",
     "output_type": "stream",
     "text": [
      "428570\n"
     ]
    }
   ],
   "source": [
    "# PE 71a  (Brute force)\n",
    "def leftof(d):   # largest fraction < 3/7 given denominator d\n",
    "    num = int(d*3/7)\n",
    "    if d % 7 == 0:\n",
    "        num -= 1\n",
    "    return 3/7 - num / d, num    \n",
    "\n",
    "min_d,num  = 100, 0\n",
    "for i in range(500000,1000000):\n",
    "    if leftof(i)[0] < min_d:\n",
    "        min_d, num = leftof(i)\n",
    "print(num)"
   ]
  },
  {
   "cell_type": "code",
   "execution_count": 628,
   "id": "754164ec",
   "metadata": {},
   "outputs": [
    {
     "name": "stdout",
     "output_type": "stream",
     "text": [
      "428570\n"
     ]
    }
   ],
   "source": [
    "# 71b   (Thread)\n",
    "'''In a Farey sequence, a/b < c/d are adjacent if and only if bc-ad=1.\n",
    "Solving the diophantine equation 3b-7a=1 gives a=3k-1 and b=7k-2.\n",
    "So we just check such fractions a/b with the greatest reduced denominator.\n",
    "Runs in ~0.7μs.\n",
    "'''\n",
    "from math import gcd\n",
    "\n",
    "def f(N):\n",
    "        kMax = (N+2)//7\n",
    "        for k in range(kMax,-1,-1):\n",
    "                a = 3*k-1\n",
    "                b = 7*k-2\n",
    "                if gcd(a,b)==1:\n",
    "                        return a\n",
    "print(f(1000000))"
   ]
  },
  {
   "cell_type": "code",
   "execution_count": 520,
   "id": "4f0f8bfb",
   "metadata": {},
   "outputs": [
    {
     "data": {
      "text/plain": [
       "303963552391"
      ]
     },
     "execution_count": 520,
     "metadata": {},
     "output_type": "execute_result"
    }
   ],
   "source": [
    "# PE 72a: Counting Fractions\n",
    "def totients(limit):     # this code chunk generates list of totients from 0 up to [limit]\n",
    "    totients = [ i for i in range(limit+1)] \n",
    "    for i in range(2, limit+1):\n",
    "        if totients[i] == i: # meaning i is prime\n",
    "            for j in range(i, limit+1, i):\n",
    "                totients[j] = totients[j] * (i-1) // i \n",
    "    return totients\n",
    "sum(totients(1000000)[2:])   # phi(2) + phi(3) + ... + phi(1_000_000)"
   ]
  },
  {
   "cell_type": "code",
   "execution_count": 544,
   "id": "a8bf330c",
   "metadata": {},
   "outputs": [
    {
     "data": {
      "text/plain": [
       "303963552391"
      ]
     },
     "execution_count": 544,
     "metadata": {},
     "output_type": "execute_result"
    }
   ],
   "source": [
    "# 72b  (Thread recursive formula, idk how this works)\n",
    "from functools import cache\n",
    "@cache\n",
    "def f(n):\n",
    "    if n <= 1: return n\n",
    "    s = n * (n + 1) // 2\n",
    "    for k in range(2,n+1):\n",
    "            s -= f(n//k)\n",
    "    return s\n",
    "f(1000000) - 1"
   ]
  },
  {
   "cell_type": "code",
   "execution_count": 648,
   "id": "8cb56b69",
   "metadata": {},
   "outputs": [
    {
     "data": {
      "text/plain": [
       "303963552391"
      ]
     },
     "execution_count": 648,
     "metadata": {},
     "output_type": "execute_result"
    }
   ],
   "source": [
    "# 72c  (OEIS A002088, more efficient, idk how this works)\n",
    "from functools import cache\n",
    "@cache\n",
    "def A2088(n): # based on second formula in A018805, found in OEIS\n",
    "    if n == 0:\n",
    "        return 0\n",
    "    c, j = 0, 2\n",
    "    k1 = n//j\n",
    "    while k1 > 1:\n",
    "        j2 = n//k1 + 1\n",
    "        c += (j2-j)*(2*A2088(k1)-1)\n",
    "        j, k1 = j2, n//j2\n",
    "    return (n*(n-1)-c+j)//2\n",
    "A2088(1000000)-1"
   ]
  },
  {
   "cell_type": "code",
   "execution_count": 656,
   "id": "cbdde921",
   "metadata": {},
   "outputs": [
    {
     "data": {
      "text/plain": [
       "7295372"
      ]
     },
     "execution_count": 656,
     "metadata": {},
     "output_type": "execute_result"
    }
   ],
   "source": [
    "# PE 73a\n",
    "def between(d):   # 1/3 < fraction < 1/2 given denominator d\n",
    "    lower = d // 3 + 1\n",
    "    upper = d // 2\n",
    "    if d % 2 == 0:\n",
    "        upper -= 1\n",
    "    return sum(1 for i in range(lower,upper+1) if math.gcd(i,d) == 1)\n",
    "\n",
    "sum(between(i) for i in range(2,12001))"
   ]
  },
  {
   "cell_type": "code",
   "execution_count": 660,
   "id": "8a686bae",
   "metadata": {},
   "outputs": [
    {
     "name": "stdout",
     "output_type": "stream",
     "text": [
      "7295372\n"
     ]
    }
   ],
   "source": [
    "# PE 73b  (Dreamshire)\n",
    "def ceildiv(a, b): return -(-a // b)\n",
    "\n",
    "def p(L, n1=1, d1=3,  n2=1, d2=2):\n",
    "    n = [0] * (L+1) \n",
    "    for d in range(1, L+1):\n",
    "        n[d] += ceildiv(n2*d, d2) - ceildiv(n1*d, d1) - 1\n",
    "        n[2*d::d] = [k-n[d] for k in n[2*d::d]]\n",
    "    return sum(n)\n",
    "\n",
    "print(p(12000))"
   ]
  },
  {
   "cell_type": "code",
   "execution_count": null,
   "id": "4e33b417",
   "metadata": {},
   "outputs": [],
   "source": []
  },
  {
   "cell_type": "code",
   "execution_count": 666,
   "id": "7145fa0e",
   "metadata": {},
   "outputs": [
    {
     "data": {
      "text/plain": [
       "190569291"
      ]
     },
     "execution_count": 666,
     "metadata": {},
     "output_type": "execute_result"
    }
   ],
   "source": [
    "# PE 76:  Counting Summations\n",
    "def partition(n):  # count partitions of integer n\n",
    "    ways = [1] + [0] * (n)\n",
    "    for options in range(1,n+1):\n",
    "        for i in range(len(ways) - options):\n",
    "            ways[i + options] += ways[i]\n",
    "    return ways[-1]        \n",
    "partition(100) - 1"
   ]
  },
  {
   "cell_type": "code",
   "execution_count": 681,
   "id": "c371ed96",
   "metadata": {},
   "outputs": [
    {
     "name": "stdout",
     "output_type": "stream",
     "text": [
      "71\n"
     ]
    }
   ],
   "source": [
    "# PE 77: Prime Summations\n",
    "def is_prime(num):\n",
    "    if num <= 1: return False\n",
    "    if num in (2,3): return True\n",
    "    if num % 2 == 0 or num % 3 == 0: return False\n",
    "    for i in range(5, int(num ** 0.5) + 1, 6):\n",
    "        if num % i == 0 or num % (i+2) == 0:\n",
    "            return False\n",
    "    return True\n",
    "\n",
    "def partition(alist, goal):  # count partitions of numbers up to  goal , alist = list of numbers allowed to use\n",
    "    ways = [1] + [0] * (goal)\n",
    "    for options in alist:\n",
    "        for i in range(len(ways) - options):\n",
    "            ways[i + options] += ways[i]\n",
    "    return ways        # ways[i] = number of partitions of i using elements in alist\n",
    "\n",
    "pist = [i for i in range(2,10000) if is_prime(i)]\n",
    "res = partition(pist,100)    # arbitrary bound\n",
    "for i,n in enumerate(res):\n",
    "    if n > 5000:\n",
    "        print(i)\n",
    "        break"
   ]
  },
  {
   "cell_type": "code",
   "execution_count": 668,
   "id": "753f2304",
   "metadata": {},
   "outputs": [
    {
     "name": "stdout",
     "output_type": "stream",
     "text": [
      "55374\n"
     ]
    }
   ],
   "source": [
    "# PE 78: Coin Partitions    (Partition recurrence relations)\n",
    "def p(n):\n",
    "    pist = [1]\n",
    "    for i in range(1,n+1):\n",
    "        s = 0\n",
    "        k= 1\n",
    "        g = i\n",
    "        while g >= 0:\n",
    "            g -= 2*k-1\n",
    "            if g < 0: break\n",
    "            s += pist[g] * int((-1)**(k%2-1))\n",
    "            g -= k\n",
    "            if g < 0: break\n",
    "            s += pist[g] * int((-1)**(k%2-1))\n",
    "            k+=1\n",
    "        pist.append(s % 1000000)   # crop to save time since only the last 6 digit matters\n",
    "        if pist[-1] % 1000000 == 0:\n",
    "            print(i)\n",
    "            return\n",
    "p(1000000)    # arbitrary bound"
   ]
  },
  {
   "cell_type": "code",
   "execution_count": 438,
   "id": "7c5989d6",
   "metadata": {},
   "outputs": [],
   "source": [
    "def is_prime(num):\n",
    "    if num <= 1: return False\n",
    "    if num in (2,3): return True\n",
    "    if num % 2 == 0 or num % 3 == 0: return False\n",
    "    for i in range(5, int(num ** 0.5) + 1, 6):\n",
    "        if num % i == 0 or num % (i+2) == 0:\n",
    "            return False\n",
    "    return True\n",
    "def prime(x): # return whether x is prime (slow)\n",
    "    if x<=1:\n",
    "        return 0\n",
    "    for i in range(2,int(x**0.5)+1):\n",
    "        if x%i==0:\n",
    "            return 0\n",
    "    return 1\n",
    "\n",
    "def is_prime2(n):         #version 2 (faster)\n",
    "    if n == 2 or n == 3: return True\n",
    "    if n < 2 or n%2 == 0: return False\n",
    "    if n < 9: return True\n",
    "    if n%3 == 0: return False\n",
    "    r = int(n**0.5)\n",
    "  # since all primes > 3 are of the form 6n ± 1\n",
    "  # start with f=5 (which is prime)\n",
    "  # and test f, f+2 for being prime\n",
    "  # then loop by 6. \n",
    "    f = 5\n",
    "    while f <= r:\n",
    "        if n % f == 0: return False\n",
    "        if n % (f+2) == 0: return False\n",
    "        f += 6\n",
    "    return True   \n",
    "\n",
    "def miller(n):  \n",
    "    \"\"\"returns True if n is prime else False\"\"\"\n",
    "    if n < 5 or n & 1 == 0 or n % 3 == 0:\n",
    "        return 2 <= n <= 3\n",
    "    s = ((n - 1) & (1 - n)).bit_length() - 1\n",
    "    d = n >> s\n",
    "    for a in [2, 325, 9375, 28178, 450775, 9780504, 1795265022]:\n",
    "        p = pow(a, d, n)\n",
    "        if p == 1 or p == n - 1 or a % n == 0:\n",
    "            continue\n",
    "        for _ in range(s):\n",
    "            p = (p * p) % n\n",
    "            if p == n - 1:\n",
    "                break\n",
    "        else:\n",
    "            return False\n",
    "    return True"
   ]
  },
  {
   "cell_type": "code",
   "execution_count": 670,
   "id": "6d519bde",
   "metadata": {},
   "outputs": [
    {
     "name": "stdout",
     "output_type": "stream",
     "text": [
      "55374\n",
      "3.115205900001456\n"
     ]
    }
   ],
   "source": [
    "tick = perf_counter()\n",
    "def p(n):\n",
    "    pist = [1]\n",
    "    for i in range(1,n+1):\n",
    "        s = 0\n",
    "        k= 1\n",
    "        g = i\n",
    "        while g >= 0:\n",
    "            g -= 2*k-1\n",
    "            if g < 0: break\n",
    "            s += pist[g] * int((-1)**(k%2-1))\n",
    "            g -= k\n",
    "            if g < 0: break\n",
    "            s += pist[g] * int((-1)**(k%2-1))\n",
    "            k+=1\n",
    "        pist.append(s % 1000000)   # crop to save time since only the last 6 digit matters\n",
    "        if pist[-1] % 1000000 == 0:\n",
    "            print(i)\n",
    "            return\n",
    "p(1000000)    # arbitrary bound\n",
    "tock = perf_counter()\n",
    "print(tock-tick)"
   ]
  },
  {
   "cell_type": "code",
   "execution_count": 433,
   "id": "8d2c1690",
   "metadata": {},
   "outputs": [
    {
     "data": {
      "application/vnd.jupyter.widget-view+json": {
       "model_id": "feebfe6aa1884578aa132ad45e0c6409",
       "version_major": 2,
       "version_minor": 0
      },
      "text/plain": [
       "  0%|          | 0/5000000 [00:00<?, ?it/s]"
      ]
     },
     "metadata": {},
     "output_type": "display_data"
    },
    {
     "name": "stdout",
     "output_type": "stream",
     "text": [
      "12.061873699996795\n"
     ]
    }
   ],
   "source": [
    "tick = perf_counter()\n",
    "for i in tqdm(range(5*10**6)):\n",
    "    is_prime2(i)\n",
    "tock = perf_counter()\n",
    "print(tock-tick)"
   ]
  },
  {
   "cell_type": "code",
   "execution_count": 420,
   "id": "b009c598",
   "metadata": {},
   "outputs": [
    {
     "data": {
      "application/vnd.jupyter.widget-view+json": {
       "model_id": "b1310268b5b04846ab38a664fd03161c",
       "version_major": 2,
       "version_minor": 0
      },
      "text/plain": [
       "  0%|          | 0/5000000 [00:00<?, ?it/s]"
      ]
     },
     "metadata": {},
     "output_type": "display_data"
    },
    {
     "name": "stdout",
     "output_type": "stream",
     "text": [
      "23.93238480000582\n"
     ]
    }
   ],
   "source": [
    "tick = perf_counter()\n",
    "for i in tqdm(range(5*10**6)):\n",
    "    prime(i)\n",
    "tock = perf_counter()\n",
    "print(tock-tick)"
   ]
  },
  {
   "cell_type": "code",
   "execution_count": 422,
   "id": "a9dbf1d6",
   "metadata": {},
   "outputs": [
    {
     "data": {
      "application/vnd.jupyter.widget-view+json": {
       "model_id": "20c65696480a4bf6bd52dc03f58e6288",
       "version_major": 2,
       "version_minor": 0
      },
      "text/plain": [
       "  0%|          | 0/5000000 [00:00<?, ?it/s]"
      ]
     },
     "metadata": {},
     "output_type": "display_data"
    },
    {
     "name": "stdout",
     "output_type": "stream",
     "text": [
      "6.348118200003228\n"
     ]
    }
   ],
   "source": [
    "tick = perf_counter()\n",
    "for i in tqdm(range(5*10**6)):\n",
    "    miller(i)\n",
    "tock = perf_counter()\n",
    "print(tock-tick)"
   ]
  },
  {
   "cell_type": "code",
   "execution_count": 439,
   "id": "352941c1",
   "metadata": {},
   "outputs": [],
   "source": [
    "for i in range(1000000):\n",
    "    if miller(i) != is_prime(i):\n",
    "        print(i)"
   ]
  },
  {
   "cell_type": "code",
   "execution_count": 209,
   "id": "09430316",
   "metadata": {},
   "outputs": [
    {
     "data": {
      "text/plain": [
       "'p'"
      ]
     },
     "execution_count": 209,
     "metadata": {},
     "output_type": "execute_result"
    }
   ],
   "source": []
  },
  {
   "cell_type": "code",
   "execution_count": 206,
   "id": "8abb3f32",
   "metadata": {},
   "outputs": [
    {
     "data": {
      "text/plain": [
       "112"
      ]
     },
     "execution_count": 206,
     "metadata": {},
     "output_type": "execute_result"
    }
   ],
   "source": [
    "80^32"
   ]
  },
  {
   "cell_type": "code",
   "execution_count": 207,
   "id": "4959b33c",
   "metadata": {},
   "outputs": [
    {
     "data": {
      "text/plain": [
       "'p'"
      ]
     },
     "execution_count": 207,
     "metadata": {},
     "output_type": "execute_result"
    }
   ],
   "source": [
    "chr(112)"
   ]
  },
  {
   "cell_type": "code",
   "execution_count": 200,
   "id": "a95bb6e4",
   "metadata": {},
   "outputs": [
    {
     "name": "stdout",
     "output_type": "stream",
     "text": [
      "127\n"
     ]
    }
   ],
   "source": [
    "for i in range(255):\n",
    "    if 95^i ==32:\n",
    "        print(i)"
   ]
  },
  {
   "cell_type": "code",
   "execution_count": 201,
   "id": "b0bb7140",
   "metadata": {},
   "outputs": [
    {
     "data": {
      "text/plain": [
       "32"
      ]
     },
     "execution_count": 201,
     "metadata": {},
     "output_type": "execute_result"
    }
   ],
   "source": [
    "ord(' ')"
   ]
  },
  {
   "cell_type": "code",
   "execution_count": 203,
   "id": "70d2f4ff",
   "metadata": {},
   "outputs": [
    {
     "name": "stdout",
     "output_type": "stream",
     "text": [
      "['$', '\\x16', 'P', '\\x00', '\\x00', '\\x04', '\\x17', '\\x19', '\\x13', '\\x11', 'X', '\\x04', '\\x04', '\\x13', '\\x15', '\\x0b', 'X', '\\x16', '\\x17', '\\x17', '\\x1d', 'E', '\\x0c', '\\x18', '\\x00', 'X', '\\x19', '\\x0b', '\\x0c', '\\x02', '\\n', '\\x1c', '\\x05', '\\x06', '\\x0c', '\\x19', '\\n', '\\x16', 'P', '\\n', '\\x1e', 'P', '\\n', '\\x16', '\\x15', 'E', '\\x17', '\\x16', 'E', '=', '\\x05', '\\t', '\\x1d', '\\x02', 'B', '\\x0b', 'P', '\\x08', '\\x17', '\\x03', '\\x11', 'X', '\\x13', '\\x00', '\\x14', '\\x15', '\\x07', '\\n', '\\x11', '\\x11', '\\x1d', '\\x14', 'E', '\\x08', '\\x11', '\\x15', '\\x1d', '\\x02', '\\x16', 'T', 'P', 'G', '<', '\\x15', 'E', '\\x0b', '\\x05', '\\x08', '\\x15', '\\x19', '\\x16', 'X', '\\x03', '\\x00', '\\n', '\\x19', '\\x00', '\\n', '\\x05', '\\x08', 'X', '\\x02', '\\x00', '\\x1b', '\\x19', '\\x15', '\\n', '\\x1f', '\\x06', '\\x19', '\\x02', '\\x10', '\\x15', 'R', 'E', '#', '?', '\\x0b', 'X', '\\x04', '\\r', '\\x1d', 'P', '\\x16', '\\r', '\\x1d', '\\x16', 'X', '\\x1f', '\\x03', 'X', '\\x03', '\\x00', '\\n', '\\x19', '\\x00', '\\x0b', 'P', '\\n', '\\x1e', 'P', '\\x17', '\\x1d', '\\x13', '\\x0c', '\\x08', '\\x02', '\\n', '\\x1b', '\\x11', '\\t', '\\x0b', '-', '_', 'X', '9', 'E', '\\x10', '\\x11', '\\x13', '\\x1d', 'P', '\\x17', '\\x1d', '\\x13', '\\x00', '\\x16', '\\x04', '\\t', '\\x01', 'P', '\\x03', '\\x17', '\\x05', '\\x0b', '\\x1c', '\\\\', 'E', '\\t', '\\x05', '\\x0c', '\\x0c', '\\x15', 'E', '\\r', '\\x1e', '\\x00', '\\x00', '\\x00', '\\x00', '\\x1b', '\\x04', '\\x00', '\\x1c', '\\x1c', '\\x1c', 'T', 'P', '\\x04', '\\x16', 'P', '\\x00', '\\x14', '\\x15', '\\x02', '\\x19', '\\x1e', '\\x11', 'X', '\\x15', '\\x1d', '\\x08', '\\x02', '\\x00', '\\x0b', '\\x03', '\\x0c', '\\x17', '\\x1e', 'E', '\\x1e', '\\x1f', '\\x17', 'X', '\\x04', '\\r', '\\x1d', 'P', '\\x00', '\\x16', '\\x04', '\\x0c', '\\n', '\\x15', 'E', '\\x0b', '\\x05', '\\x08', 'X', '\\x1f', '\\x03', 'X', '\\x04', '\\r', '\\x11', '\\x03', 'E', '\\x0b', '\\x15', '\\x17', '\\x11', '\\x15', '\\x16', 'X', 'A', 'E', 'S', 'P', 'T', 'W', 'D', 'E', 'S', 'P', 'T', 'W', 'I', 'E', 'S', 'P', 'T', 'W', 'A', 'S', 'X', '[', 'E', '\\x1d', '\\x04', '\\x06', 'V', '\\\\', 'E', '\\x0f', '\\x18', '\\x0c', '\\x1b', '\\x18', 'E', '\\x1c', '\\x15', '\\x15', '\\x1d', '\\x1e', '\\x01', '\\x0b', 'P', '\\n', '\\x16', 'P', '\\x11', '\\x10', '\\x15', 'E', '\\t', '\\x05', '\\x04', '\\x1c', '\\x02', '\\x04', '\\x0c', '\\x05', '\\x17', '\\x1d', 'P', '\\n', '\\x1e', 'P', '\\x11', '\\x10', '\\x15', 'E', '\\x1b', '\\x19', '\\x17', '\\x1b', '\\x1c', '\\x00', 'T', 'P', '\\x16', '\\x17', 'P', '\\x11', '\\x10', '\\x11', '\\x11', 'X', '\\x19', '\\x03', 'X', '\\x04', '\\r', '\\x1d', 'P', '\\x11', '\\n', '\\x05', '\\x00', 'X', '\\x03', '\\x10', '\\x15', 'P', '\\n', '\\x1e', 'P', '\\x11', '\\x10', '\\x19', '\\x16', 'X', '\\x03', '\\x00', '\\n', '\\x19', '\\x00', '\\x0b', 'P', '\\x0c', '\\x0b', 'P', '\\n', '\\x1a', '\\x04', '\\x04', '\\x11', '\\x1e', '\\x00', '\\x1c', '\\\\', 'E', '\\x1e', '\\x02', '\\n', '\\x15', 'P', '\\x0c', '\\x0c', 'P', '\\x04', '\\x0c', 'P', '\\n', '\\x16', '\\x13', '\\x00', 'X', '\\x04', '\\r', '\\x1d', 'P', '\\x14', '\\r', '\\x11', '\\x01', '\\n', '\\x11', '\\x11', '\\r', '\\x02', '\\x00', 'X', '\\x1f', '\\x03', 'X', '\\x04', '\\r', '\\x1d', 'P', '\\x06', '\\x11', '\\x02', '\\x06', '\\x14', '\\x15', 'E', '\\x1e', '\\x1f', '\\t', '\\x14', '\\x1f', '\\x12', '\\x0b', '^', 'E', '6', '\\x11', '\\x08', '\\x1d', '\\x1c', '\\x1c', 'T', 'P', ',', 'X', '\\x18', '\\x04', '\\x0e', '\\x15', 'E', '\\x1e', '\\x1f', '\\x10', '\\x16', '\\x14', 'E', '\\x0c', '\\x18', '\\x04', '\\x0c', 'P', '\\x11', '\\x10', '\\x15', 'E', '\\x0b', '\\x05', '\\x08', 'X', '\\x1f', '\\x03', 'X', '\\x04', '\\r', '\\x11', '\\x03', 'E', '\\x0b', '\\x15', '\\x17', '\\x11', '\\x15', '\\x16', 'X', '\\x19', '\\x16', 'X', '\\x11', 'E', '\\x0b', '\\x19', '\\x1d', '\\x0c', '\\x18', 'E', '\\x08', '\\x11', '\\x17', '\\x0c', 'P', '\\n', '\\x1e', 'P', '\\x11', '\\x10', '\\x15', 'E', '\\x0b', '\\x01', '\\x10', '\\x19', '\\x02', '\\x00', 'X', '\\x1f', '\\x03', 'X', '\\x04', '\\r', '\\x1d', 'P', '\\x15', '\\x1d', '\\x02', '\\x0c', '\\x15', '\\x15', '\\x11', '\\x1d', '\\x02', 'E', '\\x17', '\\x16', 'E', '\\x0c', '\\x18', '\\x00', 'X', '\\x13', '\\x0c', '\\n', '\\x13', '\\t', '\\x1d', 'P', '\\x12', '\\x10', '\\x1f', '\\x16', '\\x1d', 'P', '\\x01', '\\x11', '\\x11', '\\x08', '\\x1d', '\\x04', '\\x00', '\\n', 'P', '\\x0c', '\\x0b', 'P', 'T', 'C', 'P', '\\n', '\\n', 'P', '\\x07', '\\x01', 'P', '\\x15', '\\r', '\\x04', '\\x11', '\\x11', '\\x1e', '\\x02', 'X', '\\x04', '\\r', '\\x1d', 'P', '\\x16', '\\r', '\\x1d', 'E', '\\x17', '\\x16', 'E', '\\x0c', '\\x18', '\\x0c', '\\x0b', 'P', '\\x16', '\\x1d', '\\x02', '\\x0c', '\\x1d', '\\x03', 'E', '\\x1d', '\\x01', '\\x10', '\\x19', '\\x1c', 'E', '\\x0c', '\\x1f', 'E', '\\x0b', '\\\\', 'E', '\\x11', '\\x04', 'E', '\\x10', '\\x11', '\\x16', 'X', '\\x04', '\\r', '\\x1d', 'P', '\\x17', '\\x19', '\\x04', '\\x0c', '\\x17', 'P', '\\x16', '\\t', '\\x02', '\\x11', 'P', 'F', 'L', 'X', '\\x1d', '\\x10', '\\x14', '\\x04', '\\x0c', '\\x08', '\\x1c', '\\x0c', '\\x1d', '\\x14', 'E', '\\x1a', '\\t', 'E', '\\x0b', 'P', '\\x11', '\\x17', 'P', 'T', 'X', '\\x1f', '\\x03', 'X', '\\x04', '\\r', '\\x1d', 'P', '\\x15', '\\x1d', '\\x02', '\\x0c', '\\x15', '\\x15', '\\x11', '\\x1d', '\\x02', 'E', '\\x0c', '\\x1f', 'E', '\\x0c', '\\x18', '\\x00', 'X', '\\x14', '\\x0c', '\\x19', '\\x1d', '\\x00', '\\x0c', '\\x15', '\\x17', 'V', 'P', ',', 'X', '\\x07', '\\x0c', '\\x14', '\\x1c', 'E', '\\x0b', '\\x1f', '\\n', '\\x16', 'P', '\\x16', '\\x10', '\\x1f', '\\x12', 'X', '\\x04', '\\r', '\\x19', '\\x04', 'E', '\\x0c', '\\x18', '\\x00', 'X', '\\x03', '\\x10', '\\x15', 'P', '\\n', '\\x1e', 'P', '\\x11', '\\x10', '\\x19', '\\x16', 'X', '\\x03', '\\x00', '\\n', '\\x19', '\\x00', '\\x0b', 'P', '\\x11', '\\x17', 'P', '\\x07', '\\x1d', 'P', '\\x04', '\\x08', '\\x00', '\\x17', '\\x17', '\\x08', '\\x0c', '\\x15', '\\x11', '\\x11', '\\x1d', '\\x1c', '\\x1c', 'X', 'A', 'K', 'N', 'D', 'Q', 'A', 'C', 'Q', 'H', 'F', 'S', '@', 'D', 'W', 'J', 'F', 'Q', 'K', 'F', 'Q', 'C', 'P', '\\x04', '\\x16', '\\x14', 'E', '\\x1e', '\\x02', '\\n', '\\x15', 'P', '\\x08', '\\r', '\\x1c', '\\x11', '\\x11', '\\x00', '\\t', '\\x01', '\\x19', '\\x0b', '\\x1f', 'P', '\\x11', '\\x10', '\\x19', '\\x16', 'X', '\\x1e', '\\x10', '\\x15', '\\x12', '\\x00', '\\n', 'P', '\\x07', '\\x01', 'P', '\\x16', '\\x11', '\\x08', 'I', 'X', '\\x11', '\\x0b', '\\x1c', 'P', '\\x11', '\\x10', '\\x15', '\\x0b', 'X', '\\x04', '\\x04', '\\x13', '\\x19', '\\x0b', '\\x1f', 'P', '\\x11', '\\x10', '\\x15', 'E', '\\x0b', '\\x01', '\\x10', '\\x19', '\\x02', '\\x00', 'X', '\\x02', '\\n', '\\x17', '\\x04', 'I', 'X', '\\x04', '\\r', '\\x1d', 'P', '\\x0b', '\\r', '\\x1d', '\\x07', '\\x1d', '\\x02', 'E', 'K', '^', 'T', 'L', 'A', 'P', 'A', 'B', 'S', 'M', 'C', 'P', '@', 'I', 'R', 'A', 'C', 'W', 'K', 'H', 'E', '\\x11', '\\x03', 'E', '\\x11', '\\x1e', '\\x01', '\\x1d', '\\x15', '\\x01', 'X', '\\x00', '\\x17', '\\x17', '\\x14', '\\x10', '\\x1b', '\\x15', '\\x01', 'T', 'P', '\\x12', '\\x10', '\\x19', '\\x06', '\\x10', 'P', '\\x00', '\\x00', '\\x00', '\\x17', '\\x1d', '\\x03', '\\x16', '\\x1d', '\\x03', 'E', '\\x0c', '\\x18', '\\x00', 'X', '\\x00', '\\x00', '\\n', '\\x19', '\\x08', '\\x1d', '\\x04', '\\x00', '\\n', 'P', '\\n', '\\x1e', 'P', '\\x04', 'X', '\\x13', '\\x0c', '\\n', '\\x13', '\\t', '\\x1d', 'P', '\\x12', '\\x10', '\\x1f', '\\x16', '\\x1d', 'P', '\\x01', '\\x11', '\\x11', '\\x08', '\\x1d', '\\x04', '\\x00', '\\n', 'P', '\\x0c', '\\x0b', 'P', 'T', 'V', 'P', '#', '\\x17', '\\x1c', '\\t', '\\x17', '\\x07', '\\x0c', '\\x16', '\\x17', 'E', '\\x19', '\\x17', '\\x04', '\\x11', '\\x1e', 'E', '\\x0c', '\\x18', '\\x00', 'X', '\\x03', '\\x04', '\\x15', '\\x15', 'E', '\\x0b', '\\x04', '\\x00', '\\x08', '\\x03', 'E', '\\x1a', '\\t', 'E', '\\x0f', '\\x18', '\\x0c', '\\x1b', '\\x18', 'E', '1', 'P', '\\r', '\\x19', '\\x14', 'E', '\\x19', '\\x02', '\\x17', '\\x11', '\\x06', '\\x00', '\\x1c', 'P', '\\x04', '\\x0c', 'P', '\\x11', '\\x10', '\\x19', '\\x16', 'X', '\\x03', '\\x10', '\\x15', '\\\\', 'E', '1', 'P', '\\r', '\\x19', '\\x06', '\\x00', 'X', '\\x14', '\\x0c', '\\x0b', '\\x13', '\\n', '\\x0e', '\\x15', '\\x17', '\\x1d', '\\x14', 'E', '\\x0c', '\\x18', '\\x04', '\\x0c', 'P', '\\x11', '\\x10', '\\x15', 'E', '\\x0b', '\\x05', '\\x08', 'X', '\\x1f', '\\x03', 'X', '\\x04', '\\r', '\\x1d', 'P', '\\x16', '\\x1d', '\\x02', '\\x0c', '\\x1d', '\\x03', 'E', 'I', 'P', 'N', 'X', 'A', 'J', 'I', 'F', 'E', 'S', 'P', 'T', 'W', 'H', 'T', 'X', '[', 'E', 'I', '_', 'W', 'M', 'F', 'E', 'S', 'P', 'T', 'W', 'F', 'W', 'M', 'P', 'N', 'X', '\\x15', '\\x11', '\\x1b', '^', 'E', '\\x19', '\\x1c', '\\x16', '\\x17', 'P', '\\x01', '\\x1d', '\\x00', '\\x00', '\\x16', '\\x14', '\\x16', 'X', '\\x1f', '\\x0b', 'X', '\\x04', '\\r', '\\x1d', 'P', '\\x14', '\\r', '\\x11', '\\x01', '\\n', '\\x11', '\\x11', '\\r', '\\x02', '\\x00', 'X', '\\x1f', '\\x03', 'X', '\\x04', '\\r', '\\x1d', 'P', '\\x06', '\\x11', '\\x02', '\\x06', '\\x14', '\\x15', 'K', 'X', '>', '\\x04', '\\x15', '\\x15', '\\t', '\\x01', '\\\\', 'E', '\\x0c', '\\x18', '\\x00', 'X', '\\x03', '\\x10', '\\x15', 'P', '\\n', '\\x1e', 'P', '\\x11', '\\x10', '\\x19', '\\x16', 'X', '\\x1d', '\\x10', '\\x14', '\\x04', '\\x0c', '\\x08', '\\x1c', '\\x0c', '\\x1d', '\\x14', 'E', '\\x1a', '\\t', 'E', 'A', '@', 'E', '\\x1f', '\\x19', '\\x13', '\\x1d', '\\x03', 'E', '\\x0c', '\\x18', '\\x00', 'X', '\\x12', '\\x0c', '\\t', '\\x05', '\\x04', '\\x1c', '\\x02', '\\x04', '\\x0c', '\\x15', 'E', 'P', '\\x16', '\\n', '\\r', '\\x02', '\\x11', '\\x10', 'P', '\\x15', '\\x17', '\\x07', '\\x00', '\\n', 'Y', 'E', '\\x17', '\\x16', 'E', '\\x0c', '\\x18', '\\x00', 'X', '\\x13', '\\x0c', '\\n', '\\x13', '\\x10', '\\x15', '\\x16', '\\x00', '\\n', '\\x15', '\\x0b', '\\x1b', '\\x15', 'E', '\\x17', '\\x16', 'E', '\\x0c', '\\x18', '\\x00', 'X', '\\x00', '\\x00', '\\n', '\\x19', '\\x08', '\\x1d', '\\x04', '\\x00', '\\n', 'P', '\\n', '\\x1e', 'P', '\\x04', 'X', '\\x13', '\\x0c', '\\n', '\\x13', '\\t', '\\x1d', 'P', '\\x12', '\\x10', '\\x1f', '\\x16', '\\x1d', 'P', '\\x01', '\\x11', '\\x11', '\\x08', '\\x1d', '\\x04', '\\x00', '\\n', 'P', '\\x0c', '\\x0b', 'P', 'T', 'V', 'P', '$', '\\x16', '\\x14', 'E', '\\x1a', '\\t', 'E', '\\x0b', '\\x19', '\\x08', '\\x11', '\\x1c', '\\x04', '\\n', 'P', '\\x17', '\\x1d', '\\x11', '\\x16', '\\x17', '\\x1e', '\\x0c', '\\x16', '\\x17', 'E', '1', 'P', '\\r', '\\x19', '\\x06', '\\x00', 'X', '\\x1c', '\\x0c', '\\x13', '\\x15', '\\x12', '\\x11', '\\x03', '\\x00', 'X', '\\x12', '\\x00', '\\x1d', '\\x1e', 'E', '\\x19', '\\x12', '\\t', '\\x1d', 'P', '\\x11', '\\x17', 'P', '\\x01', '\\x1d', '\\x04', '\\x00', '\\n', '\\x1d', '\\x0c', '\\x16', '\\x15', 'E', '\\x0c', '\\x18', '\\x00', 'X', '\\x03', '\\x10', '\\x15', '\\x03', 'E', '\\x17', '\\x16', 'E', '\\x0c', '\\x18', '\\x00', 'X', '\\x03', '\\x10', '\\x1a', '\\x03', '\\x00', '\\t', '\\x05', '\\x00', '\\x16', '\\x04', 'E', '\\x0b', '\\x15', '\\x17', '\\x11', '\\x15', '\\x16', 'X', '\\x19', '\\x0b', 'X', '\\x07', '\\r', '\\x11', '\\x13', '\\r', 'X', '\\x04', '\\r', '\\x1d', 'P', '\\x00', '\\x00', '\\x00', '\\n', '\\x16', '\\x15', '\\x0b', '\\x0c', '\\x03', 'E', '\\x19', '\\x02', '\\x00', 'X', '\\x15', '\\x13', '\\x1d', '\\x1e', 'E', '\\x16', '\\x05', '\\x08', '\\x1a', '\\x15', '\\x17', '\\x0b', '^']\n"
     ]
    }
   ],
   "source": [
    "print([chr(i) for i in raw])"
   ]
  },
  {
   "cell_type": "code",
   "execution_count": 32,
   "id": "64254e71",
   "metadata": {},
   "outputs": [
    {
     "name": "stdout",
     "output_type": "stream",
     "text": [
      "2783915460\n"
     ]
    }
   ],
   "source": [
    "from math import factorial\n",
    "def find_nth_lexi(n,digits= [0,1,2,3,4,5,6,7,8,9]):\n",
    "    nth_count= 0\n",
    "    final_num = \"\"\n",
    "    while len(digits)>0:\n",
    "        i = 0\n",
    "        movable_numbers = len(digits[1:])\n",
    "        first_num = digits[i]\n",
    "        while (((nth_count+factorial(movable_numbers))< n)):\n",
    "            nth_count += factorial(movable_numbers)\n",
    "            i+=1\n",
    "            first_num = digits[i]\n",
    "        final_num+=str(first_num)\n",
    "        digits.remove(first_num)\n",
    "\n",
    "    return final_num\n",
    "print(find_nth_lexi(1000000))"
   ]
  },
  {
   "cell_type": "code",
   "execution_count": 75,
   "id": "b116a9a1",
   "metadata": {},
   "outputs": [
    {
     "data": {
      "text/plain": [
       "2783915460"
      ]
     },
     "execution_count": 75,
     "metadata": {},
     "output_type": "execute_result"
    }
   ],
   "source": [
    "quotients(999999)"
   ]
  },
  {
   "cell_type": "code",
   "execution_count": 119,
   "id": "0c82bad1",
   "metadata": {},
   "outputs": [
    {
     "name": "stdout",
     "output_type": "stream",
     "text": [
      "p: 12\n",
      "q: 0\n",
      "q: 0\n",
      "q: 0\n",
      "q: 0\n",
      "q: 2\n",
      "q: 3\n",
      "q: 5\n",
      "q: 5\n",
      "q: 1\n",
      "q: 2\n",
      "q: 2\n",
      "q: 0\n",
      "q: 0\n"
     ]
    },
    {
     "data": {
      "text/plain": [
       "'abcdgilmfjkeh'"
      ]
     },
     "execution_count": 119,
     "metadata": {},
     "output_type": "execute_result"
    }
   ],
   "source": [
    "# 24b hackerrank\n",
    "from math import factorial\n",
    "def quotients(n):\n",
    "    num = ['a','b','c','d','e','f','g','h','i','j','k','l','m']\n",
    "    p = 12   # len(num) - 1\n",
    "    print('p:',p)\n",
    "    res = ''\n",
    "    for i in range(p+1):\n",
    "        q = n // factorial(p-i)\n",
    "        print('q:',q)\n",
    "        res += str(num.pop(q))\n",
    "        n %= factorial(p-i)\n",
    "    return res\n",
    "quotients(100000)"
   ]
  },
  {
   "cell_type": "code",
   "execution_count": null,
   "id": "9be3333b",
   "metadata": {},
   "outputs": [],
   "source": []
  },
  {
   "cell_type": "code",
   "execution_count": 92,
   "id": "f79a2918",
   "metadata": {},
   "outputs": [
    {
     "name": "stdout",
     "output_type": "stream",
     "text": [
      "one\n",
      "two\n",
      "three\n",
      "four\n",
      "five\n",
      "six\n",
      "seven\n",
      "eight\n",
      "nine\n",
      "ten\n",
      "eleven\n",
      "twelve\n",
      "thirteen\n",
      "fourteen\n",
      "fifteen\n",
      "sixteen\n",
      "seventeen\n",
      "eighteen\n",
      "nineteen\n",
      "twenty\n",
      "twentyone\n",
      "twentytwo\n",
      "twentythree\n",
      "twentyfour\n",
      "twentyfive\n",
      "twentysix\n",
      "twentyseven\n",
      "twentyeight\n",
      "twentynine\n",
      "thirty\n",
      "thirtyone\n",
      "thirtytwo\n",
      "thirtythree\n",
      "thirtyfour\n",
      "thirtyfive\n",
      "thirtysix\n",
      "thirtyseven\n",
      "thirtyeight\n",
      "thirtynine\n",
      "forty\n",
      "fortyone\n",
      "fortytwo\n",
      "fortythree\n",
      "fortyfour\n",
      "fortyfive\n",
      "fortysix\n",
      "fortyseven\n",
      "fortyeight\n",
      "fortynine\n",
      "fifty\n",
      "fiftyone\n",
      "fiftytwo\n",
      "fiftythree\n",
      "fiftyfour\n",
      "fiftyfive\n",
      "fiftysix\n",
      "fiftyseven\n",
      "fiftyeight\n",
      "fiftynine\n",
      "sixty\n",
      "sixtyone\n",
      "sixtytwo\n",
      "sixtythree\n",
      "sixtyfour\n",
      "sixtyfive\n",
      "sixtysix\n",
      "sixtyseven\n",
      "sixtyeight\n",
      "sixtynine\n",
      "seventy\n",
      "seventyone\n",
      "seventytwo\n",
      "seventythree\n",
      "seventyfour\n",
      "seventyfive\n",
      "seventysix\n",
      "seventyseven\n",
      "seventyeight\n",
      "seventynine\n",
      "eighty\n",
      "eightyone\n",
      "eightytwo\n",
      "eightythree\n",
      "eightyfour\n",
      "eightyfive\n",
      "eightysix\n",
      "eightyseven\n",
      "eightyeight\n",
      "eightynine\n",
      "ninety\n",
      "ninetyone\n",
      "ninetytwo\n",
      "ninetythree\n",
      "ninetyfour\n",
      "ninetyfive\n",
      "ninetysix\n",
      "ninetyseven\n",
      "ninetyeight\n",
      "ninetynine\n",
      "onehundred\n",
      "onehundredandone\n",
      "onehundredandtwo\n",
      "onehundredandthree\n",
      "onehundredandfour\n",
      "onehundredandfive\n",
      "onehundredandsix\n",
      "onehundredandseven\n",
      "onehundredandeight\n",
      "onehundredandnine\n",
      "onehundredandten\n",
      "onehundredandeleven\n",
      "onehundredandtwelve\n",
      "onehundredandthirteen\n",
      "onehundredandfourteen\n",
      "onehundredandfifteen\n",
      "onehundredandsixteen\n",
      "onehundredandseventeen\n",
      "onehundredandeighteen\n",
      "onehundredandnineteen\n",
      "onehundredandtwenty\n",
      "onehundredandtwentyone\n",
      "onehundredandtwentytwo\n",
      "onehundredandtwentythree\n",
      "onehundredandtwentyfour\n",
      "onehundredandtwentyfive\n",
      "onehundredandtwentysix\n",
      "onehundredandtwentyseven\n",
      "onehundredandtwentyeight\n",
      "onehundredandtwentynine\n",
      "onehundredandthirty\n",
      "onehundredandthirtyone\n",
      "onehundredandthirtytwo\n",
      "onehundredandthirtythree\n",
      "onehundredandthirtyfour\n",
      "onehundredandthirtyfive\n",
      "onehundredandthirtysix\n",
      "onehundredandthirtyseven\n",
      "onehundredandthirtyeight\n",
      "onehundredandthirtynine\n",
      "onehundredandforty\n",
      "onehundredandfortyone\n",
      "onehundredandfortytwo\n",
      "onehundredandfortythree\n",
      "onehundredandfortyfour\n",
      "onehundredandfortyfive\n",
      "onehundredandfortysix\n",
      "onehundredandfortyseven\n",
      "onehundredandfortyeight\n",
      "onehundredandfortynine\n",
      "onehundredandfifty\n",
      "onehundredandfiftyone\n",
      "onehundredandfiftytwo\n",
      "onehundredandfiftythree\n",
      "onehundredandfiftyfour\n",
      "onehundredandfiftyfive\n",
      "onehundredandfiftysix\n",
      "onehundredandfiftyseven\n",
      "onehundredandfiftyeight\n",
      "onehundredandfiftynine\n",
      "onehundredandsixty\n",
      "onehundredandsixtyone\n",
      "onehundredandsixtytwo\n",
      "onehundredandsixtythree\n",
      "onehundredandsixtyfour\n",
      "onehundredandsixtyfive\n",
      "onehundredandsixtysix\n",
      "onehundredandsixtyseven\n",
      "onehundredandsixtyeight\n",
      "onehundredandsixtynine\n",
      "onehundredandseventy\n",
      "onehundredandseventyone\n",
      "onehundredandseventytwo\n",
      "onehundredandseventythree\n",
      "onehundredandseventyfour\n",
      "onehundredandseventyfive\n",
      "onehundredandseventysix\n",
      "onehundredandseventyseven\n",
      "onehundredandseventyeight\n",
      "onehundredandseventynine\n",
      "onehundredandeighty\n",
      "onehundredandeightyone\n",
      "onehundredandeightytwo\n",
      "onehundredandeightythree\n",
      "onehundredandeightyfour\n",
      "onehundredandeightyfive\n",
      "onehundredandeightysix\n",
      "onehundredandeightyseven\n",
      "onehundredandeightyeight\n",
      "onehundredandeightynine\n",
      "onehundredandninety\n",
      "onehundredandninetyone\n",
      "onehundredandninetytwo\n",
      "onehundredandninetythree\n",
      "onehundredandninetyfour\n",
      "onehundredandninetyfive\n",
      "onehundredandninetysix\n",
      "onehundredandninetyseven\n",
      "onehundredandninetyeight\n",
      "onehundredandninetynine\n",
      "twohundred\n",
      "twohundredandone\n",
      "twohundredandtwo\n",
      "twohundredandthree\n",
      "twohundredandfour\n",
      "twohundredandfive\n",
      "twohundredandsix\n",
      "twohundredandseven\n",
      "twohundredandeight\n",
      "twohundredandnine\n",
      "twohundredandten\n",
      "twohundredandeleven\n",
      "twohundredandtwelve\n",
      "twohundredandthirteen\n",
      "twohundredandfourteen\n",
      "twohundredandfifteen\n",
      "twohundredandsixteen\n",
      "twohundredandseventeen\n",
      "twohundredandeighteen\n",
      "twohundredandnineteen\n",
      "twohundredandtwenty\n",
      "twohundredandtwentyone\n",
      "twohundredandtwentytwo\n",
      "twohundredandtwentythree\n",
      "twohundredandtwentyfour\n",
      "twohundredandtwentyfive\n",
      "twohundredandtwentysix\n",
      "twohundredandtwentyseven\n",
      "twohundredandtwentyeight\n",
      "twohundredandtwentynine\n",
      "twohundredandthirty\n",
      "twohundredandthirtyone\n",
      "twohundredandthirtytwo\n",
      "twohundredandthirtythree\n",
      "twohundredandthirtyfour\n",
      "twohundredandthirtyfive\n",
      "twohundredandthirtysix\n",
      "twohundredandthirtyseven\n",
      "twohundredandthirtyeight\n",
      "twohundredandthirtynine\n",
      "twohundredandforty\n",
      "twohundredandfortyone\n",
      "twohundredandfortytwo\n",
      "twohundredandfortythree\n",
      "twohundredandfortyfour\n",
      "twohundredandfortyfive\n",
      "twohundredandfortysix\n",
      "twohundredandfortyseven\n",
      "twohundredandfortyeight\n",
      "twohundredandfortynine\n",
      "twohundredandfifty\n",
      "twohundredandfiftyone\n",
      "twohundredandfiftytwo\n",
      "twohundredandfiftythree\n",
      "twohundredandfiftyfour\n",
      "twohundredandfiftyfive\n",
      "twohundredandfiftysix\n",
      "twohundredandfiftyseven\n",
      "twohundredandfiftyeight\n",
      "twohundredandfiftynine\n",
      "twohundredandsixty\n",
      "twohundredandsixtyone\n",
      "twohundredandsixtytwo\n",
      "twohundredandsixtythree\n",
      "twohundredandsixtyfour\n",
      "twohundredandsixtyfive\n",
      "twohundredandsixtysix\n",
      "twohundredandsixtyseven\n",
      "twohundredandsixtyeight\n",
      "twohundredandsixtynine\n",
      "twohundredandseventy\n",
      "twohundredandseventyone\n",
      "twohundredandseventytwo\n",
      "twohundredandseventythree\n",
      "twohundredandseventyfour\n",
      "twohundredandseventyfive\n",
      "twohundredandseventysix\n",
      "twohundredandseventyseven\n",
      "twohundredandseventyeight\n",
      "twohundredandseventynine\n",
      "twohundredandeighty\n",
      "twohundredandeightyone\n",
      "twohundredandeightytwo\n",
      "twohundredandeightythree\n",
      "twohundredandeightyfour\n",
      "twohundredandeightyfive\n",
      "twohundredandeightysix\n",
      "twohundredandeightyseven\n",
      "twohundredandeightyeight\n",
      "twohundredandeightynine\n",
      "twohundredandninety\n",
      "twohundredandninetyone\n",
      "twohundredandninetytwo\n",
      "twohundredandninetythree\n",
      "twohundredandninetyfour\n",
      "twohundredandninetyfive\n",
      "twohundredandninetysix\n",
      "twohundredandninetyseven\n",
      "twohundredandninetyeight\n",
      "twohundredandninetynine\n",
      "threehundred\n",
      "threehundredandone\n",
      "threehundredandtwo\n",
      "threehundredandthree\n",
      "threehundredandfour\n",
      "threehundredandfive\n",
      "threehundredandsix\n",
      "threehundredandseven\n",
      "threehundredandeight\n",
      "threehundredandnine\n",
      "threehundredandten\n",
      "threehundredandeleven\n",
      "threehundredandtwelve\n",
      "threehundredandthirteen\n",
      "threehundredandfourteen\n",
      "threehundredandfifteen\n",
      "threehundredandsixteen\n",
      "threehundredandseventeen\n",
      "threehundredandeighteen\n",
      "threehundredandnineteen\n",
      "threehundredandtwenty\n",
      "threehundredandtwentyone\n",
      "threehundredandtwentytwo\n",
      "threehundredandtwentythree\n",
      "threehundredandtwentyfour\n",
      "threehundredandtwentyfive\n",
      "threehundredandtwentysix\n",
      "threehundredandtwentyseven\n",
      "threehundredandtwentyeight\n",
      "threehundredandtwentynine\n",
      "threehundredandthirty\n",
      "threehundredandthirtyone\n",
      "threehundredandthirtytwo\n",
      "threehundredandthirtythree\n",
      "threehundredandthirtyfour\n",
      "threehundredandthirtyfive\n",
      "threehundredandthirtysix\n",
      "threehundredandthirtyseven\n",
      "threehundredandthirtyeight\n",
      "threehundredandthirtynine\n",
      "threehundredandforty\n",
      "threehundredandfortyone\n",
      "threehundredandfortytwo\n",
      "threehundredandfortythree\n",
      "threehundredandfortyfour\n",
      "threehundredandfortyfive\n",
      "threehundredandfortysix\n",
      "threehundredandfortyseven\n",
      "threehundredandfortyeight\n",
      "threehundredandfortynine\n",
      "threehundredandfifty\n",
      "threehundredandfiftyone\n",
      "threehundredandfiftytwo\n",
      "threehundredandfiftythree\n",
      "threehundredandfiftyfour\n",
      "threehundredandfiftyfive\n",
      "threehundredandfiftysix\n",
      "threehundredandfiftyseven\n",
      "threehundredandfiftyeight\n",
      "threehundredandfiftynine\n",
      "threehundredandsixty\n",
      "threehundredandsixtyone\n",
      "threehundredandsixtytwo\n",
      "threehundredandsixtythree\n",
      "threehundredandsixtyfour\n",
      "threehundredandsixtyfive\n",
      "threehundredandsixtysix\n",
      "threehundredandsixtyseven\n",
      "threehundredandsixtyeight\n",
      "threehundredandsixtynine\n",
      "threehundredandseventy\n",
      "threehundredandseventyone\n",
      "threehundredandseventytwo\n",
      "threehundredandseventythree\n",
      "threehundredandseventyfour\n",
      "threehundredandseventyfive\n",
      "threehundredandseventysix\n",
      "threehundredandseventyseven\n",
      "threehundredandseventyeight\n",
      "threehundredandseventynine\n",
      "threehundredandeighty\n",
      "threehundredandeightyone\n",
      "threehundredandeightytwo\n",
      "threehundredandeightythree\n",
      "threehundredandeightyfour\n",
      "threehundredandeightyfive\n",
      "threehundredandeightysix\n",
      "threehundredandeightyseven\n",
      "threehundredandeightyeight\n",
      "threehundredandeightynine\n",
      "threehundredandninety\n",
      "threehundredandninetyone\n",
      "threehundredandninetytwo\n",
      "threehundredandninetythree\n",
      "threehundredandninetyfour\n",
      "threehundredandninetyfive\n",
      "threehundredandninetysix\n",
      "threehundredandninetyseven\n",
      "threehundredandninetyeight\n",
      "threehundredandninetynine\n",
      "fourhundred\n",
      "fourhundredandone\n",
      "fourhundredandtwo\n",
      "fourhundredandthree\n",
      "fourhundredandfour\n",
      "fourhundredandfive\n",
      "fourhundredandsix\n",
      "fourhundredandseven\n",
      "fourhundredandeight\n",
      "fourhundredandnine\n",
      "fourhundredandten\n",
      "fourhundredandeleven\n",
      "fourhundredandtwelve\n",
      "fourhundredandthirteen\n",
      "fourhundredandfourteen\n",
      "fourhundredandfifteen\n",
      "fourhundredandsixteen\n",
      "fourhundredandseventeen\n",
      "fourhundredandeighteen\n",
      "fourhundredandnineteen\n",
      "fourhundredandtwenty\n",
      "fourhundredandtwentyone\n",
      "fourhundredandtwentytwo\n",
      "fourhundredandtwentythree\n",
      "fourhundredandtwentyfour\n",
      "fourhundredandtwentyfive\n",
      "fourhundredandtwentysix\n",
      "fourhundredandtwentyseven\n",
      "fourhundredandtwentyeight\n",
      "fourhundredandtwentynine\n",
      "fourhundredandthirty\n",
      "fourhundredandthirtyone\n",
      "fourhundredandthirtytwo\n",
      "fourhundredandthirtythree\n",
      "fourhundredandthirtyfour\n",
      "fourhundredandthirtyfive\n",
      "fourhundredandthirtysix\n",
      "fourhundredandthirtyseven\n",
      "fourhundredandthirtyeight\n",
      "fourhundredandthirtynine\n",
      "fourhundredandforty\n",
      "fourhundredandfortyone\n",
      "fourhundredandfortytwo\n",
      "fourhundredandfortythree\n",
      "fourhundredandfortyfour\n",
      "fourhundredandfortyfive\n",
      "fourhundredandfortysix\n",
      "fourhundredandfortyseven\n",
      "fourhundredandfortyeight\n",
      "fourhundredandfortynine\n",
      "fourhundredandfifty\n",
      "fourhundredandfiftyone\n",
      "fourhundredandfiftytwo\n",
      "fourhundredandfiftythree\n",
      "fourhundredandfiftyfour\n",
      "fourhundredandfiftyfive\n",
      "fourhundredandfiftysix\n",
      "fourhundredandfiftyseven\n",
      "fourhundredandfiftyeight\n",
      "fourhundredandfiftynine\n",
      "fourhundredandsixty\n",
      "fourhundredandsixtyone\n",
      "fourhundredandsixtytwo\n",
      "fourhundredandsixtythree\n",
      "fourhundredandsixtyfour\n",
      "fourhundredandsixtyfive\n",
      "fourhundredandsixtysix\n",
      "fourhundredandsixtyseven\n",
      "fourhundredandsixtyeight\n",
      "fourhundredandsixtynine\n",
      "fourhundredandseventy\n",
      "fourhundredandseventyone\n",
      "fourhundredandseventytwo\n",
      "fourhundredandseventythree\n",
      "fourhundredandseventyfour\n",
      "fourhundredandseventyfive\n",
      "fourhundredandseventysix\n",
      "fourhundredandseventyseven\n",
      "fourhundredandseventyeight\n",
      "fourhundredandseventynine\n",
      "fourhundredandeighty\n",
      "fourhundredandeightyone\n",
      "fourhundredandeightytwo\n",
      "fourhundredandeightythree\n",
      "fourhundredandeightyfour\n",
      "fourhundredandeightyfive\n",
      "fourhundredandeightysix\n",
      "fourhundredandeightyseven\n",
      "fourhundredandeightyeight\n",
      "fourhundredandeightynine\n",
      "fourhundredandninety\n",
      "fourhundredandninetyone\n",
      "fourhundredandninetytwo\n",
      "fourhundredandninetythree\n",
      "fourhundredandninetyfour\n",
      "fourhundredandninetyfive\n",
      "fourhundredandninetysix\n",
      "fourhundredandninetyseven\n",
      "fourhundredandninetyeight\n",
      "fourhundredandninetynine\n",
      "fivehundred\n",
      "fivehundredandone\n",
      "fivehundredandtwo\n",
      "fivehundredandthree\n",
      "fivehundredandfour\n",
      "fivehundredandfive\n",
      "fivehundredandsix\n",
      "fivehundredandseven\n",
      "fivehundredandeight\n",
      "fivehundredandnine\n",
      "fivehundredandten\n",
      "fivehundredandeleven\n",
      "fivehundredandtwelve\n",
      "fivehundredandthirteen\n",
      "fivehundredandfourteen\n",
      "fivehundredandfifteen\n",
      "fivehundredandsixteen\n",
      "fivehundredandseventeen\n",
      "fivehundredandeighteen\n",
      "fivehundredandnineteen\n",
      "fivehundredandtwenty\n",
      "fivehundredandtwentyone\n",
      "fivehundredandtwentytwo\n",
      "fivehundredandtwentythree\n",
      "fivehundredandtwentyfour\n",
      "fivehundredandtwentyfive\n",
      "fivehundredandtwentysix\n",
      "fivehundredandtwentyseven\n",
      "fivehundredandtwentyeight\n",
      "fivehundredandtwentynine\n",
      "fivehundredandthirty\n",
      "fivehundredandthirtyone\n",
      "fivehundredandthirtytwo\n",
      "fivehundredandthirtythree\n",
      "fivehundredandthirtyfour\n",
      "fivehundredandthirtyfive\n",
      "fivehundredandthirtysix\n",
      "fivehundredandthirtyseven\n",
      "fivehundredandthirtyeight\n",
      "fivehundredandthirtynine\n",
      "fivehundredandforty\n",
      "fivehundredandfortyone\n",
      "fivehundredandfortytwo\n",
      "fivehundredandfortythree\n",
      "fivehundredandfortyfour\n",
      "fivehundredandfortyfive\n",
      "fivehundredandfortysix\n",
      "fivehundredandfortyseven\n",
      "fivehundredandfortyeight\n",
      "fivehundredandfortynine\n",
      "fivehundredandfifty\n",
      "fivehundredandfiftyone\n",
      "fivehundredandfiftytwo\n",
      "fivehundredandfiftythree\n",
      "fivehundredandfiftyfour\n",
      "fivehundredandfiftyfive\n",
      "fivehundredandfiftysix\n",
      "fivehundredandfiftyseven\n",
      "fivehundredandfiftyeight\n",
      "fivehundredandfiftynine\n",
      "fivehundredandsixty\n",
      "fivehundredandsixtyone\n",
      "fivehundredandsixtytwo\n",
      "fivehundredandsixtythree\n",
      "fivehundredandsixtyfour\n",
      "fivehundredandsixtyfive\n",
      "fivehundredandsixtysix\n",
      "fivehundredandsixtyseven\n",
      "fivehundredandsixtyeight\n",
      "fivehundredandsixtynine\n",
      "fivehundredandseventy\n",
      "fivehundredandseventyone\n",
      "fivehundredandseventytwo\n",
      "fivehundredandseventythree\n",
      "fivehundredandseventyfour\n",
      "fivehundredandseventyfive\n",
      "fivehundredandseventysix\n",
      "fivehundredandseventyseven\n",
      "fivehundredandseventyeight\n",
      "fivehundredandseventynine\n",
      "fivehundredandeighty\n",
      "fivehundredandeightyone\n",
      "fivehundredandeightytwo\n",
      "fivehundredandeightythree\n",
      "fivehundredandeightyfour\n",
      "fivehundredandeightyfive\n",
      "fivehundredandeightysix\n",
      "fivehundredandeightyseven\n",
      "fivehundredandeightyeight\n",
      "fivehundredandeightynine\n",
      "fivehundredandninety\n",
      "fivehundredandninetyone\n",
      "fivehundredandninetytwo\n",
      "fivehundredandninetythree\n",
      "fivehundredandninetyfour\n",
      "fivehundredandninetyfive\n",
      "fivehundredandninetysix\n",
      "fivehundredandninetyseven\n",
      "fivehundredandninetyeight\n",
      "fivehundredandninetynine\n",
      "sixhundred\n",
      "sixhundredandone\n",
      "sixhundredandtwo\n",
      "sixhundredandthree\n",
      "sixhundredandfour\n",
      "sixhundredandfive\n",
      "sixhundredandsix\n",
      "sixhundredandseven\n",
      "sixhundredandeight\n",
      "sixhundredandnine\n",
      "sixhundredandten\n",
      "sixhundredandeleven\n",
      "sixhundredandtwelve\n",
      "sixhundredandthirteen\n",
      "sixhundredandfourteen\n",
      "sixhundredandfifteen\n",
      "sixhundredandsixteen\n",
      "sixhundredandseventeen\n",
      "sixhundredandeighteen\n",
      "sixhundredandnineteen\n",
      "sixhundredandtwenty\n",
      "sixhundredandtwentyone\n",
      "sixhundredandtwentytwo\n",
      "sixhundredandtwentythree\n",
      "sixhundredandtwentyfour\n",
      "sixhundredandtwentyfive\n",
      "sixhundredandtwentysix\n",
      "sixhundredandtwentyseven\n",
      "sixhundredandtwentyeight\n",
      "sixhundredandtwentynine\n",
      "sixhundredandthirty\n",
      "sixhundredandthirtyone\n",
      "sixhundredandthirtytwo\n",
      "sixhundredandthirtythree\n",
      "sixhundredandthirtyfour\n",
      "sixhundredandthirtyfive\n",
      "sixhundredandthirtysix\n",
      "sixhundredandthirtyseven\n",
      "sixhundredandthirtyeight\n",
      "sixhundredandthirtynine\n",
      "sixhundredandforty\n",
      "sixhundredandfortyone\n",
      "sixhundredandfortytwo\n",
      "sixhundredandfortythree\n",
      "sixhundredandfortyfour\n",
      "sixhundredandfortyfive\n",
      "sixhundredandfortysix\n",
      "sixhundredandfortyseven\n",
      "sixhundredandfortyeight\n",
      "sixhundredandfortynine\n",
      "sixhundredandfifty\n",
      "sixhundredandfiftyone\n",
      "sixhundredandfiftytwo\n",
      "sixhundredandfiftythree\n",
      "sixhundredandfiftyfour\n",
      "sixhundredandfiftyfive\n",
      "sixhundredandfiftysix\n",
      "sixhundredandfiftyseven\n",
      "sixhundredandfiftyeight\n",
      "sixhundredandfiftynine\n",
      "sixhundredandsixty\n",
      "sixhundredandsixtyone\n",
      "sixhundredandsixtytwo\n",
      "sixhundredandsixtythree\n",
      "sixhundredandsixtyfour\n",
      "sixhundredandsixtyfive\n",
      "sixhundredandsixtysix\n",
      "sixhundredandsixtyseven\n",
      "sixhundredandsixtyeight\n",
      "sixhundredandsixtynine\n",
      "sixhundredandseventy\n",
      "sixhundredandseventyone\n",
      "sixhundredandseventytwo\n",
      "sixhundredandseventythree\n",
      "sixhundredandseventyfour\n",
      "sixhundredandseventyfive\n",
      "sixhundredandseventysix\n",
      "sixhundredandseventyseven\n",
      "sixhundredandseventyeight\n",
      "sixhundredandseventynine\n",
      "sixhundredandeighty\n",
      "sixhundredandeightyone\n",
      "sixhundredandeightytwo\n",
      "sixhundredandeightythree\n",
      "sixhundredandeightyfour\n",
      "sixhundredandeightyfive\n",
      "sixhundredandeightysix\n",
      "sixhundredandeightyseven\n",
      "sixhundredandeightyeight\n",
      "sixhundredandeightynine\n",
      "sixhundredandninety\n",
      "sixhundredandninetyone\n",
      "sixhundredandninetytwo\n",
      "sixhundredandninetythree\n",
      "sixhundredandninetyfour\n",
      "sixhundredandninetyfive\n",
      "sixhundredandninetysix\n",
      "sixhundredandninetyseven\n",
      "sixhundredandninetyeight\n",
      "sixhundredandninetynine\n",
      "sevenhundred\n",
      "sevenhundredandone\n",
      "sevenhundredandtwo\n",
      "sevenhundredandthree\n",
      "sevenhundredandfour\n",
      "sevenhundredandfive\n",
      "sevenhundredandsix\n",
      "sevenhundredandseven\n",
      "sevenhundredandeight\n",
      "sevenhundredandnine\n",
      "sevenhundredandten\n",
      "sevenhundredandeleven\n",
      "sevenhundredandtwelve\n",
      "sevenhundredandthirteen\n",
      "sevenhundredandfourteen\n",
      "sevenhundredandfifteen\n",
      "sevenhundredandsixteen\n",
      "sevenhundredandseventeen\n",
      "sevenhundredandeighteen\n",
      "sevenhundredandnineteen\n",
      "sevenhundredandtwenty\n",
      "sevenhundredandtwentyone\n",
      "sevenhundredandtwentytwo\n",
      "sevenhundredandtwentythree\n",
      "sevenhundredandtwentyfour\n",
      "sevenhundredandtwentyfive\n",
      "sevenhundredandtwentysix\n",
      "sevenhundredandtwentyseven\n",
      "sevenhundredandtwentyeight\n",
      "sevenhundredandtwentynine\n",
      "sevenhundredandthirty\n",
      "sevenhundredandthirtyone\n",
      "sevenhundredandthirtytwo\n",
      "sevenhundredandthirtythree\n",
      "sevenhundredandthirtyfour\n",
      "sevenhundredandthirtyfive\n",
      "sevenhundredandthirtysix\n",
      "sevenhundredandthirtyseven\n",
      "sevenhundredandthirtyeight\n",
      "sevenhundredandthirtynine\n",
      "sevenhundredandforty\n",
      "sevenhundredandfortyone\n",
      "sevenhundredandfortytwo\n",
      "sevenhundredandfortythree\n",
      "sevenhundredandfortyfour\n",
      "sevenhundredandfortyfive\n",
      "sevenhundredandfortysix\n",
      "sevenhundredandfortyseven\n",
      "sevenhundredandfortyeight\n",
      "sevenhundredandfortynine\n",
      "sevenhundredandfifty\n",
      "sevenhundredandfiftyone\n",
      "sevenhundredandfiftytwo\n",
      "sevenhundredandfiftythree\n",
      "sevenhundredandfiftyfour\n",
      "sevenhundredandfiftyfive\n",
      "sevenhundredandfiftysix\n",
      "sevenhundredandfiftyseven\n",
      "sevenhundredandfiftyeight\n",
      "sevenhundredandfiftynine\n",
      "sevenhundredandsixty\n",
      "sevenhundredandsixtyone\n",
      "sevenhundredandsixtytwo\n",
      "sevenhundredandsixtythree\n",
      "sevenhundredandsixtyfour\n",
      "sevenhundredandsixtyfive\n",
      "sevenhundredandsixtysix\n",
      "sevenhundredandsixtyseven\n",
      "sevenhundredandsixtyeight\n",
      "sevenhundredandsixtynine\n",
      "sevenhundredandseventy\n",
      "sevenhundredandseventyone\n",
      "sevenhundredandseventytwo\n",
      "sevenhundredandseventythree\n",
      "sevenhundredandseventyfour\n",
      "sevenhundredandseventyfive\n",
      "sevenhundredandseventysix\n",
      "sevenhundredandseventyseven\n",
      "sevenhundredandseventyeight\n",
      "sevenhundredandseventynine\n",
      "sevenhundredandeighty\n",
      "sevenhundredandeightyone\n",
      "sevenhundredandeightytwo\n",
      "sevenhundredandeightythree\n",
      "sevenhundredandeightyfour\n",
      "sevenhundredandeightyfive\n",
      "sevenhundredandeightysix\n",
      "sevenhundredandeightyseven\n",
      "sevenhundredandeightyeight\n",
      "sevenhundredandeightynine\n",
      "sevenhundredandninety\n",
      "sevenhundredandninetyone\n",
      "sevenhundredandninetytwo\n",
      "sevenhundredandninetythree\n",
      "sevenhundredandninetyfour\n",
      "sevenhundredandninetyfive\n",
      "sevenhundredandninetysix\n",
      "sevenhundredandninetyseven\n",
      "sevenhundredandninetyeight\n",
      "sevenhundredandninetynine\n",
      "eighthundred\n",
      "eighthundredandone\n",
      "eighthundredandtwo\n",
      "eighthundredandthree\n",
      "eighthundredandfour\n",
      "eighthundredandfive\n",
      "eighthundredandsix\n",
      "eighthundredandseven\n",
      "eighthundredandeight\n",
      "eighthundredandnine\n",
      "eighthundredandten\n",
      "eighthundredandeleven\n",
      "eighthundredandtwelve\n",
      "eighthundredandthirteen\n",
      "eighthundredandfourteen\n",
      "eighthundredandfifteen\n",
      "eighthundredandsixteen\n",
      "eighthundredandseventeen\n",
      "eighthundredandeighteen\n",
      "eighthundredandnineteen\n",
      "eighthundredandtwenty\n",
      "eighthundredandtwentyone\n",
      "eighthundredandtwentytwo\n",
      "eighthundredandtwentythree\n",
      "eighthundredandtwentyfour\n",
      "eighthundredandtwentyfive\n",
      "eighthundredandtwentysix\n",
      "eighthundredandtwentyseven\n",
      "eighthundredandtwentyeight\n",
      "eighthundredandtwentynine\n",
      "eighthundredandthirty\n",
      "eighthundredandthirtyone\n",
      "eighthundredandthirtytwo\n",
      "eighthundredandthirtythree\n",
      "eighthundredandthirtyfour\n",
      "eighthundredandthirtyfive\n",
      "eighthundredandthirtysix\n",
      "eighthundredandthirtyseven\n",
      "eighthundredandthirtyeight\n",
      "eighthundredandthirtynine\n",
      "eighthundredandforty\n",
      "eighthundredandfortyone\n",
      "eighthundredandfortytwo\n",
      "eighthundredandfortythree\n",
      "eighthundredandfortyfour\n",
      "eighthundredandfortyfive\n",
      "eighthundredandfortysix\n",
      "eighthundredandfortyseven\n",
      "eighthundredandfortyeight\n",
      "eighthundredandfortynine\n",
      "eighthundredandfifty\n",
      "eighthundredandfiftyone\n",
      "eighthundredandfiftytwo\n",
      "eighthundredandfiftythree\n",
      "eighthundredandfiftyfour\n",
      "eighthundredandfiftyfive\n",
      "eighthundredandfiftysix\n",
      "eighthundredandfiftyseven\n",
      "eighthundredandfiftyeight\n",
      "eighthundredandfiftynine\n",
      "eighthundredandsixty\n",
      "eighthundredandsixtyone\n",
      "eighthundredandsixtytwo\n",
      "eighthundredandsixtythree\n",
      "eighthundredandsixtyfour\n",
      "eighthundredandsixtyfive\n",
      "eighthundredandsixtysix\n",
      "eighthundredandsixtyseven\n",
      "eighthundredandsixtyeight\n",
      "eighthundredandsixtynine\n",
      "eighthundredandseventy\n",
      "eighthundredandseventyone\n",
      "eighthundredandseventytwo\n",
      "eighthundredandseventythree\n",
      "eighthundredandseventyfour\n",
      "eighthundredandseventyfive\n",
      "eighthundredandseventysix\n",
      "eighthundredandseventyseven\n",
      "eighthundredandseventyeight\n",
      "eighthundredandseventynine\n",
      "eighthundredandeighty\n",
      "eighthundredandeightyone\n",
      "eighthundredandeightytwo\n",
      "eighthundredandeightythree\n",
      "eighthundredandeightyfour\n",
      "eighthundredandeightyfive\n",
      "eighthundredandeightysix\n",
      "eighthundredandeightyseven\n",
      "eighthundredandeightyeight\n",
      "eighthundredandeightynine\n",
      "eighthundredandninety\n",
      "eighthundredandninetyone\n",
      "eighthundredandninetytwo\n",
      "eighthundredandninetythree\n",
      "eighthundredandninetyfour\n",
      "eighthundredandninetyfive\n",
      "eighthundredandninetysix\n",
      "eighthundredandninetyseven\n",
      "eighthundredandninetyeight\n",
      "eighthundredandninetynine\n",
      "ninehundred\n",
      "ninehundredandone\n",
      "ninehundredandtwo\n",
      "ninehundredandthree\n",
      "ninehundredandfour\n",
      "ninehundredandfive\n",
      "ninehundredandsix\n",
      "ninehundredandseven\n",
      "ninehundredandeight\n",
      "ninehundredandnine\n",
      "ninehundredandten\n",
      "ninehundredandeleven\n",
      "ninehundredandtwelve\n",
      "ninehundredandthirteen\n",
      "ninehundredandfourteen\n",
      "ninehundredandfifteen\n",
      "ninehundredandsixteen\n",
      "ninehundredandseventeen\n",
      "ninehundredandeighteen\n",
      "ninehundredandnineteen\n",
      "ninehundredandtwenty\n",
      "ninehundredandtwentyone\n",
      "ninehundredandtwentytwo\n",
      "ninehundredandtwentythree\n",
      "ninehundredandtwentyfour\n",
      "ninehundredandtwentyfive\n",
      "ninehundredandtwentysix\n",
      "ninehundredandtwentyseven\n",
      "ninehundredandtwentyeight\n",
      "ninehundredandtwentynine\n",
      "ninehundredandthirty\n",
      "ninehundredandthirtyone\n",
      "ninehundredandthirtytwo\n",
      "ninehundredandthirtythree\n",
      "ninehundredandthirtyfour\n",
      "ninehundredandthirtyfive\n",
      "ninehundredandthirtysix\n",
      "ninehundredandthirtyseven\n",
      "ninehundredandthirtyeight\n",
      "ninehundredandthirtynine\n",
      "ninehundredandforty\n",
      "ninehundredandfortyone\n",
      "ninehundredandfortytwo\n",
      "ninehundredandfortythree\n",
      "ninehundredandfortyfour\n",
      "ninehundredandfortyfive\n",
      "ninehundredandfortysix\n",
      "ninehundredandfortyseven\n",
      "ninehundredandfortyeight\n",
      "ninehundredandfortynine\n",
      "ninehundredandfifty\n",
      "ninehundredandfiftyone\n",
      "ninehundredandfiftytwo\n",
      "ninehundredandfiftythree\n",
      "ninehundredandfiftyfour\n",
      "ninehundredandfiftyfive\n",
      "ninehundredandfiftysix\n",
      "ninehundredandfiftyseven\n",
      "ninehundredandfiftyeight\n",
      "ninehundredandfiftynine\n",
      "ninehundredandsixty\n",
      "ninehundredandsixtyone\n",
      "ninehundredandsixtytwo\n",
      "ninehundredandsixtythree\n",
      "ninehundredandsixtyfour\n",
      "ninehundredandsixtyfive\n",
      "ninehundredandsixtysix\n",
      "ninehundredandsixtyseven\n",
      "ninehundredandsixtyeight\n",
      "ninehundredandsixtynine\n",
      "ninehundredandseventy\n",
      "ninehundredandseventyone\n",
      "ninehundredandseventytwo\n",
      "ninehundredandseventythree\n",
      "ninehundredandseventyfour\n",
      "ninehundredandseventyfive\n",
      "ninehundredandseventysix\n",
      "ninehundredandseventyseven\n",
      "ninehundredandseventyeight\n",
      "ninehundredandseventynine\n",
      "ninehundredandeighty\n",
      "ninehundredandeightyone\n",
      "ninehundredandeightytwo\n",
      "ninehundredandeightythree\n",
      "ninehundredandeightyfour\n",
      "ninehundredandeightyfive\n",
      "ninehundredandeightysix\n",
      "ninehundredandeightyseven\n",
      "ninehundredandeightyeight\n",
      "ninehundredandeightynine\n",
      "ninehundredandninety\n",
      "ninehundredandninetyone\n",
      "ninehundredandninetytwo\n",
      "ninehundredandninetythree\n",
      "ninehundredandninetyfour\n",
      "ninehundredandninetyfive\n",
      "ninehundredandninetysix\n",
      "ninehundredandninetyseven\n",
      "ninehundredandninetyeight\n",
      "ninehundredandninetynine\n",
      "tenhundred\n"
     ]
    }
   ],
   "source": [
    "s = 0\n",
    "for i in range(1,1001):\n",
    "    print(letter(i))"
   ]
  },
  {
   "cell_type": "code",
   "execution_count": null,
   "id": "30aa0551",
   "metadata": {},
   "outputs": [],
   "source": []
  },
  {
   "cell_type": "code",
   "execution_count": 30,
   "id": "9291aacd",
   "metadata": {},
   "outputs": [
    {
     "data": {
      "text/plain": [
       "[1,\n",
       " 2,\n",
       " 3,\n",
       " 6,\n",
       " 7,\n",
       " 9,\n",
       " 18,\n",
       " 19,\n",
       " 25,\n",
       " 27,\n",
       " 54,\n",
       " 55,\n",
       " 73,\n",
       " 97,\n",
       " 129,\n",
       " 171,\n",
       " 231,\n",
       " 235,\n",
       " 313,\n",
       " 327,\n",
       " 649,\n",
       " 654,\n",
       " 655,\n",
       " 667,\n",
       " 703,\n",
       " 871,\n",
       " 1161,\n",
       " 2223,\n",
       " 2322,\n",
       " 2323,\n",
       " 2463,\n",
       " 2919,\n",
       " 3711,\n",
       " 6171,\n",
       " 10971,\n",
       " 13255,\n",
       " 17647,\n",
       " 17673,\n",
       " 23529,\n",
       " 26623,\n",
       " 34239,\n",
       " 35497,\n",
       " 35655,\n",
       " 52527,\n",
       " 77031,\n",
       " 106239,\n",
       " 142587,\n",
       " 156159,\n",
       " 216367,\n",
       " 230631,\n",
       " 410011,\n",
       " 511935,\n",
       " 626331,\n",
       " 837799,\n",
       " 1117065,\n",
       " 1126015,\n",
       " 1501353,\n",
       " 1564063,\n",
       " 1723519,\n",
       " 2298025,\n",
       " 3064033,\n",
       " 3542887,\n",
       " 3732423]"
      ]
     },
     "execution_count": 30,
     "metadata": {},
     "output_type": "execute_result"
    }
   ],
   "source": [
    "lim = 5000000\n",
    "\n",
    "def count_chain(n):\n",
    "    if n <= lim:\n",
    "        if values[n] != 0:\n",
    "            return values[n]\n",
    "    if n % 2 == 0:\n",
    "        tmp = count_chain(n//2)\n",
    "        if n <= lim:\n",
    "            values[n] = 1 +  tmp\n",
    "        return 1 + tmp\n",
    "    else:  \n",
    "        tmp = count_chain((3*n+1)//2)\n",
    "        if n <= lim:\n",
    "            values[n] = 2 +  tmp\n",
    "        return 2 + tmp\n",
    "\n",
    "longest_chain = 0\n",
    "answer = -1\n",
    "values = [0,1] + [0] * (lim-1)\n",
    "aist = [1]\n",
    "for i in range(2,lim+1):\n",
    "    tmp = count_chain(i)\n",
    "    if tmp >= longest_chain:\n",
    "        longest_chain = tmp\n",
    "        aist.append(i)\n",
    "aist"
   ]
  },
  {
   "cell_type": "code",
   "execution_count": 43,
   "id": "2d897231",
   "metadata": {},
   "outputs": [],
   "source": [
    "for i in range(len(aist)):\n",
    "    if aist[i] > 4000000:\n",
    "        print(aist[i-1])\n",
    "        break"
   ]
  },
  {
   "cell_type": "code",
   "execution_count": 28,
   "id": "1d5f9c39",
   "metadata": {},
   "outputs": [],
   "source": [
    "c = [1]\n",
    "def collatz(_):\n",
    "    cx = [0, 1] + [0]*5000000\n",
    "    def d(n):\n",
    "        if n>5000000: return d((3*n + 1)//2 if n&1 else n//2) + 1\n",
    "        if not cx[n]: cx[n] = d((3*n + 1)//2 if n&1 else n//2) + 1\n",
    "        return cx[n]\n",
    "    m = 0\n",
    "    for n in range(2, 5000001):\n",
    "        q = d(n)\n",
    "        if q>=m: c.append(n); m = q\n",
    "    return c[::-1]\n",
    "\n",
    "c = collatz(0)"
   ]
  },
  {
   "cell_type": "code",
   "execution_count": 29,
   "id": "c7b4ce84",
   "metadata": {},
   "outputs": [
    {
     "data": {
      "text/plain": [
       "[3732423,\n",
       " 3542887,\n",
       " 3064033,\n",
       " 2298025,\n",
       " 1723519,\n",
       " 1564063,\n",
       " 1501353,\n",
       " 1126015,\n",
       " 1117065,\n",
       " 837799,\n",
       " 626331,\n",
       " 511935,\n",
       " 410011,\n",
       " 230631,\n",
       " 216367,\n",
       " 156159,\n",
       " 142587,\n",
       " 106239,\n",
       " 77031,\n",
       " 52527,\n",
       " 35655,\n",
       " 35497,\n",
       " 34239,\n",
       " 26623,\n",
       " 23529,\n",
       " 17673,\n",
       " 17647,\n",
       " 13255,\n",
       " 10971,\n",
       " 6171,\n",
       " 3711,\n",
       " 2919,\n",
       " 2463,\n",
       " 2323,\n",
       " 2322,\n",
       " 2223,\n",
       " 1161,\n",
       " 871,\n",
       " 703,\n",
       " 667,\n",
       " 655,\n",
       " 654,\n",
       " 649,\n",
       " 327,\n",
       " 313,\n",
       " 235,\n",
       " 231,\n",
       " 171,\n",
       " 129,\n",
       " 97,\n",
       " 73,\n",
       " 55,\n",
       " 54,\n",
       " 27,\n",
       " 25,\n",
       " 19,\n",
       " 18,\n",
       " 9,\n",
       " 7,\n",
       " 6,\n",
       " 3,\n",
       " 2,\n",
       " 1]"
      ]
     },
     "execution_count": 29,
     "metadata": {},
     "output_type": "execute_result"
    }
   ],
   "source": [
    "c"
   ]
  },
  {
   "cell_type": "code",
   "execution_count": 11,
   "id": "28f04ef7",
   "metadata": {},
   "outputs": [
    {
     "data": {
      "text/plain": [
       "28"
      ]
     },
     "execution_count": 11,
     "metadata": {},
     "output_type": "execute_result"
    }
   ],
   "source": [
    "cist[67]"
   ]
  },
  {
   "cell_type": "code",
   "execution_count": 12,
   "id": "2e991bd6",
   "metadata": {},
   "outputs": [
    {
     "data": {
      "text/plain": [
       "[0,\n",
       " 1,\n",
       " 2,\n",
       " 0,\n",
       " 3,\n",
       " 6,\n",
       " 0,\n",
       " 0,\n",
       " 4,\n",
       " 0,\n",
       " 7,\n",
       " 15,\n",
       " 0,\n",
       " 10,\n",
       " 0,\n",
       " 0,\n",
       " 0,\n",
       " 13,\n",
       " 0,\n",
       " 21,\n",
       " 8,\n",
       " 0,\n",
       " 16,\n",
       " 0,\n",
       " 0,\n",
       " 0,\n",
       " 11,\n",
       " 0,\n",
       " 0,\n",
       " 19,\n",
       " 0,\n",
       " 0,\n",
       " 0,\n",
       " 0,\n",
       " 0,\n",
       " 0,\n",
       " 0,\n",
       " 0,\n",
       " 22,\n",
       " 0,\n",
       " 0,\n",
       " 0,\n",
       " 0,\n",
       " 0,\n",
       " 17,\n",
       " 0,\n",
       " 0,\n",
       " 0,\n",
       " 0,\n",
       " 0,\n",
       " 0,\n",
       " 0,\n",
       " 0,\n",
       " 0,\n",
       " 0,\n",
       " 0,\n",
       " 0,\n",
       " 0,\n",
       " 0,\n",
       " 0,\n",
       " 0,\n",
       " 0,\n",
       " 0,\n",
       " 0,\n",
       " 0,\n",
       " 0,\n",
       " 0,\n",
       " 28,\n",
       " 0,\n",
       " 0,\n",
       " 0,\n",
       " 0,\n",
       " 0,\n",
       " 0,\n",
       " 0,\n",
       " 0,\n",
       " 23,\n",
       " 0,\n",
       " 0,\n",
       " 0,\n",
       " 0,\n",
       " 0,\n",
       " 0,\n",
       " 0,\n",
       " 0,\n",
       " 0,\n",
       " 0,\n",
       " 0,\n",
       " 0,\n",
       " 0,\n",
       " 0,\n",
       " 0,\n",
       " 0,\n",
       " 0,\n",
       " 0,\n",
       " 0,\n",
       " 0,\n",
       " 0,\n",
       " 0,\n",
       " 0,\n",
       " 0]"
      ]
     },
     "execution_count": 12,
     "metadata": {},
     "output_type": "execute_result"
    }
   ],
   "source": [
    "values"
   ]
  },
  {
   "cell_type": "code",
   "execution_count": 119,
   "id": "81b60357",
   "metadata": {},
   "outputs": [
    {
     "name": "stdout",
     "output_type": "stream",
     "text": [
      "[67, 202, 101, 304, 152, 76, 38, 19, 58, 29, 88, 44, 22, 11, 34, 17, 52, 26, 13, 40, 20, 10, 5, 16, 8, 4, 2, 1]\n"
     ]
    },
    {
     "data": {
      "text/plain": [
       "28"
      ]
     },
     "execution_count": 119,
     "metadata": {},
     "output_type": "execute_result"
    }
   ],
   "source": [
    "collatz(67)"
   ]
  },
  {
   "cell_type": "code",
   "execution_count": 120,
   "id": "26a330b6",
   "metadata": {},
   "outputs": [
    {
     "name": "stdout",
     "output_type": "stream",
     "text": [
      "[152, 76, 38, 19, 58, 29, 88, 44, 22, 11, 34, 17, 52, 26, 13, 40, 20, 10, 5, 16, 8, 4, 2, 1]\n"
     ]
    },
    {
     "data": {
      "text/plain": [
       "24"
      ]
     },
     "execution_count": 120,
     "metadata": {},
     "output_type": "execute_result"
    }
   ],
   "source": [
    "collatz(152)"
   ]
  },
  {
   "cell_type": "code",
   "execution_count": 131,
   "id": "5b74186f",
   "metadata": {},
   "outputs": [],
   "source": [
    "def fact2(x): # return list of factors of x\n",
    "    fist=[(1,x)]\n",
    "    for i in range(2,int(x**0.5)+1):\n",
    "        if x%i==0:\n",
    "            fist.append((i,int(x/i)))\n",
    "    return fist"
   ]
  },
  {
   "cell_type": "code",
   "execution_count": 132,
   "id": "67f99bf1",
   "metadata": {},
   "outputs": [
    {
     "data": {
      "text/plain": [
       "[(1, 36), (2, 18), (3, 12), (4, 9), (6, 6)]"
      ]
     },
     "execution_count": 132,
     "metadata": {},
     "output_type": "execute_result"
    }
   ],
   "source": [
    "fact2(36)"
   ]
  },
  {
   "cell_type": "code",
   "execution_count": 137,
   "id": "591fbdf9",
   "metadata": {},
   "outputs": [],
   "source": [
    "def fact(x): # return list of factors of x\n",
    "    fist=[1,x]\n",
    "    for i in range(2,int(x**0.5)+1):\n",
    "        if x%i==0:\n",
    "            fist.append(i)\n",
    "            fist.append(int(x/i))\n",
    "    if int(x**0.5)**2==x:\n",
    "        fist.pop()\n",
    "    fist.sort()\n",
    "    return fist"
   ]
  },
  {
   "cell_type": "code",
   "execution_count": 144,
   "id": "62265b06",
   "metadata": {},
   "outputs": [],
   "source": [
    "\n",
    " "
   ]
  },
  {
   "cell_type": "code",
   "execution_count": 145,
   "id": "dfe29a37",
   "metadata": {},
   "outputs": [
    {
     "name": "stdout",
     "output_type": "stream",
     "text": [
      "375 200 425\n",
      "375 200 425\n",
      "31875000\n"
     ]
    }
   ],
   "source": [
    "hack9(1000)"
   ]
  },
  {
   "cell_type": "code",
   "execution_count": 159,
   "id": "c772fac7",
   "metadata": {},
   "outputs": [],
   "source": [
    "pist = sieve(100)"
   ]
  },
  {
   "cell_type": "code",
   "execution_count": 162,
   "id": "c8c07421",
   "metadata": {},
   "outputs": [
    {
     "data": {
      "text/plain": [
       "10"
      ]
     },
     "execution_count": 162,
     "metadata": {},
     "output_type": "execute_result"
    }
   ],
   "source": [
    "s = 0\n",
    "for i in range(6):\n",
    "    if pist[i]:\n",
    "        s+= i\n",
    "s"
   ]
  },
  {
   "cell_type": "code",
   "execution_count": null,
   "id": "9a1071df",
   "metadata": {},
   "outputs": [],
   "source": []
  }
 ],
 "metadata": {
  "kernelspec": {
   "display_name": "Python 3 (ipykernel)",
   "language": "python",
   "name": "python3"
  },
  "language_info": {
   "codemirror_mode": {
    "name": "ipython",
    "version": 3
   },
   "file_extension": ".py",
   "mimetype": "text/x-python",
   "name": "python",
   "nbconvert_exporter": "python",
   "pygments_lexer": "ipython3",
   "version": "3.9.12"
  }
 },
 "nbformat": 4,
 "nbformat_minor": 5
}
